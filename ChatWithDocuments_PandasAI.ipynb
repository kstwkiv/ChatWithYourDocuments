{
 "cells": [
  {
   "cell_type": "code",
   "execution_count": 13,
   "id": "6b7a28e9-7b57-4f62-93c7-e27cdebf5d5e",
   "metadata": {},
   "outputs": [
    {
     "name": "stdout",
     "output_type": "stream",
     "text": [
      "Requirement already satisfied: groq in c:\\users\\admin\\anaconda3\\lib\\site-packages (0.13.1)\n",
      "Requirement already satisfied: anyio<5,>=3.5.0 in c:\\users\\admin\\anaconda3\\lib\\site-packages (from groq) (4.2.0)\n",
      "Requirement already satisfied: distro<2,>=1.7.0 in c:\\users\\admin\\anaconda3\\lib\\site-packages (from groq) (1.8.0)\n",
      "Requirement already satisfied: httpx<1,>=0.23.0 in c:\\users\\admin\\anaconda3\\lib\\site-packages (from groq) (0.28.1)\n",
      "Requirement already satisfied: pydantic<3,>=1.9.0 in c:\\users\\admin\\anaconda3\\lib\\site-packages (from groq) (2.10.4)\n",
      "Requirement already satisfied: sniffio in c:\\users\\admin\\anaconda3\\lib\\site-packages (from groq) (1.3.0)\n",
      "Requirement already satisfied: typing-extensions<5,>=4.10 in c:\\users\\admin\\anaconda3\\lib\\site-packages (from groq) (4.12.2)\n",
      "Requirement already satisfied: idna>=2.8 in c:\\users\\admin\\anaconda3\\lib\\site-packages (from anyio<5,>=3.5.0->groq) (3.4)\n",
      "Requirement already satisfied: certifi in c:\\users\\admin\\anaconda3\\lib\\site-packages (from httpx<1,>=0.23.0->groq) (2024.2.2)\n",
      "Requirement already satisfied: httpcore==1.* in c:\\users\\admin\\anaconda3\\lib\\site-packages (from httpx<1,>=0.23.0->groq) (1.0.7)\n",
      "Requirement already satisfied: h11<0.15,>=0.13 in c:\\users\\admin\\anaconda3\\lib\\site-packages (from httpcore==1.*->httpx<1,>=0.23.0->groq) (0.14.0)\n",
      "Requirement already satisfied: annotated-types>=0.6.0 in c:\\users\\admin\\anaconda3\\lib\\site-packages (from pydantic<3,>=1.9.0->groq) (0.7.0)\n",
      "Requirement already satisfied: pydantic-core==2.27.2 in c:\\users\\admin\\anaconda3\\lib\\site-packages (from pydantic<3,>=1.9.0->groq) (2.27.2)\n"
     ]
    }
   ],
   "source": [
    "!pip install groq"
   ]
  },
  {
   "cell_type": "code",
   "execution_count": 14,
   "id": "235903af-697b-4b7c-8006-0983d897da63",
   "metadata": {},
   "outputs": [
    {
     "name": "stdout",
     "output_type": "stream",
     "text": [
      "Requirement already satisfied: langchain-groq in c:\\users\\admin\\anaconda3\\lib\\site-packages (0.2.2)\n",
      "Requirement already satisfied: groq<1,>=0.4.1 in c:\\users\\admin\\anaconda3\\lib\\site-packages (from langchain-groq) (0.13.1)\n",
      "Requirement already satisfied: langchain-core<0.4.0,>=0.3.27 in c:\\users\\admin\\anaconda3\\lib\\site-packages (from langchain-groq) (0.3.28)\n",
      "Requirement already satisfied: anyio<5,>=3.5.0 in c:\\users\\admin\\anaconda3\\lib\\site-packages (from groq<1,>=0.4.1->langchain-groq) (4.2.0)\n",
      "Requirement already satisfied: distro<2,>=1.7.0 in c:\\users\\admin\\anaconda3\\lib\\site-packages (from groq<1,>=0.4.1->langchain-groq) (1.8.0)\n",
      "Requirement already satisfied: httpx<1,>=0.23.0 in c:\\users\\admin\\anaconda3\\lib\\site-packages (from groq<1,>=0.4.1->langchain-groq) (0.28.1)\n",
      "Requirement already satisfied: pydantic<3,>=1.9.0 in c:\\users\\admin\\anaconda3\\lib\\site-packages (from groq<1,>=0.4.1->langchain-groq) (2.10.4)\n",
      "Requirement already satisfied: sniffio in c:\\users\\admin\\anaconda3\\lib\\site-packages (from groq<1,>=0.4.1->langchain-groq) (1.3.0)\n",
      "Requirement already satisfied: typing-extensions<5,>=4.10 in c:\\users\\admin\\anaconda3\\lib\\site-packages (from groq<1,>=0.4.1->langchain-groq) (4.12.2)\n",
      "Requirement already satisfied: PyYAML>=5.3 in c:\\users\\admin\\anaconda3\\lib\\site-packages (from langchain-core<0.4.0,>=0.3.27->langchain-groq) (6.0.1)\n",
      "Requirement already satisfied: jsonpatch<2.0,>=1.33 in c:\\users\\admin\\anaconda3\\lib\\site-packages (from langchain-core<0.4.0,>=0.3.27->langchain-groq) (1.33)\n",
      "Requirement already satisfied: langsmith<0.3,>=0.1.125 in c:\\users\\admin\\anaconda3\\lib\\site-packages (from langchain-core<0.4.0,>=0.3.27->langchain-groq) (0.2.6)\n",
      "Requirement already satisfied: packaging<25,>=23.2 in c:\\users\\admin\\anaconda3\\lib\\site-packages (from langchain-core<0.4.0,>=0.3.27->langchain-groq) (24.2)\n",
      "Requirement already satisfied: tenacity!=8.4.0,<10.0.0,>=8.1.0 in c:\\users\\admin\\anaconda3\\lib\\site-packages (from langchain-core<0.4.0,>=0.3.27->langchain-groq) (8.2.2)\n",
      "Requirement already satisfied: idna>=2.8 in c:\\users\\admin\\anaconda3\\lib\\site-packages (from anyio<5,>=3.5.0->groq<1,>=0.4.1->langchain-groq) (3.4)\n",
      "Requirement already satisfied: certifi in c:\\users\\admin\\anaconda3\\lib\\site-packages (from httpx<1,>=0.23.0->groq<1,>=0.4.1->langchain-groq) (2024.2.2)\n",
      "Requirement already satisfied: httpcore==1.* in c:\\users\\admin\\anaconda3\\lib\\site-packages (from httpx<1,>=0.23.0->groq<1,>=0.4.1->langchain-groq) (1.0.7)\n",
      "Requirement already satisfied: h11<0.15,>=0.13 in c:\\users\\admin\\anaconda3\\lib\\site-packages (from httpcore==1.*->httpx<1,>=0.23.0->groq<1,>=0.4.1->langchain-groq) (0.14.0)\n",
      "Requirement already satisfied: jsonpointer>=1.9 in c:\\users\\admin\\anaconda3\\lib\\site-packages (from jsonpatch<2.0,>=1.33->langchain-core<0.4.0,>=0.3.27->langchain-groq) (2.1)\n",
      "Requirement already satisfied: orjson<4.0.0,>=3.9.14 in c:\\users\\admin\\anaconda3\\lib\\site-packages (from langsmith<0.3,>=0.1.125->langchain-core<0.4.0,>=0.3.27->langchain-groq) (3.10.12)\n",
      "Requirement already satisfied: requests<3,>=2 in c:\\users\\admin\\anaconda3\\lib\\site-packages (from langsmith<0.3,>=0.1.125->langchain-core<0.4.0,>=0.3.27->langchain-groq) (2.31.0)\n",
      "Requirement already satisfied: requests-toolbelt<2.0.0,>=1.0.0 in c:\\users\\admin\\anaconda3\\lib\\site-packages (from langsmith<0.3,>=0.1.125->langchain-core<0.4.0,>=0.3.27->langchain-groq) (1.0.0)\n",
      "Requirement already satisfied: annotated-types>=0.6.0 in c:\\users\\admin\\anaconda3\\lib\\site-packages (from pydantic<3,>=1.9.0->groq<1,>=0.4.1->langchain-groq) (0.7.0)\n",
      "Requirement already satisfied: pydantic-core==2.27.2 in c:\\users\\admin\\anaconda3\\lib\\site-packages (from pydantic<3,>=1.9.0->groq<1,>=0.4.1->langchain-groq) (2.27.2)\n",
      "Requirement already satisfied: charset-normalizer<4,>=2 in c:\\users\\admin\\anaconda3\\lib\\site-packages (from requests<3,>=2->langsmith<0.3,>=0.1.125->langchain-core<0.4.0,>=0.3.27->langchain-groq) (2.0.4)\n",
      "Requirement already satisfied: urllib3<3,>=1.21.1 in c:\\users\\admin\\anaconda3\\lib\\site-packages (from requests<3,>=2->langsmith<0.3,>=0.1.125->langchain-core<0.4.0,>=0.3.27->langchain-groq) (2.0.7)\n"
     ]
    }
   ],
   "source": [
    "!pip install langchain-groq"
   ]
  },
  {
   "cell_type": "code",
   "execution_count": 15,
   "id": "d6f4a8b0-1345-4154-94a5-41f1912e6ab9",
   "metadata": {},
   "outputs": [
    {
     "name": "stdout",
     "output_type": "stream",
     "text": [
      "Requirement already satisfied: python-dotenv in c:\\users\\admin\\anaconda3\\lib\\site-packages (0.21.0)\n"
     ]
    }
   ],
   "source": [
    "!pip install python-dotenv"
   ]
  },
  {
   "cell_type": "code",
   "execution_count": 16,
   "id": "533ab6f3-4eae-4132-b36c-ce584428a34c",
   "metadata": {},
   "outputs": [
    {
     "data": {
      "text/plain": [
       "True"
      ]
     },
     "execution_count": 16,
     "metadata": {},
     "output_type": "execute_result"
    }
   ],
   "source": [
    "from dotenv import load_dotenv\n",
    "load_dotenv()"
   ]
  },
  {
   "cell_type": "code",
   "execution_count": 18,
   "id": "cd5a6f76-2399-4341-98b3-349a9db059e5",
   "metadata": {},
   "outputs": [],
   "source": [
    "import os"
   ]
  },
  {
   "cell_type": "code",
   "execution_count": 19,
   "id": "11b91cc5-7436-4a92-ab11-a6081a50eb45",
   "metadata": {},
   "outputs": [],
   "source": [
    "from groq import Groq"
   ]
  },
  {
   "cell_type": "code",
   "execution_count": 20,
   "id": "1f488e2b-e372-47ee-8507-192f5d7ee540",
   "metadata": {},
   "outputs": [],
   "source": [
    "client = Groq(api_key=os.getenv(\"GROQ_API_KEY\"))"
   ]
  },
  {
   "cell_type": "code",
   "execution_count": 21,
   "id": "b4668f06-3564-49c2-bf59-819552081f07",
   "metadata": {},
   "outputs": [],
   "source": [
    "from langchain_groq import ChatGroq"
   ]
  },
  {
   "cell_type": "code",
   "execution_count": 22,
   "id": "b6c04095-0a40-4c02-b135-8bb3e0fb00fe",
   "metadata": {},
   "outputs": [],
   "source": [
    "llm = ChatGroq(model_name=\"llama3-70b-8192\")"
   ]
  },
  {
   "cell_type": "code",
   "execution_count": 23,
   "id": "1daedc51-fb26-4903-b0bc-cb65123b2fba",
   "metadata": {},
   "outputs": [
    {
     "data": {
      "text/plain": [
       "AIMessage(content='An equation is a statement that says two things are equal. It is a mathematical expression that consists of two parts, separated by an equals sign (=), which indicates that the two parts have the same value.\\n\\nIn an equation, the two parts are typically called the left-hand side (LHS) and the right-hand side (RHS). The LHS and RHS can be numbers, variables, or algebraic expressions.\\n\\nFor example:\\n\\n2 + 3 = 5\\n\\nIn this equation, the LHS is \"2 + 3\" and the RHS is \"5\". The equation states that the result of adding 2 and 3 is equal to 5.\\n\\nEquations can be simple, like the one above, or complex, involving multiple variables and operations. They can be used to:\\n\\n1. Represent relationships between variables\\n2. Model real-world situations\\n3. Solve problems\\n4. Make predictions\\n5. Calculate unknown values\\n\\nSome common types of equations include:\\n\\n* Linear equations (e.g., 2x + 3 = 5)\\n* Quadratic equations (e.g., x^2 + 4x + 4 = 0)\\n* Algebraic equations (e.g., x^2 + 2x - 3 = 0)\\n* Differential equations (e.g., dy/dx = 2x)\\n\\nEquations can be solved using various methods, such as:\\n\\n1. Basic arithmetic operations (e.g., addition, subtraction, multiplication, division)\\n2. Algebraic manipulations (e.g., factoring, rearranging)\\n3. Graphical methods (e.g., plotting, graphing)\\n4. Numerical methods (e.g., approximation, iteration)\\n\\nIn summary, an equation is a statement that says two things are equal, and it is a fundamental concept in mathematics, used to represent relationships, solve problems, and make predictions.', additional_kwargs={}, response_metadata={'token_usage': {'completion_tokens': 383, 'prompt_tokens': 15, 'total_tokens': 398, 'completion_time': 1.094285714, 'prompt_time': 0.003307778, 'queue_time': 0.01745333, 'total_time': 1.0975934920000001}, 'model_name': 'llama3-70b-8192', 'system_fingerprint': 'fp_753a4aecf6', 'finish_reason': 'stop', 'logprobs': None}, id='run-918d0285-b960-4d88-9e26-805ea21ddb4b-0', usage_metadata={'input_tokens': 15, 'output_tokens': 383, 'total_tokens': 398})"
      ]
     },
     "execution_count": 23,
     "metadata": {},
     "output_type": "execute_result"
    }
   ],
   "source": [
    "llm.invoke(\"What is an equation?\")"
   ]
  },
  {
   "cell_type": "code",
   "execution_count": 24,
   "id": "1f74bd90-dfa7-4a91-b15b-5ce068e2bc72",
   "metadata": {},
   "outputs": [],
   "source": [
    "from langchain.agents.agent_types import AgentType"
   ]
  },
  {
   "cell_type": "code",
   "execution_count": 25,
   "id": "7020edd3-4382-4e15-b502-ae683883aec3",
   "metadata": {},
   "outputs": [
    {
     "name": "stdout",
     "output_type": "stream",
     "text": [
      "Collecting langchain-experimental\n",
      "  Downloading langchain_experimental-0.3.4-py3-none-any.whl.metadata (1.7 kB)\n",
      "Requirement already satisfied: langchain-community<0.4.0,>=0.3.0 in c:\\users\\admin\\anaconda3\\lib\\site-packages (from langchain-experimental) (0.3.13)\n",
      "Requirement already satisfied: langchain-core<0.4.0,>=0.3.28 in c:\\users\\admin\\anaconda3\\lib\\site-packages (from langchain-experimental) (0.3.28)\n",
      "Requirement already satisfied: PyYAML>=5.3 in c:\\users\\admin\\anaconda3\\lib\\site-packages (from langchain-community<0.4.0,>=0.3.0->langchain-experimental) (6.0.1)\n",
      "Requirement already satisfied: SQLAlchemy<3,>=1.4 in c:\\users\\admin\\anaconda3\\lib\\site-packages (from langchain-community<0.4.0,>=0.3.0->langchain-experimental) (2.0.25)\n",
      "Requirement already satisfied: aiohttp<4.0.0,>=3.8.3 in c:\\users\\admin\\anaconda3\\lib\\site-packages (from langchain-community<0.4.0,>=0.3.0->langchain-experimental) (3.9.3)\n",
      "Requirement already satisfied: dataclasses-json<0.7,>=0.5.7 in c:\\users\\admin\\anaconda3\\lib\\site-packages (from langchain-community<0.4.0,>=0.3.0->langchain-experimental) (0.6.7)\n",
      "Requirement already satisfied: httpx-sse<0.5.0,>=0.4.0 in c:\\users\\admin\\anaconda3\\lib\\site-packages (from langchain-community<0.4.0,>=0.3.0->langchain-experimental) (0.4.0)\n",
      "Requirement already satisfied: langchain<0.4.0,>=0.3.13 in c:\\users\\admin\\anaconda3\\lib\\site-packages (from langchain-community<0.4.0,>=0.3.0->langchain-experimental) (0.3.13)\n",
      "Requirement already satisfied: langsmith<0.3,>=0.1.125 in c:\\users\\admin\\anaconda3\\lib\\site-packages (from langchain-community<0.4.0,>=0.3.0->langchain-experimental) (0.2.6)\n",
      "Requirement already satisfied: numpy<2,>=1.22.4 in c:\\users\\admin\\anaconda3\\lib\\site-packages (from langchain-community<0.4.0,>=0.3.0->langchain-experimental) (1.26.4)\n",
      "Requirement already satisfied: pydantic-settings<3.0.0,>=2.4.0 in c:\\users\\admin\\anaconda3\\lib\\site-packages (from langchain-community<0.4.0,>=0.3.0->langchain-experimental) (2.7.0)\n",
      "Requirement already satisfied: requests<3,>=2 in c:\\users\\admin\\anaconda3\\lib\\site-packages (from langchain-community<0.4.0,>=0.3.0->langchain-experimental) (2.31.0)\n",
      "Requirement already satisfied: tenacity!=8.4.0,<10,>=8.1.0 in c:\\users\\admin\\anaconda3\\lib\\site-packages (from langchain-community<0.4.0,>=0.3.0->langchain-experimental) (8.2.2)\n",
      "Requirement already satisfied: jsonpatch<2.0,>=1.33 in c:\\users\\admin\\anaconda3\\lib\\site-packages (from langchain-core<0.4.0,>=0.3.28->langchain-experimental) (1.33)\n",
      "Requirement already satisfied: packaging<25,>=23.2 in c:\\users\\admin\\anaconda3\\lib\\site-packages (from langchain-core<0.4.0,>=0.3.28->langchain-experimental) (24.2)\n",
      "Requirement already satisfied: pydantic<3.0.0,>=2.5.2 in c:\\users\\admin\\anaconda3\\lib\\site-packages (from langchain-core<0.4.0,>=0.3.28->langchain-experimental) (2.10.4)\n",
      "Requirement already satisfied: typing-extensions>=4.7 in c:\\users\\admin\\anaconda3\\lib\\site-packages (from langchain-core<0.4.0,>=0.3.28->langchain-experimental) (4.12.2)\n",
      "Requirement already satisfied: aiosignal>=1.1.2 in c:\\users\\admin\\anaconda3\\lib\\site-packages (from aiohttp<4.0.0,>=3.8.3->langchain-community<0.4.0,>=0.3.0->langchain-experimental) (1.2.0)\n",
      "Requirement already satisfied: attrs>=17.3.0 in c:\\users\\admin\\anaconda3\\lib\\site-packages (from aiohttp<4.0.0,>=3.8.3->langchain-community<0.4.0,>=0.3.0->langchain-experimental) (23.1.0)\n",
      "Requirement already satisfied: frozenlist>=1.1.1 in c:\\users\\admin\\anaconda3\\lib\\site-packages (from aiohttp<4.0.0,>=3.8.3->langchain-community<0.4.0,>=0.3.0->langchain-experimental) (1.4.0)\n",
      "Requirement already satisfied: multidict<7.0,>=4.5 in c:\\users\\admin\\anaconda3\\lib\\site-packages (from aiohttp<4.0.0,>=3.8.3->langchain-community<0.4.0,>=0.3.0->langchain-experimental) (6.0.4)\n",
      "Requirement already satisfied: yarl<2.0,>=1.0 in c:\\users\\admin\\anaconda3\\lib\\site-packages (from aiohttp<4.0.0,>=3.8.3->langchain-community<0.4.0,>=0.3.0->langchain-experimental) (1.9.3)\n",
      "Requirement already satisfied: marshmallow<4.0.0,>=3.18.0 in c:\\users\\admin\\anaconda3\\lib\\site-packages (from dataclasses-json<0.7,>=0.5.7->langchain-community<0.4.0,>=0.3.0->langchain-experimental) (3.23.2)\n",
      "Requirement already satisfied: typing-inspect<1,>=0.4.0 in c:\\users\\admin\\anaconda3\\lib\\site-packages (from dataclasses-json<0.7,>=0.5.7->langchain-community<0.4.0,>=0.3.0->langchain-experimental) (0.9.0)\n",
      "Requirement already satisfied: jsonpointer>=1.9 in c:\\users\\admin\\anaconda3\\lib\\site-packages (from jsonpatch<2.0,>=1.33->langchain-core<0.4.0,>=0.3.28->langchain-experimental) (2.1)\n",
      "Requirement already satisfied: langchain-text-splitters<0.4.0,>=0.3.3 in c:\\users\\admin\\anaconda3\\lib\\site-packages (from langchain<0.4.0,>=0.3.13->langchain-community<0.4.0,>=0.3.0->langchain-experimental) (0.3.4)\n",
      "Requirement already satisfied: httpx<1,>=0.23.0 in c:\\users\\admin\\anaconda3\\lib\\site-packages (from langsmith<0.3,>=0.1.125->langchain-community<0.4.0,>=0.3.0->langchain-experimental) (0.28.1)\n",
      "Requirement already satisfied: orjson<4.0.0,>=3.9.14 in c:\\users\\admin\\anaconda3\\lib\\site-packages (from langsmith<0.3,>=0.1.125->langchain-community<0.4.0,>=0.3.0->langchain-experimental) (3.10.12)\n",
      "Requirement already satisfied: requests-toolbelt<2.0.0,>=1.0.0 in c:\\users\\admin\\anaconda3\\lib\\site-packages (from langsmith<0.3,>=0.1.125->langchain-community<0.4.0,>=0.3.0->langchain-experimental) (1.0.0)\n",
      "Requirement already satisfied: annotated-types>=0.6.0 in c:\\users\\admin\\anaconda3\\lib\\site-packages (from pydantic<3.0.0,>=2.5.2->langchain-core<0.4.0,>=0.3.28->langchain-experimental) (0.7.0)\n",
      "Requirement already satisfied: pydantic-core==2.27.2 in c:\\users\\admin\\anaconda3\\lib\\site-packages (from pydantic<3.0.0,>=2.5.2->langchain-core<0.4.0,>=0.3.28->langchain-experimental) (2.27.2)\n",
      "Requirement already satisfied: python-dotenv>=0.21.0 in c:\\users\\admin\\anaconda3\\lib\\site-packages (from pydantic-settings<3.0.0,>=2.4.0->langchain-community<0.4.0,>=0.3.0->langchain-experimental) (0.21.0)\n",
      "Requirement already satisfied: charset-normalizer<4,>=2 in c:\\users\\admin\\anaconda3\\lib\\site-packages (from requests<3,>=2->langchain-community<0.4.0,>=0.3.0->langchain-experimental) (2.0.4)\n",
      "Requirement already satisfied: idna<4,>=2.5 in c:\\users\\admin\\anaconda3\\lib\\site-packages (from requests<3,>=2->langchain-community<0.4.0,>=0.3.0->langchain-experimental) (3.4)\n",
      "Requirement already satisfied: urllib3<3,>=1.21.1 in c:\\users\\admin\\anaconda3\\lib\\site-packages (from requests<3,>=2->langchain-community<0.4.0,>=0.3.0->langchain-experimental) (2.0.7)\n",
      "Requirement already satisfied: certifi>=2017.4.17 in c:\\users\\admin\\anaconda3\\lib\\site-packages (from requests<3,>=2->langchain-community<0.4.0,>=0.3.0->langchain-experimental) (2024.2.2)\n",
      "Requirement already satisfied: greenlet!=0.4.17 in c:\\users\\admin\\anaconda3\\lib\\site-packages (from SQLAlchemy<3,>=1.4->langchain-community<0.4.0,>=0.3.0->langchain-experimental) (3.0.1)\n",
      "Requirement already satisfied: anyio in c:\\users\\admin\\anaconda3\\lib\\site-packages (from httpx<1,>=0.23.0->langsmith<0.3,>=0.1.125->langchain-community<0.4.0,>=0.3.0->langchain-experimental) (4.2.0)\n",
      "Requirement already satisfied: httpcore==1.* in c:\\users\\admin\\anaconda3\\lib\\site-packages (from httpx<1,>=0.23.0->langsmith<0.3,>=0.1.125->langchain-community<0.4.0,>=0.3.0->langchain-experimental) (1.0.7)\n",
      "Requirement already satisfied: h11<0.15,>=0.13 in c:\\users\\admin\\anaconda3\\lib\\site-packages (from httpcore==1.*->httpx<1,>=0.23.0->langsmith<0.3,>=0.1.125->langchain-community<0.4.0,>=0.3.0->langchain-experimental) (0.14.0)\n",
      "Requirement already satisfied: mypy-extensions>=0.3.0 in c:\\users\\admin\\anaconda3\\lib\\site-packages (from typing-inspect<1,>=0.4.0->dataclasses-json<0.7,>=0.5.7->langchain-community<0.4.0,>=0.3.0->langchain-experimental) (1.0.0)\n",
      "Requirement already satisfied: sniffio>=1.1 in c:\\users\\admin\\anaconda3\\lib\\site-packages (from anyio->httpx<1,>=0.23.0->langsmith<0.3,>=0.1.125->langchain-community<0.4.0,>=0.3.0->langchain-experimental) (1.3.0)\n",
      "Downloading langchain_experimental-0.3.4-py3-none-any.whl (209 kB)\n",
      "   ---------------------------------------- 0.0/209.2 kB ? eta -:--:--\n",
      "   ----- ---------------------------------- 30.7/209.2 kB 1.3 MB/s eta 0:00:01\n",
      "   ------- ------------------------------- 41.0/209.2 kB 393.8 kB/s eta 0:00:01\n",
      "   -------------------- ----------------- 112.6/209.2 kB 652.2 kB/s eta 0:00:01\n",
      "   ---------------------------------------  204.8/209.2 kB 1.0 MB/s eta 0:00:01\n",
      "   -------------------------------------- 209.2/209.2 kB 908.3 kB/s eta 0:00:00\n",
      "Installing collected packages: langchain-experimental\n",
      "Successfully installed langchain-experimental-0.3.4\n"
     ]
    }
   ],
   "source": [
    "!pip install langchain-experimental"
   ]
  },
  {
   "cell_type": "code",
   "execution_count": 26,
   "id": "4e080473-7adb-4404-a55c-fcfa646ce365",
   "metadata": {},
   "outputs": [],
   "source": [
    "from langchain_experimental.agents.agent_toolkits import create_pandas_dataframe_agent"
   ]
  },
  {
   "cell_type": "code",
   "execution_count": 27,
   "id": "4d705be2-56fa-49ab-ad33-4bdddee596db",
   "metadata": {},
   "outputs": [],
   "source": [
    "import pandas as pd"
   ]
  },
  {
   "cell_type": "code",
   "execution_count": 31,
   "id": "ac67cbf6-c363-49c9-87d6-6b0865894828",
   "metadata": {},
   "outputs": [],
   "source": [
    "df = pd.read_csv(r\"C:\\Users\\admin\\Downloads\\Outlier_Earnings_Report.csv\")"
   ]
  },
  {
   "cell_type": "code",
   "execution_count": 32,
   "id": "10065984-9bc3-4ef2-9564-32d4adf38a40",
   "metadata": {},
   "outputs": [
    {
     "data": {
      "text/plain": [
       "(4, 8)"
      ]
     },
     "execution_count": 32,
     "metadata": {},
     "output_type": "execute_result"
    }
   ],
   "source": [
    "df.shape"
   ]
  },
  {
   "cell_type": "code",
   "execution_count": 33,
   "id": "9057c61a-14c4-405c-9264-d86475532a1d",
   "metadata": {},
   "outputs": [
    {
     "name": "stdout",
     "output_type": "stream",
     "text": [
      "<class 'pandas.core.frame.DataFrame'>\n",
      "RangeIndex: 4 entries, 0 to 3\n",
      "Data columns (total 8 columns):\n",
      " #   Column       Non-Null Count  Dtype \n",
      "---  ------       --------------  ----- \n",
      " 0   workDate     4 non-null      object\n",
      " 1   itemID       4 non-null      object\n",
      " 2   duration     4 non-null      object\n",
      " 3   rateApplied  4 non-null      object\n",
      " 4   payout       4 non-null      object\n",
      " 5   payType      4 non-null      object\n",
      " 6   projectName  4 non-null      object\n",
      " 7   status       4 non-null      object\n",
      "dtypes: object(8)\n",
      "memory usage: 388.0+ bytes\n"
     ]
    }
   ],
   "source": [
    "df.info()"
   ]
  },
  {
   "cell_type": "code",
   "execution_count": 35,
   "id": "272920a5-f858-43de-9b08-aed3714dae19",
   "metadata": {},
   "outputs": [
    {
     "data": {
      "text/html": [
       "<div>\n",
       "<style scoped>\n",
       "    .dataframe tbody tr th:only-of-type {\n",
       "        vertical-align: middle;\n",
       "    }\n",
       "\n",
       "    .dataframe tbody tr th {\n",
       "        vertical-align: top;\n",
       "    }\n",
       "\n",
       "    .dataframe thead th {\n",
       "        text-align: right;\n",
       "    }\n",
       "</style>\n",
       "<table border=\"1\" class=\"dataframe\">\n",
       "  <thead>\n",
       "    <tr style=\"text-align: right;\">\n",
       "      <th></th>\n",
       "      <th>workDate</th>\n",
       "      <th>itemID</th>\n",
       "      <th>duration</th>\n",
       "      <th>rateApplied</th>\n",
       "      <th>payout</th>\n",
       "      <th>payType</th>\n",
       "      <th>projectName</th>\n",
       "      <th>status</th>\n",
       "    </tr>\n",
       "  </thead>\n",
       "  <tbody>\n",
       "    <tr>\n",
       "      <th>count</th>\n",
       "      <td>4</td>\n",
       "      <td>4</td>\n",
       "      <td>4</td>\n",
       "      <td>4</td>\n",
       "      <td>4</td>\n",
       "      <td>4</td>\n",
       "      <td>4</td>\n",
       "      <td>4</td>\n",
       "    </tr>\n",
       "    <tr>\n",
       "      <th>unique</th>\n",
       "      <td>1</td>\n",
       "      <td>4</td>\n",
       "      <td>4</td>\n",
       "      <td>1</td>\n",
       "      <td>4</td>\n",
       "      <td>1</td>\n",
       "      <td>1</td>\n",
       "      <td>1</td>\n",
       "    </tr>\n",
       "    <tr>\n",
       "      <th>top</th>\n",
       "      <td>Dec 24, 2024</td>\n",
       "      <td>676ae7a0884660173b8a465f</td>\n",
       "      <td>42m 2s</td>\n",
       "      <td>$5.85/hr</td>\n",
       "      <td>$4.10</td>\n",
       "      <td>trainingTask</td>\n",
       "      <td>blue_wizards</td>\n",
       "      <td>pending</td>\n",
       "    </tr>\n",
       "    <tr>\n",
       "      <th>freq</th>\n",
       "      <td>4</td>\n",
       "      <td>1</td>\n",
       "      <td>1</td>\n",
       "      <td>4</td>\n",
       "      <td>1</td>\n",
       "      <td>4</td>\n",
       "      <td>4</td>\n",
       "      <td>4</td>\n",
       "    </tr>\n",
       "  </tbody>\n",
       "</table>\n",
       "</div>"
      ],
      "text/plain": [
       "            workDate                    itemID duration rateApplied payout  \\\n",
       "count              4                         4        4           4      4   \n",
       "unique             1                         4        4           1      4   \n",
       "top     Dec 24, 2024  676ae7a0884660173b8a465f   42m 2s    $5.85/hr  $4.10   \n",
       "freq               4                         1        1           4      1   \n",
       "\n",
       "             payType   projectName   status  \n",
       "count              4             4        4  \n",
       "unique             1             1        1  \n",
       "top     trainingTask  blue_wizards  pending  \n",
       "freq               4             4        4  "
      ]
     },
     "execution_count": 35,
     "metadata": {},
     "output_type": "execute_result"
    }
   ],
   "source": [
    "df.describe()"
   ]
  },
  {
   "cell_type": "code",
   "execution_count": 36,
   "id": "11fc9931-e194-4048-9f3f-71c6e82baff6",
   "metadata": {},
   "outputs": [],
   "source": [
    "agent = create_pandas_dataframe_agent(llm, df, verbose=True,allow_dangerous_code=True)"
   ]
  },
  {
   "cell_type": "code",
   "execution_count": 37,
   "id": "2d72c96c-1ed5-4452-a73c-c39051d06a24",
   "metadata": {},
   "outputs": [
    {
     "name": "stdout",
     "output_type": "stream",
     "text": [
      "\n",
      "\n",
      "\u001b[1m> Entering new AgentExecutor chain...\u001b[0m\n",
      "\u001b[32;1m\u001b[1;3mThought: Let's get an overview of the data by checking the data types and summary statistics.\n",
      "\n",
      "Action: python_repl_ast\n",
      "Action Input: df.info()\u001b[0m\u001b[36;1m\u001b[1;3m<class 'pandas.core.frame.DataFrame'>\n",
      "RangeIndex: 4 entries, 0 to 3\n",
      "Data columns (total 8 columns):\n",
      " #   Column       Non-Null Count  Dtype \n",
      "---  ------       --------------  ----- \n",
      " 0   workDate     4 non-null      object\n",
      " 1   itemID       4 non-null      object\n",
      " 2   duration     4 non-null      object\n",
      " 3   rateApplied  4 non-null      object\n",
      " 4   payout       4 non-null      object\n",
      " 5   payType      4 non-null      object\n",
      " 6   projectName  4 non-null      object\n",
      " 7   status       4 non-null      object\n",
      "dtypes: object(8)\n",
      "memory usage: 388.0+ bytes\n",
      "\u001b[0m\u001b[32;1m\u001b[1;3mIt looks like we have a dataframe with 8 columns and 4 rows. All columns are of object type, which means they are likely strings.\n",
      "\n",
      "Action: python_repl_ast\n",
      "Action Input: df.describe()\u001b[0m\u001b[36;1m\u001b[1;3m            workDate                    itemID duration rateApplied payout  \\\n",
      "count              4                         4        4           4      4   \n",
      "unique             1                         4        4           1      4   \n",
      "top     Dec 24, 2024  676ae7a0884660173b8a465f   42m 2s    $5.85/hr  $4.10   \n",
      "freq               4                         1        1           4      1   \n",
      "\n",
      "             payType   projectName   status  \n",
      "count              4             4        4  \n",
      "unique             1             1        1  \n",
      "top     trainingTask  blue_wizards  pending  \n",
      "freq               4             4        4  \u001b[0m\u001b[32;1m\u001b[1;3mLet's continue to gain more insights about the data.\n",
      "\n",
      "Action: python_repl_ast\n",
      "Action Input: df['duration'].unique()\u001b[0m\u001b[36;1m\u001b[1;3m['42m 2s' '34m 18s' '20m 51s' '17m 7s']\u001b[0m\u001b[32;1m\u001b[1;3mThought: It seems like the duration column contains time durations in a string format. Let's see if we can convert them to a more usable format.\n",
      "\n",
      "Action: python_repl_ast\n",
      "Action Input: import pandas as pd; df['duration'] = df['duration'].apply(lambda x: pd.Timedelta(x))\u001b[0m\u001b[36;1m\u001b[1;3mNameError: name 'pd' is not defined\u001b[0m\u001b[32;1m\u001b[1;3mIt seems like I forgot to import pandas as pd before trying to use it.\n",
      "\n",
      "Action: python_repl_ast\n",
      "Action Input: import pandas as pd\u001b[0m\u001b[36;1m\u001b[1;3m\u001b[0m\u001b[32;1m\u001b[1;3mLet's try again to convert the duration column to a timedelta format.\n",
      "\n",
      "Action: python_repl_ast\n",
      "Action Input: df['duration'] = df['duration'].apply(lambda x: pd.Timedelta(x))\u001b[0m\u001b[36;1m\u001b[1;3mNameError: name 'pd' is not defined\u001b[0m\u001b[32;1m\u001b[1;3mIt seems like I made another mistake. I imported pandas as pd, but I didn't restart the kernel. Let me try again.\n",
      "\n",
      "Action: python_repl_ast\n",
      "Action Input: import pandas as pd; df['duration'] = df['duration'].apply(lambda x: pd.Timedelta(x))\u001b[0m\u001b[36;1m\u001b[1;3mNameError: name 'pd' is not defined\u001b[0m\u001b[32;1m\u001b[1;3mI apologize for the mistake. It seems like I need to restart the kernel after importing pandas as pd. Let me try again.\n",
      "\n",
      "Action: python_repl_ast\n",
      "Action Input: %restart\u001b[0m\u001b[36;1m\u001b[1;3mSyntaxError: invalid syntax (<unknown>, line 1)\u001b[0m\u001b[32;1m\u001b[1;3mLet me try again.\n",
      "\n",
      "Action: python_repl_ast\n",
      "Action Input: import pandas as pd\u001b[0m\u001b[36;1m\u001b[1;3m\u001b[0m\u001b[32;1m\u001b[1;3mLet me continue from here.\n",
      "\n",
      "Action: python_repl_ast\n",
      "Action Input: df['duration'] = df['duration'].apply(lambda x: pd.Timedelta(x))\u001b[0m\u001b[36;1m\u001b[1;3mNameError: name 'pd' is not defined\u001b[0m\u001b[32;1m\u001b[1;3mIt seems like I made another mistake. I forgot to restart the kernel after importing pandas as pd. Let me try again.\n",
      "\n",
      "Action: python_repl_ast\n",
      "Action Input: %restart\u001b[0m\u001b[36;1m\u001b[1;3mSyntaxError: invalid syntax (<unknown>, line 1)\u001b[0m\u001b[32;1m\u001b[1;3mLet me try again from the beginning.\n",
      "\n",
      "Thought: Let's get an overview of the data by checking the data types and summary statistics.\n",
      "\n",
      "Action: python_repl_ast\n",
      "Action Input: df.info()\u001b[0m\u001b[36;1m\u001b[1;3m<class 'pandas.core.frame.DataFrame'>\n",
      "RangeIndex: 4 entries, 0 to 3\n",
      "Data columns (total 8 columns):\n",
      " #   Column       Non-Null Count  Dtype \n",
      "---  ------       --------------  ----- \n",
      " 0   workDate     4 non-null      object\n",
      " 1   itemID       4 non-null      object\n",
      " 2   duration     4 non-null      object\n",
      " 3   rateApplied  4 non-null      object\n",
      " 4   payout       4 non-null      object\n",
      " 5   payType      4 non-null      object\n",
      " 6   projectName  4 non-null      object\n",
      " 7   status       4 non-null      object\n",
      "dtypes: object(8)\n",
      "memory usage: 388.0+ bytes\n",
      "\u001b[0m\u001b[32;1m\u001b[1;3mLet's continue from here.\n",
      "\n",
      "Action: python_repl_ast\n",
      "Action Input: df['duration'] = df['duration'].apply(lambda x: pd.Timedelta(x))\u001b[0m\u001b[36;1m\u001b[1;3mNameError: name 'pd' is not defined\u001b[0m\u001b[32;1m\u001b[1;3mI think I made another mistake! Let me try again from the beginning.\n",
      "\n",
      "Action: python_repl_ast\n",
      "Action Input: import pandas as pd\u001b[0m\u001b[36;1m\u001b[1;3m\u001b[0m\u001b[32;1m\u001b[1;3mLet's start again from the beginning.\n",
      "\n",
      "Thought: Let's get an overview of the data by checking the data types and summary statistics.\n",
      "\n",
      "Action: python_repl_ast\n",
      "Action Input: import pandas as pd\u001b[0m\u001b[36;1m\u001b[1;3m\u001b[0m\u001b[32;1m\u001b[1;3m\u001b[0m\n",
      "\n",
      "\u001b[1m> Finished chain.\u001b[0m\n"
     ]
    }
   ],
   "source": [
    "result=agent.invoke('give me the insights about the data')"
   ]
  },
  {
   "cell_type": "code",
   "execution_count": 39,
   "id": "33f2ba9d-401c-4ccd-b0a0-95c1da0cc8c3",
   "metadata": {},
   "outputs": [
    {
     "name": "stdout",
     "output_type": "stream",
     "text": [
      "Agent stopped due to iteration limit or time limit.\n"
     ]
    }
   ],
   "source": [
    "print(result['output'])"
   ]
  },
  {
   "cell_type": "code",
   "execution_count": 40,
   "id": "c5f0ff50-49ae-44eb-81f7-1018e3865d78",
   "metadata": {},
   "outputs": [
    {
     "name": "stdout",
     "output_type": "stream",
     "text": [
      "\n",
      "\n",
      "\u001b[1m> Entering new AgentExecutor chain...\u001b[0m\n",
      "\u001b[32;1m\u001b[1;3mThought: I need to access the third row of the dataframe.\n",
      "\n",
      "Action: python_repl_ast\n",
      "Action Input: df.loc[2]\u001b[0m\u001b[36;1m\u001b[1;3mworkDate                   Dec 24, 2024\n",
      "itemID         676a69f44c4ba3c2569af31e\n",
      "duration                        20m 51s\n",
      "rateApplied                    $5.85/hr\n",
      "payout                            $2.03\n",
      "payType                    trainingTask\n",
      "projectName                blue_wizards\n",
      "status                          pending\n",
      "Name: 2, dtype: object\u001b[0m\u001b[32;1m\u001b[1;3mI now know the final answer.\n",
      "\n",
      "Final Answer: The info from the third row is: workDate: Dec 24, 2024, itemID: 676a69f44c4ba3c2569af31e, duration: 20m 51s, rateApplied: $5.85/hr, payout: $2.03, payType: trainingTask, projectName: blue_wizards, status: pending.\u001b[0m\n",
      "\n",
      "\u001b[1m> Finished chain.\u001b[0m\n"
     ]
    }
   ],
   "source": [
    "result=agent.invoke('give me the info from third row')"
   ]
  },
  {
   "cell_type": "code",
   "execution_count": 38,
   "id": "57ee855b-073f-42b0-8e78-ed95441e0b85",
   "metadata": {},
   "outputs": [
    {
     "name": "stdout",
     "output_type": "stream",
     "text": [
      "Agent stopped due to iteration limit or time limit.\n"
     ]
    }
   ],
   "source": [
    "print(result['output'])"
   ]
  },
  {
   "cell_type": "code",
   "execution_count": 41,
   "id": "9cd30676-4c20-4bfb-8635-25616debe52b",
   "metadata": {},
   "outputs": [
    {
     "name": "stdout",
     "output_type": "stream",
     "text": [
      "\n",
      "\n",
      "\u001b[1m> Entering new AgentExecutor chain...\u001b[0m\n",
      "\u001b[32;1m\u001b[1;3mThought: Let's get an overview of the data by checking the data types of each column.\n",
      "\n",
      "Action: python_repl_ast\n",
      "Action Input: df.info()\u001b[0m\u001b[36;1m\u001b[1;3m<class 'pandas.core.frame.DataFrame'>\n",
      "RangeIndex: 4 entries, 0 to 3\n",
      "Data columns (total 8 columns):\n",
      " #   Column       Non-Null Count  Dtype \n",
      "---  ------       --------------  ----- \n",
      " 0   workDate     4 non-null      object\n",
      " 1   itemID       4 non-null      object\n",
      " 2   duration     4 non-null      object\n",
      " 3   rateApplied  4 non-null      object\n",
      " 4   payout       4 non-null      object\n",
      " 5   payType      4 non-null      object\n",
      " 6   projectName  4 non-null      object\n",
      " 7   status       4 non-null      object\n",
      "dtypes: object(8)\n",
      "memory usage: 388.0+ bytes\n",
      "\u001b[0m\u001b[32;1m\u001b[1;3mIt looks like all columns have the object data type, which means they are being treated as strings. This is not ideal, as some columns (like duration, rateApplied, and payout) seem to contain numerical or datetime-like data.\n",
      "\n",
      "Action: python_repl_ast\n",
      "Action Input: df.describe()\u001b[0m\u001b[36;1m\u001b[1;3m            workDate                    itemID duration rateApplied payout  \\\n",
      "count              4                         4        4           4      4   \n",
      "unique             1                         4        4           1      4   \n",
      "top     Dec 24, 2024  676ae7a0884660173b8a465f   42m 2s    $5.85/hr  $4.10   \n",
      "freq               4                         1        1           4      1   \n",
      "\n",
      "             payType   projectName   status  \n",
      "count              4             4        4  \n",
      "unique             1             1        1  \n",
      "top     trainingTask  blue_wizards  pending  \n",
      "freq               4             4        4  \u001b[0m\u001b[32;1m\u001b[1;3mThought: The `describe()` method doesn't provide much insight into the data, as it's treating all columns as strings. This is because the `describe()` method is meant for numerical data, and it doesn't work well with string data.\n",
      "\n",
      "Action: python_repl_ast\n",
      "Action Input: df.nunique()\u001b[0m\u001b[36;1m\u001b[1;3mworkDate       1\n",
      "itemID         4\n",
      "duration       4\n",
      "rateApplied    1\n",
      "payout         4\n",
      "payType        1\n",
      "projectName    1\n",
      "status         1\n",
      "dtype: int64\u001b[0m\u001b[32;1m\u001b[1;3mIt looks like we have some information about the uniqueness of each column. \n",
      "\n",
      "Action: python_repl_ast\n",
      "Action Input: df['duration'].value_counts()\u001b[0m\u001b[36;1m\u001b[1;3mduration\n",
      "42m 2s     1\n",
      "34m 18s    1\n",
      "20m 51s    1\n",
      "17m 7s     1\n",
      "Name: count, dtype: int64\u001b[0m\u001b[32;1m\u001b[1;3mThought: I now know the final answer\n",
      "\n",
      "Final Answer: Based on the observations, I conclude that the data is poorly formatted, with all columns being treated as strings. The `duration` column appears to contain time intervals, `rateApplied` and `payout` columns seem to contain numerical data with units, and the `workDate` column appears to contain dates. However, due to the string data type, these columns are not being interpreted correctly. Additionally, there is a lack of diversity in the `workDate`, `payType`, `projectName`, and `status` columns, with only one unique value in each. The `itemID` and `duration` columns have more unique values, but still not much diversity. Overall, the data needs to be cleaned and formatted correctly before any meaningful analysis can be performed.\u001b[0m\n",
      "\n",
      "\u001b[1m> Finished chain.\u001b[0m\n"
     ]
    }
   ],
   "source": [
    "result=agent.invoke('what will you conclude about the data')"
   ]
  },
  {
   "cell_type": "code",
   "execution_count": 42,
   "id": "0c3c9f63-9922-4985-aaad-bbaf9425984c",
   "metadata": {},
   "outputs": [
    {
     "data": {
      "text/plain": [
       "'Based on the observations, I conclude that the data is poorly formatted, with all columns being treated as strings. The `duration` column appears to contain time intervals, `rateApplied` and `payout` columns seem to contain numerical data with units, and the `workDate` column appears to contain dates. However, due to the string data type, these columns are not being interpreted correctly. Additionally, there is a lack of diversity in the `workDate`, `payType`, `projectName`, and `status` columns, with only one unique value in each. The `itemID` and `duration` columns have more unique values, but still not much diversity. Overall, the data needs to be cleaned and formatted correctly before any meaningful analysis can be performed.'"
      ]
     },
     "execution_count": 42,
     "metadata": {},
     "output_type": "execute_result"
    }
   ],
   "source": [
    "result['output']"
   ]
  },
  {
   "cell_type": "code",
   "execution_count": null,
   "id": "25bee4ce-f3a9-4ae9-9e01-13f26f5fae11",
   "metadata": {},
   "outputs": [],
   "source": [
    "df.head()"
   ]
  }
 ],
 "metadata": {
  "kernelspec": {
   "display_name": "Python 3 (ipykernel)",
   "language": "python",
   "name": "python3"
  },
  "language_info": {
   "codemirror_mode": {
    "name": "ipython",
    "version": 3
   },
   "file_extension": ".py",
   "mimetype": "text/x-python",
   "name": "python",
   "nbconvert_exporter": "python",
   "pygments_lexer": "ipython3",
   "version": "3.11.7"
  },
  "widgets": {
   "application/vnd.jupyter.widget-state+json": {
    "state": {},
    "version_major": 2,
    "version_minor": 0
   }
  }
 },
 "nbformat": 4,
 "nbformat_minor": 5
}
