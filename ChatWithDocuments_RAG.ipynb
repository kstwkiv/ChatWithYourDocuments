{
 "cells": [
  {
   "cell_type": "code",
   "execution_count": 1,
   "id": "fd027820-6bee-49a0-bb45-cca67a89bedd",
   "metadata": {},
   "outputs": [
    {
     "name": "stdout",
     "output_type": "stream",
     "text": [
      "Collecting langchain-community\n",
      "  Downloading langchain_community-0.3.13-py3-none-any.whl.metadata (2.9 kB)\n",
      "Requirement already satisfied: PyYAML>=5.3 in c:\\users\\admin\\anaconda3\\lib\\site-packages (from langchain-community) (6.0.1)\n",
      "Requirement already satisfied: SQLAlchemy<3,>=1.4 in c:\\users\\admin\\anaconda3\\lib\\site-packages (from langchain-community) (2.0.25)\n",
      "Requirement already satisfied: aiohttp<4.0.0,>=3.8.3 in c:\\users\\admin\\anaconda3\\lib\\site-packages (from langchain-community) (3.9.3)\n",
      "Collecting dataclasses-json<0.7,>=0.5.7 (from langchain-community)\n",
      "  Downloading dataclasses_json-0.6.7-py3-none-any.whl.metadata (25 kB)\n",
      "Collecting httpx-sse<0.5.0,>=0.4.0 (from langchain-community)\n",
      "  Downloading httpx_sse-0.4.0-py3-none-any.whl.metadata (9.0 kB)\n",
      "Collecting langchain<0.4.0,>=0.3.13 (from langchain-community)\n",
      "  Downloading langchain-0.3.13-py3-none-any.whl.metadata (7.1 kB)\n",
      "Requirement already satisfied: langchain-core<0.4.0,>=0.3.27 in c:\\users\\admin\\anaconda3\\lib\\site-packages (from langchain-community) (0.3.28)\n",
      "Requirement already satisfied: langsmith<0.3,>=0.1.125 in c:\\users\\admin\\anaconda3\\lib\\site-packages (from langchain-community) (0.2.6)\n",
      "Requirement already satisfied: numpy<2,>=1.22.4 in c:\\users\\admin\\anaconda3\\lib\\site-packages (from langchain-community) (1.26.4)\n",
      "Collecting pydantic-settings<3.0.0,>=2.4.0 (from langchain-community)\n",
      "  Downloading pydantic_settings-2.7.0-py3-none-any.whl.metadata (3.5 kB)\n",
      "Requirement already satisfied: requests<3,>=2 in c:\\users\\admin\\anaconda3\\lib\\site-packages (from langchain-community) (2.31.0)\n",
      "Requirement already satisfied: tenacity!=8.4.0,<10,>=8.1.0 in c:\\users\\admin\\anaconda3\\lib\\site-packages (from langchain-community) (8.2.2)\n",
      "Requirement already satisfied: aiosignal>=1.1.2 in c:\\users\\admin\\anaconda3\\lib\\site-packages (from aiohttp<4.0.0,>=3.8.3->langchain-community) (1.2.0)\n",
      "Requirement already satisfied: attrs>=17.3.0 in c:\\users\\admin\\anaconda3\\lib\\site-packages (from aiohttp<4.0.0,>=3.8.3->langchain-community) (23.1.0)\n",
      "Requirement already satisfied: frozenlist>=1.1.1 in c:\\users\\admin\\anaconda3\\lib\\site-packages (from aiohttp<4.0.0,>=3.8.3->langchain-community) (1.4.0)\n",
      "Requirement already satisfied: multidict<7.0,>=4.5 in c:\\users\\admin\\anaconda3\\lib\\site-packages (from aiohttp<4.0.0,>=3.8.3->langchain-community) (6.0.4)\n",
      "Requirement already satisfied: yarl<2.0,>=1.0 in c:\\users\\admin\\anaconda3\\lib\\site-packages (from aiohttp<4.0.0,>=3.8.3->langchain-community) (1.9.3)\n",
      "Collecting marshmallow<4.0.0,>=3.18.0 (from dataclasses-json<0.7,>=0.5.7->langchain-community)\n",
      "  Downloading marshmallow-3.23.2-py3-none-any.whl.metadata (7.1 kB)\n",
      "Collecting typing-inspect<1,>=0.4.0 (from dataclasses-json<0.7,>=0.5.7->langchain-community)\n",
      "  Downloading typing_inspect-0.9.0-py3-none-any.whl.metadata (1.5 kB)\n",
      "Collecting langchain-text-splitters<0.4.0,>=0.3.3 (from langchain<0.4.0,>=0.3.13->langchain-community)\n",
      "  Downloading langchain_text_splitters-0.3.4-py3-none-any.whl.metadata (2.3 kB)\n",
      "Requirement already satisfied: pydantic<3.0.0,>=2.7.4 in c:\\users\\admin\\anaconda3\\lib\\site-packages (from langchain<0.4.0,>=0.3.13->langchain-community) (2.10.4)\n",
      "Requirement already satisfied: jsonpatch<2.0,>=1.33 in c:\\users\\admin\\anaconda3\\lib\\site-packages (from langchain-core<0.4.0,>=0.3.27->langchain-community) (1.33)\n",
      "Requirement already satisfied: packaging<25,>=23.2 in c:\\users\\admin\\anaconda3\\lib\\site-packages (from langchain-core<0.4.0,>=0.3.27->langchain-community) (24.2)\n",
      "Requirement already satisfied: typing-extensions>=4.7 in c:\\users\\admin\\anaconda3\\lib\\site-packages (from langchain-core<0.4.0,>=0.3.27->langchain-community) (4.12.2)\n",
      "Requirement already satisfied: httpx<1,>=0.23.0 in c:\\users\\admin\\anaconda3\\lib\\site-packages (from langsmith<0.3,>=0.1.125->langchain-community) (0.28.1)\n",
      "Requirement already satisfied: orjson<4.0.0,>=3.9.14 in c:\\users\\admin\\anaconda3\\lib\\site-packages (from langsmith<0.3,>=0.1.125->langchain-community) (3.10.12)\n",
      "Requirement already satisfied: requests-toolbelt<2.0.0,>=1.0.0 in c:\\users\\admin\\anaconda3\\lib\\site-packages (from langsmith<0.3,>=0.1.125->langchain-community) (1.0.0)\n",
      "Requirement already satisfied: python-dotenv>=0.21.0 in c:\\users\\admin\\anaconda3\\lib\\site-packages (from pydantic-settings<3.0.0,>=2.4.0->langchain-community) (0.21.0)\n",
      "Requirement already satisfied: charset-normalizer<4,>=2 in c:\\users\\admin\\anaconda3\\lib\\site-packages (from requests<3,>=2->langchain-community) (2.0.4)\n",
      "Requirement already satisfied: idna<4,>=2.5 in c:\\users\\admin\\anaconda3\\lib\\site-packages (from requests<3,>=2->langchain-community) (3.4)\n",
      "Requirement already satisfied: urllib3<3,>=1.21.1 in c:\\users\\admin\\anaconda3\\lib\\site-packages (from requests<3,>=2->langchain-community) (2.0.7)\n",
      "Requirement already satisfied: certifi>=2017.4.17 in c:\\users\\admin\\anaconda3\\lib\\site-packages (from requests<3,>=2->langchain-community) (2024.2.2)\n",
      "Requirement already satisfied: greenlet!=0.4.17 in c:\\users\\admin\\anaconda3\\lib\\site-packages (from SQLAlchemy<3,>=1.4->langchain-community) (3.0.1)\n",
      "Requirement already satisfied: anyio in c:\\users\\admin\\anaconda3\\lib\\site-packages (from httpx<1,>=0.23.0->langsmith<0.3,>=0.1.125->langchain-community) (4.2.0)\n",
      "Requirement already satisfied: httpcore==1.* in c:\\users\\admin\\anaconda3\\lib\\site-packages (from httpx<1,>=0.23.0->langsmith<0.3,>=0.1.125->langchain-community) (1.0.7)\n",
      "Requirement already satisfied: h11<0.15,>=0.13 in c:\\users\\admin\\anaconda3\\lib\\site-packages (from httpcore==1.*->httpx<1,>=0.23.0->langsmith<0.3,>=0.1.125->langchain-community) (0.14.0)\n",
      "Requirement already satisfied: jsonpointer>=1.9 in c:\\users\\admin\\anaconda3\\lib\\site-packages (from jsonpatch<2.0,>=1.33->langchain-core<0.4.0,>=0.3.27->langchain-community) (2.1)\n",
      "Requirement already satisfied: annotated-types>=0.6.0 in c:\\users\\admin\\anaconda3\\lib\\site-packages (from pydantic<3.0.0,>=2.7.4->langchain<0.4.0,>=0.3.13->langchain-community) (0.7.0)\n",
      "Requirement already satisfied: pydantic-core==2.27.2 in c:\\users\\admin\\anaconda3\\lib\\site-packages (from pydantic<3.0.0,>=2.7.4->langchain<0.4.0,>=0.3.13->langchain-community) (2.27.2)\n",
      "Requirement already satisfied: mypy-extensions>=0.3.0 in c:\\users\\admin\\anaconda3\\lib\\site-packages (from typing-inspect<1,>=0.4.0->dataclasses-json<0.7,>=0.5.7->langchain-community) (1.0.0)\n",
      "Requirement already satisfied: sniffio>=1.1 in c:\\users\\admin\\anaconda3\\lib\\site-packages (from anyio->httpx<1,>=0.23.0->langsmith<0.3,>=0.1.125->langchain-community) (1.3.0)\n",
      "Downloading langchain_community-0.3.13-py3-none-any.whl (2.5 MB)\n",
      "   ---------------------------------------- 0.0/2.5 MB ? eta -:--:--\n",
      "    --------------------------------------- 0.0/2.5 MB ? eta -:--:--\n",
      "   - -------------------------------------- 0.1/2.5 MB 1.2 MB/s eta 0:00:03\n",
      "   -- ------------------------------------- 0.2/2.5 MB 1.3 MB/s eta 0:00:02\n",
      "   ----- ---------------------------------- 0.3/2.5 MB 1.6 MB/s eta 0:00:02\n",
      "   ------- -------------------------------- 0.5/2.5 MB 2.0 MB/s eta 0:00:02\n",
      "   --------- ------------------------------ 0.6/2.5 MB 2.0 MB/s eta 0:00:01\n",
      "   ----------- ---------------------------- 0.7/2.5 MB 2.2 MB/s eta 0:00:01\n",
      "   -------------- ------------------------- 0.9/2.5 MB 2.4 MB/s eta 0:00:01\n",
      "   ---------------- ----------------------- 1.0/2.5 MB 2.5 MB/s eta 0:00:01\n",
      "   ------------------ --------------------- 1.2/2.5 MB 2.5 MB/s eta 0:00:01\n",
      "   -------------------- ------------------- 1.3/2.5 MB 2.6 MB/s eta 0:00:01\n",
      "   ----------------------- ---------------- 1.5/2.5 MB 2.7 MB/s eta 0:00:01\n",
      "   -------------------------- ------------- 1.6/2.5 MB 2.7 MB/s eta 0:00:01\n",
      "   ---------------------------- ----------- 1.8/2.5 MB 2.7 MB/s eta 0:00:01\n",
      "   ------------------------------- -------- 1.9/2.5 MB 2.8 MB/s eta 0:00:01\n",
      "   -------------------------------- ------- 2.0/2.5 MB 2.8 MB/s eta 0:00:01\n",
      "   ----------------------------------- ---- 2.2/2.5 MB 2.8 MB/s eta 0:00:01\n",
      "   ------------------------------------- -- 2.4/2.5 MB 2.8 MB/s eta 0:00:01\n",
      "   ---------------------------------------- 2.5/2.5 MB 2.8 MB/s eta 0:00:00\n",
      "Downloading dataclasses_json-0.6.7-py3-none-any.whl (28 kB)\n",
      "Downloading httpx_sse-0.4.0-py3-none-any.whl (7.8 kB)\n",
      "Downloading langchain-0.3.13-py3-none-any.whl (1.0 MB)\n",
      "   ---------------------------------------- 0.0/1.0 MB ? eta -:--:--\n",
      "   ---------- ----------------------------- 0.3/1.0 MB 5.2 MB/s eta 0:00:01\n",
      "   ---------- ----------------------------- 0.3/1.0 MB 5.2 MB/s eta 0:00:01\n",
      "   ---------- ----------------------------- 0.3/1.0 MB 5.2 MB/s eta 0:00:01\n",
      "   ---------- ----------------------------- 0.3/1.0 MB 5.2 MB/s eta 0:00:01\n",
      "   ---------- ----------------------------- 0.3/1.0 MB 5.2 MB/s eta 0:00:01\n",
      "   ---------- ----------------------------- 0.3/1.0 MB 5.2 MB/s eta 0:00:01\n",
      "   ---------- ----------------------------- 0.3/1.0 MB 5.2 MB/s eta 0:00:01\n",
      "   ---------- ----------------------------- 0.3/1.0 MB 710.0 kB/s eta 0:00:02\n",
      "   ------------ --------------------------- 0.3/1.0 MB 752.2 kB/s eta 0:00:01\n",
      "   --------------- ------------------------ 0.4/1.0 MB 807.8 kB/s eta 0:00:01\n",
      "   ---------------------- ----------------- 0.6/1.0 MB 1.1 MB/s eta 0:00:01\n",
      "   ------------------------------ --------- 0.8/1.0 MB 1.3 MB/s eta 0:00:01\n",
      "   ---------------------------------------  1.0/1.0 MB 1.6 MB/s eta 0:00:01\n",
      "   ---------------------------------------- 1.0/1.0 MB 1.6 MB/s eta 0:00:00\n",
      "Downloading pydantic_settings-2.7.0-py3-none-any.whl (29 kB)\n",
      "Downloading langchain_text_splitters-0.3.4-py3-none-any.whl (27 kB)\n",
      "Downloading marshmallow-3.23.2-py3-none-any.whl (49 kB)\n",
      "   ---------------------------------------- 0.0/49.3 kB ? eta -:--:--\n",
      "   ---------------------------------------- 49.3/49.3 kB 2.4 MB/s eta 0:00:00\n",
      "Downloading typing_inspect-0.9.0-py3-none-any.whl (8.8 kB)\n",
      "Installing collected packages: typing-inspect, marshmallow, httpx-sse, dataclasses-json, pydantic-settings, langchain-text-splitters, langchain, langchain-community\n",
      "Successfully installed dataclasses-json-0.6.7 httpx-sse-0.4.0 langchain-0.3.13 langchain-community-0.3.13 langchain-text-splitters-0.3.4 marshmallow-3.23.2 pydantic-settings-2.7.0 typing-inspect-0.9.0\n"
     ]
    }
   ],
   "source": [
    "!pip install langchain-community"
   ]
  },
  {
   "cell_type": "code",
   "execution_count": 2,
   "id": "c95c309f-0e5b-402e-b356-4c5c6e83a4c6",
   "metadata": {},
   "outputs": [
    {
     "name": "stdout",
     "output_type": "stream",
     "text": [
      "Collecting pypdf\n",
      "  Downloading pypdf-5.1.0-py3-none-any.whl.metadata (7.2 kB)\n",
      "Downloading pypdf-5.1.0-py3-none-any.whl (297 kB)\n",
      "   ---------------------------------------- 0.0/298.0 kB ? eta -:--:--\n",
      "   - -------------------------------------- 10.2/298.0 kB ? eta -:--:--\n",
      "   - -------------------------------------- 10.2/298.0 kB ? eta -:--:--\n",
      "   ---- ---------------------------------- 30.7/298.0 kB 262.6 kB/s eta 0:00:02\n",
      "   --------- ----------------------------- 71.7/298.0 kB 435.7 kB/s eta 0:00:01\n",
      "   ------------------ ------------------- 143.4/298.0 kB 708.1 kB/s eta 0:00:01\n",
      "   -------------------------- ----------- 204.8/298.0 kB 831.5 kB/s eta 0:00:01\n",
      "   ---------------------------------------- 298.0/298.0 kB 1.0 MB/s eta 0:00:00\n",
      "Installing collected packages: pypdf\n",
      "Successfully installed pypdf-5.1.0\n"
     ]
    }
   ],
   "source": [
    "!pip install pypdf"
   ]
  },
  {
   "cell_type": "code",
   "execution_count": 3,
   "id": "5f67f719-d28e-486d-81ff-b5bca1dc803a",
   "metadata": {},
   "outputs": [
    {
     "name": "stdout",
     "output_type": "stream",
     "text": [
      "Collecting docx2txt\n",
      "  Downloading docx2txt-0.8.tar.gz (2.8 kB)\n",
      "  Preparing metadata (setup.py): started\n",
      "  Preparing metadata (setup.py): finished with status 'done'\n",
      "Building wheels for collected packages: docx2txt\n",
      "  Building wheel for docx2txt (setup.py): started\n",
      "  Building wheel for docx2txt (setup.py): finished with status 'done'\n",
      "  Created wheel for docx2txt: filename=docx2txt-0.8-py3-none-any.whl size=3973 sha256=7d343dd9db0c2ecd43ee539473344e8b3e28ec7c33857d0238027375f5c752ed\n",
      "  Stored in directory: c:\\users\\admin\\appdata\\local\\pip\\cache\\wheels\\0f\\0e\\7a\\3094a4ceefe657bff7e12dd9592a9d5b6487ef4338ace0afa6\n",
      "Successfully built docx2txt\n",
      "Installing collected packages: docx2txt\n",
      "Successfully installed docx2txt-0.8\n"
     ]
    }
   ],
   "source": [
    "!pip install docx2txt"
   ]
  },
  {
   "cell_type": "code",
   "execution_count": 6,
   "id": "f1294f1e-34f8-4c7e-be8b-d27984b84d59",
   "metadata": {},
   "outputs": [],
   "source": [
    "from langchain_community.document_loaders import Docx2txtLoader"
   ]
  },
  {
   "cell_type": "code",
   "execution_count": 7,
   "id": "2622fde6-02dd-4180-9228-8dd883695f81",
   "metadata": {},
   "outputs": [
    {
     "name": "stdout",
     "output_type": "stream",
     "text": [
      "Collecting fastembed\n",
      "  Downloading fastembed-0.5.0-py3-none-any.whl.metadata (8.5 kB)\n",
      "Collecting huggingface-hub<1.0,>=0.20 (from fastembed)\n",
      "  Downloading huggingface_hub-0.27.0-py3-none-any.whl.metadata (13 kB)\n",
      "Collecting loguru<0.8.0,>=0.7.2 (from fastembed)\n",
      "  Downloading loguru-0.7.3-py3-none-any.whl.metadata (22 kB)\n",
      "Collecting mmh3<5.0.0,>=4.1.0 (from fastembed)\n",
      "  Downloading mmh3-4.1.0-cp311-cp311-win_amd64.whl.metadata (13 kB)\n",
      "Requirement already satisfied: numpy>=1.21 in c:\\users\\admin\\anaconda3\\lib\\site-packages (from fastembed) (1.26.4)\n",
      "Collecting onnx>=1.15.0 (from fastembed)\n",
      "  Downloading onnx-1.17.0-cp311-cp311-win_amd64.whl.metadata (16 kB)\n",
      "Collecting onnxruntime!=1.20.0,>=1.17.0 (from fastembed)\n",
      "  Downloading onnxruntime-1.20.1-cp311-cp311-win_amd64.whl.metadata (4.7 kB)\n",
      "Collecting pillow<11.0.0,>=10.3.0 (from fastembed)\n",
      "  Downloading pillow-10.4.0-cp311-cp311-win_amd64.whl.metadata (9.3 kB)\n",
      "Collecting py-rust-stemmers<0.2.0,>=0.1.0 (from fastembed)\n",
      "  Downloading py_rust_stemmers-0.1.3-cp311-none-win_amd64.whl.metadata (3.4 kB)\n",
      "Requirement already satisfied: requests<3.0,>=2.31 in c:\\users\\admin\\anaconda3\\lib\\site-packages (from fastembed) (2.31.0)\n",
      "Collecting tokenizers<1.0,>=0.15 (from fastembed)\n",
      "  Downloading tokenizers-0.21.0-cp39-abi3-win_amd64.whl.metadata (6.9 kB)\n",
      "Collecting tqdm<5.0,>=4.66 (from fastembed)\n",
      "  Downloading tqdm-4.67.1-py3-none-any.whl.metadata (57 kB)\n",
      "     ---------------------------------------- 0.0/57.7 kB ? eta -:--:--\n",
      "     -------------------- ----------------- 30.7/57.7 kB 640.0 kB/s eta 0:00:01\n",
      "     -------------------------------------- 57.7/57.7 kB 752.9 kB/s eta 0:00:00\n",
      "Requirement already satisfied: filelock in c:\\users\\admin\\anaconda3\\lib\\site-packages (from huggingface-hub<1.0,>=0.20->fastembed) (3.13.1)\n",
      "Requirement already satisfied: fsspec>=2023.5.0 in c:\\users\\admin\\anaconda3\\lib\\site-packages (from huggingface-hub<1.0,>=0.20->fastembed) (2023.10.0)\n",
      "Requirement already satisfied: packaging>=20.9 in c:\\users\\admin\\anaconda3\\lib\\site-packages (from huggingface-hub<1.0,>=0.20->fastembed) (24.2)\n",
      "Requirement already satisfied: pyyaml>=5.1 in c:\\users\\admin\\anaconda3\\lib\\site-packages (from huggingface-hub<1.0,>=0.20->fastembed) (6.0.1)\n",
      "Requirement already satisfied: typing-extensions>=3.7.4.3 in c:\\users\\admin\\anaconda3\\lib\\site-packages (from huggingface-hub<1.0,>=0.20->fastembed) (4.12.2)\n",
      "Requirement already satisfied: colorama>=0.3.4 in c:\\users\\admin\\anaconda3\\lib\\site-packages (from loguru<0.8.0,>=0.7.2->fastembed) (0.4.6)\n",
      "Collecting win32-setctime>=1.0.0 (from loguru<0.8.0,>=0.7.2->fastembed)\n",
      "  Downloading win32_setctime-1.2.0-py3-none-any.whl.metadata (2.4 kB)\n",
      "Requirement already satisfied: protobuf>=3.20.2 in c:\\users\\admin\\anaconda3\\lib\\site-packages (from onnx>=1.15.0->fastembed) (3.20.3)\n",
      "Collecting coloredlogs (from onnxruntime!=1.20.0,>=1.17.0->fastembed)\n",
      "  Downloading coloredlogs-15.0.1-py2.py3-none-any.whl.metadata (12 kB)\n",
      "Collecting flatbuffers (from onnxruntime!=1.20.0,>=1.17.0->fastembed)\n",
      "  Downloading flatbuffers-24.12.23-py2.py3-none-any.whl.metadata (876 bytes)\n",
      "Requirement already satisfied: sympy in c:\\users\\admin\\anaconda3\\lib\\site-packages (from onnxruntime!=1.20.0,>=1.17.0->fastembed) (1.12)\n",
      "Requirement already satisfied: charset-normalizer<4,>=2 in c:\\users\\admin\\anaconda3\\lib\\site-packages (from requests<3.0,>=2.31->fastembed) (2.0.4)\n",
      "Requirement already satisfied: idna<4,>=2.5 in c:\\users\\admin\\anaconda3\\lib\\site-packages (from requests<3.0,>=2.31->fastembed) (3.4)\n",
      "Requirement already satisfied: urllib3<3,>=1.21.1 in c:\\users\\admin\\anaconda3\\lib\\site-packages (from requests<3.0,>=2.31->fastembed) (2.0.7)\n",
      "Requirement already satisfied: certifi>=2017.4.17 in c:\\users\\admin\\anaconda3\\lib\\site-packages (from requests<3.0,>=2.31->fastembed) (2024.2.2)\n",
      "Collecting humanfriendly>=9.1 (from coloredlogs->onnxruntime!=1.20.0,>=1.17.0->fastembed)\n",
      "  Downloading humanfriendly-10.0-py2.py3-none-any.whl.metadata (9.2 kB)\n",
      "Requirement already satisfied: mpmath>=0.19 in c:\\users\\admin\\anaconda3\\lib\\site-packages (from sympy->onnxruntime!=1.20.0,>=1.17.0->fastembed) (1.3.0)\n",
      "Collecting pyreadline3 (from humanfriendly>=9.1->coloredlogs->onnxruntime!=1.20.0,>=1.17.0->fastembed)\n",
      "  Downloading pyreadline3-3.5.4-py3-none-any.whl.metadata (4.7 kB)\n",
      "Downloading fastembed-0.5.0-py3-none-any.whl (69 kB)\n",
      "   ---------------------------------------- 0.0/69.7 kB ? eta -:--:--\n",
      "   ----------------------- ---------------- 41.0/69.7 kB 991.0 kB/s eta 0:00:01\n",
      "   ----------------------- ---------------- 41.0/69.7 kB 991.0 kB/s eta 0:00:01\n",
      "   ---------------------------------------- 69.7/69.7 kB 639.5 kB/s eta 0:00:00\n",
      "Downloading huggingface_hub-0.27.0-py3-none-any.whl (450 kB)\n",
      "   ---------------------------------------- 0.0/450.5 kB ? eta -:--:--\n",
      "   --- ----------------------------------- 41.0/450.5 kB 991.0 kB/s eta 0:00:01\n",
      "   -------- ----------------------------- 102.4/450.5 kB 991.0 kB/s eta 0:00:01\n",
      "   ------------- -------------------------- 153.6/450.5 kB 1.1 MB/s eta 0:00:01\n",
      "   ------------------ --------------------- 204.8/450.5 kB 1.0 MB/s eta 0:00:01\n",
      "   ---------------------- ----------------- 256.0/450.5 kB 1.1 MB/s eta 0:00:01\n",
      "   ---------------------------- ----------- 317.4/450.5 kB 1.1 MB/s eta 0:00:01\n",
      "   ---------------------------------- ----- 389.1/450.5 kB 1.2 MB/s eta 0:00:01\n",
      "   ---------------------------------------  440.3/450.5 kB 1.1 MB/s eta 0:00:01\n",
      "   ---------------------------------------- 450.5/450.5 kB 1.1 MB/s eta 0:00:00\n",
      "Downloading loguru-0.7.3-py3-none-any.whl (61 kB)\n",
      "   ---------------------------------------- 0.0/61.6 kB ? eta -:--:--\n",
      "   ---------------------------------------  61.4/61.6 kB 1.7 MB/s eta 0:00:01\n",
      "   ---------------------------------------- 61.6/61.6 kB 828.3 kB/s eta 0:00:00\n",
      "Downloading mmh3-4.1.0-cp311-cp311-win_amd64.whl (31 kB)\n",
      "Downloading onnx-1.17.0-cp311-cp311-win_amd64.whl (14.5 MB)\n",
      "   ---------------------------------------- 0.0/14.5 MB ? eta -:--:--\n",
      "   ---------------------------------------- 0.0/14.5 MB 1.9 MB/s eta 0:00:08\n",
      "   ---------------------------------------- 0.1/14.5 MB 1.4 MB/s eta 0:00:10\n",
      "   ---------------------------------------- 0.2/14.5 MB 1.5 MB/s eta 0:00:10\n",
      "    --------------------------------------- 0.2/14.5 MB 1.3 MB/s eta 0:00:11\n",
      "    --------------------------------------- 0.3/14.5 MB 1.4 MB/s eta 0:00:11\n",
      "   - -------------------------------------- 0.4/14.5 MB 1.6 MB/s eta 0:00:10\n",
      "   - -------------------------------------- 0.5/14.5 MB 1.6 MB/s eta 0:00:09\n",
      "   - -------------------------------------- 0.6/14.5 MB 1.6 MB/s eta 0:00:09\n",
      "   - -------------------------------------- 0.6/14.5 MB 1.6 MB/s eta 0:00:09\n",
      "   - -------------------------------------- 0.7/14.5 MB 1.6 MB/s eta 0:00:09\n",
      "   -- ------------------------------------- 0.8/14.5 MB 1.6 MB/s eta 0:00:09\n",
      "   -- ------------------------------------- 0.9/14.5 MB 1.7 MB/s eta 0:00:09\n",
      "   -- ------------------------------------- 1.0/14.5 MB 1.7 MB/s eta 0:00:09\n",
      "   -- ------------------------------------- 1.0/14.5 MB 1.7 MB/s eta 0:00:08\n",
      "   --- ------------------------------------ 1.2/14.5 MB 1.7 MB/s eta 0:00:08\n",
      "   --- ------------------------------------ 1.3/14.5 MB 1.7 MB/s eta 0:00:08\n",
      "   --- ------------------------------------ 1.4/14.5 MB 1.8 MB/s eta 0:00:08\n",
      "   ---- ----------------------------------- 1.5/14.5 MB 1.8 MB/s eta 0:00:08\n",
      "   ---- ----------------------------------- 1.6/14.5 MB 1.8 MB/s eta 0:00:08\n",
      "   ---- ----------------------------------- 1.7/14.5 MB 1.9 MB/s eta 0:00:07\n",
      "   ---- ----------------------------------- 1.8/14.5 MB 1.9 MB/s eta 0:00:07\n",
      "   ----- ---------------------------------- 1.9/14.5 MB 1.9 MB/s eta 0:00:07\n",
      "   ----- ---------------------------------- 2.1/14.5 MB 2.0 MB/s eta 0:00:07\n",
      "   ------ --------------------------------- 2.2/14.5 MB 2.0 MB/s eta 0:00:07\n",
      "   ------ --------------------------------- 2.3/14.5 MB 2.0 MB/s eta 0:00:06\n",
      "   ------ --------------------------------- 2.5/14.5 MB 2.1 MB/s eta 0:00:06\n",
      "   ------- -------------------------------- 2.6/14.5 MB 2.1 MB/s eta 0:00:06\n",
      "   ------- -------------------------------- 2.7/14.5 MB 2.1 MB/s eta 0:00:06\n",
      "   -------- ------------------------------- 2.9/14.5 MB 2.2 MB/s eta 0:00:06\n",
      "   -------- ------------------------------- 3.0/14.5 MB 2.2 MB/s eta 0:00:06\n",
      "   -------- ------------------------------- 3.3/14.5 MB 2.3 MB/s eta 0:00:05\n",
      "   --------- ------------------------------ 3.5/14.5 MB 2.3 MB/s eta 0:00:05\n",
      "   ---------- ----------------------------- 3.6/14.5 MB 2.4 MB/s eta 0:00:05\n",
      "   ---------- ----------------------------- 3.9/14.5 MB 2.5 MB/s eta 0:00:05\n",
      "   ---------- ----------------------------- 4.0/14.5 MB 2.5 MB/s eta 0:00:05\n",
      "   ----------- ---------------------------- 4.2/14.5 MB 2.5 MB/s eta 0:00:05\n",
      "   ----------- ---------------------------- 4.3/14.5 MB 2.5 MB/s eta 0:00:05\n",
      "   ------------ --------------------------- 4.6/14.5 MB 2.6 MB/s eta 0:00:04\n",
      "   ------------- -------------------------- 4.8/14.5 MB 2.7 MB/s eta 0:00:04\n",
      "   ------------- -------------------------- 5.0/14.5 MB 2.7 MB/s eta 0:00:04\n",
      "   -------------- ------------------------- 5.3/14.5 MB 2.8 MB/s eta 0:00:04\n",
      "   --------------- ------------------------ 5.6/14.5 MB 2.9 MB/s eta 0:00:04\n",
      "   --------------- ------------------------ 5.7/14.5 MB 2.9 MB/s eta 0:00:04\n",
      "   ---------------- ----------------------- 5.9/14.5 MB 2.9 MB/s eta 0:00:03\n",
      "   ----------------- ---------------------- 6.2/14.5 MB 3.0 MB/s eta 0:00:03\n",
      "   ----------------- ---------------------- 6.5/14.5 MB 3.0 MB/s eta 0:00:03\n",
      "   ------------------ --------------------- 6.7/14.5 MB 3.1 MB/s eta 0:00:03\n",
      "   ------------------- -------------------- 7.0/14.5 MB 3.2 MB/s eta 0:00:03\n",
      "   ------------------- -------------------- 7.2/14.5 MB 3.2 MB/s eta 0:00:03\n",
      "   -------------------- ------------------- 7.5/14.5 MB 3.2 MB/s eta 0:00:03\n",
      "   --------------------- ------------------ 7.8/14.5 MB 3.3 MB/s eta 0:00:03\n",
      "   ---------------------- ----------------- 8.1/14.5 MB 3.4 MB/s eta 0:00:02\n",
      "   ----------------------- ---------------- 8.4/14.5 MB 3.4 MB/s eta 0:00:02\n",
      "   ----------------------- ---------------- 8.6/14.5 MB 3.4 MB/s eta 0:00:02\n",
      "   ------------------------ --------------- 9.0/14.5 MB 3.6 MB/s eta 0:00:02\n",
      "   ------------------------- -------------- 9.2/14.5 MB 3.5 MB/s eta 0:00:02\n",
      "   -------------------------- ------------- 9.6/14.5 MB 3.6 MB/s eta 0:00:02\n",
      "   -------------------------- ------------- 9.8/14.5 MB 3.6 MB/s eta 0:00:02\n",
      "   --------------------------- ------------ 10.0/14.5 MB 3.7 MB/s eta 0:00:02\n",
      "   ---------------------------- ----------- 10.3/14.5 MB 3.8 MB/s eta 0:00:02\n",
      "   ----------------------------- ---------- 10.6/14.5 MB 3.9 MB/s eta 0:00:02\n",
      "   ------------------------------ --------- 10.9/14.5 MB 4.2 MB/s eta 0:00:01\n",
      "   ------------------------------- -------- 11.3/14.5 MB 4.5 MB/s eta 0:00:01\n",
      "   ------------------------------- -------- 11.5/14.5 MB 4.5 MB/s eta 0:00:01\n",
      "   -------------------------------- ------- 11.8/14.5 MB 4.7 MB/s eta 0:00:01\n",
      "   --------------------------------- ------ 12.1/14.5 MB 5.0 MB/s eta 0:00:01\n",
      "   ---------------------------------- ----- 12.5/14.5 MB 5.2 MB/s eta 0:00:01\n",
      "   ----------------------------------- ---- 12.8/14.5 MB 5.4 MB/s eta 0:00:01\n",
      "   ------------------------------------ --- 13.3/14.5 MB 5.6 MB/s eta 0:00:01\n",
      "   ------------------------------------- -- 13.5/14.5 MB 5.7 MB/s eta 0:00:01\n",
      "   -------------------------------------- - 14.0/14.5 MB 5.8 MB/s eta 0:00:01\n",
      "   ---------------------------------------  14.4/14.5 MB 6.1 MB/s eta 0:00:01\n",
      "   ---------------------------------------  14.5/14.5 MB 6.0 MB/s eta 0:00:01\n",
      "   ---------------------------------------  14.5/14.5 MB 6.0 MB/s eta 0:00:01\n",
      "   ---------------------------------------- 14.5/14.5 MB 5.7 MB/s eta 0:00:00\n",
      "Downloading onnxruntime-1.20.1-cp311-cp311-win_amd64.whl (11.3 MB)\n",
      "   ---------------------------------------- 0.0/11.3 MB ? eta -:--:--\n",
      "   - -------------------------------------- 0.3/11.3 MB 8.9 MB/s eta 0:00:02\n",
      "   -- ------------------------------------- 0.7/11.3 MB 8.9 MB/s eta 0:00:02\n",
      "   --- ------------------------------------ 1.1/11.3 MB 8.9 MB/s eta 0:00:02\n",
      "   ----- ---------------------------------- 1.6/11.3 MB 9.0 MB/s eta 0:00:02\n",
      "   ------ --------------------------------- 1.9/11.3 MB 8.6 MB/s eta 0:00:02\n",
      "   -------- ------------------------------- 2.3/11.3 MB 8.7 MB/s eta 0:00:02\n",
      "   --------- ------------------------------ 2.7/11.3 MB 8.6 MB/s eta 0:00:02\n",
      "   ---------- ----------------------------- 3.0/11.3 MB 8.4 MB/s eta 0:00:01\n",
      "   ------------ --------------------------- 3.5/11.3 MB 8.5 MB/s eta 0:00:01\n",
      "   ------------- -------------------------- 3.9/11.3 MB 8.7 MB/s eta 0:00:01\n",
      "   --------------- ------------------------ 4.3/11.3 MB 8.6 MB/s eta 0:00:01\n",
      "   ---------------- ----------------------- 4.7/11.3 MB 8.7 MB/s eta 0:00:01\n",
      "   ------------------ --------------------- 5.2/11.3 MB 8.9 MB/s eta 0:00:01\n",
      "   ------------------- -------------------- 5.5/11.3 MB 8.6 MB/s eta 0:00:01\n",
      "   --------------------- ------------------ 6.0/11.3 MB 8.7 MB/s eta 0:00:01\n",
      "   ---------------------- ----------------- 6.4/11.3 MB 8.7 MB/s eta 0:00:01\n",
      "   ------------------------ --------------- 6.8/11.3 MB 8.7 MB/s eta 0:00:01\n",
      "   ------------------------- -------------- 7.2/11.3 MB 8.6 MB/s eta 0:00:01\n",
      "   -------------------------- ------------- 7.6/11.3 MB 8.7 MB/s eta 0:00:01\n",
      "   ---------------------------- ----------- 8.0/11.3 MB 8.7 MB/s eta 0:00:01\n",
      "   ----------------------------- ---------- 8.4/11.3 MB 8.7 MB/s eta 0:00:01\n",
      "   ------------------------------- -------- 8.9/11.3 MB 8.8 MB/s eta 0:00:01\n",
      "   --------------------------------- ------ 9.3/11.3 MB 8.8 MB/s eta 0:00:01\n",
      "   ---------------------------------- ----- 9.7/11.3 MB 8.9 MB/s eta 0:00:01\n",
      "   ----------------------------------- ---- 10.1/11.3 MB 8.8 MB/s eta 0:00:01\n",
      "   ------------------------------------- -- 10.6/11.3 MB 8.8 MB/s eta 0:00:01\n",
      "   -------------------------------------- - 10.9/11.3 MB 8.8 MB/s eta 0:00:01\n",
      "   ---------------------------------------  11.3/11.3 MB 8.8 MB/s eta 0:00:01\n",
      "   ---------------------------------------  11.3/11.3 MB 8.8 MB/s eta 0:00:01\n",
      "   ---------------------------------------- 11.3/11.3 MB 8.4 MB/s eta 0:00:00\n",
      "Downloading pillow-10.4.0-cp311-cp311-win_amd64.whl (2.6 MB)\n",
      "   ---------------------------------------- 0.0/2.6 MB ? eta -:--:--\n",
      "   ----- ---------------------------------- 0.4/2.6 MB 7.8 MB/s eta 0:00:01\n",
      "   ------------ --------------------------- 0.8/2.6 MB 8.5 MB/s eta 0:00:01\n",
      "   -------------------------- ------------- 1.7/2.6 MB 9.0 MB/s eta 0:00:01\n",
      "   ---------------------------------- ----- 2.2/2.6 MB 9.4 MB/s eta 0:00:01\n",
      "   ---------------------------------------  2.5/2.6 MB 9.6 MB/s eta 0:00:01\n",
      "   ---------------------------------------- 2.6/2.6 MB 8.6 MB/s eta 0:00:00\n",
      "Downloading py_rust_stemmers-0.1.3-cp311-none-win_amd64.whl (208 kB)\n",
      "   ---------------------------------------- 0.0/209.0 kB ? eta -:--:--\n",
      "   ---------------------------------------- 209.0/209.0 kB 6.4 MB/s eta 0:00:00\n",
      "Downloading tokenizers-0.21.0-cp39-abi3-win_amd64.whl (2.4 MB)\n",
      "   ---------------------------------------- 0.0/2.4 MB ? eta -:--:--\n",
      "   ----- ---------------------------------- 0.3/2.4 MB 9.6 MB/s eta 0:00:01\n",
      "   ------------ --------------------------- 0.7/2.4 MB 9.1 MB/s eta 0:00:01\n",
      "   ------------------- -------------------- 1.2/2.4 MB 9.4 MB/s eta 0:00:01\n",
      "   -------------------------- ------------- 1.6/2.4 MB 9.2 MB/s eta 0:00:01\n",
      "   ---------------------------------- ----- 2.0/2.4 MB 9.3 MB/s eta 0:00:01\n",
      "   ---------------------------------------  2.4/2.4 MB 9.5 MB/s eta 0:00:01\n",
      "   ---------------------------------------- 2.4/2.4 MB 8.9 MB/s eta 0:00:00\n",
      "Downloading tqdm-4.67.1-py3-none-any.whl (78 kB)\n",
      "   ---------------------------------------- 0.0/78.5 kB ? eta -:--:--\n",
      "   ---------------------------------------- 78.5/78.5 kB 4.6 MB/s eta 0:00:00\n",
      "Downloading win32_setctime-1.2.0-py3-none-any.whl (4.1 kB)\n",
      "Downloading coloredlogs-15.0.1-py2.py3-none-any.whl (46 kB)\n",
      "   ---------------------------------------- 0.0/46.0 kB ? eta -:--:--\n",
      "   ---------------------------------------- 46.0/46.0 kB 2.2 MB/s eta 0:00:00\n",
      "Downloading flatbuffers-24.12.23-py2.py3-none-any.whl (30 kB)\n",
      "Downloading humanfriendly-10.0-py2.py3-none-any.whl (86 kB)\n",
      "   ---------------------------------------- 0.0/86.8 kB ? eta -:--:--\n",
      "   ---------------------------------------- 86.8/86.8 kB 2.5 MB/s eta 0:00:00\n",
      "Downloading pyreadline3-3.5.4-py3-none-any.whl (83 kB)\n",
      "   ---------------------------------------- 0.0/83.2 kB ? eta -:--:--\n",
      "   ---------------------------------------- 83.2/83.2 kB 4.6 MB/s eta 0:00:00\n",
      "Installing collected packages: py-rust-stemmers, mmh3, flatbuffers, win32-setctime, tqdm, pyreadline3, pillow, onnx, loguru, humanfriendly, huggingface-hub, tokenizers, coloredlogs, onnxruntime, fastembed\n",
      "  Attempting uninstall: tqdm\n",
      "    Found existing installation: tqdm 4.65.0\n",
      "    Uninstalling tqdm-4.65.0:\n",
      "      Successfully uninstalled tqdm-4.65.0\n",
      "  Attempting uninstall: pillow\n",
      "    Found existing installation: pillow 10.2.0\n",
      "    Uninstalling pillow-10.2.0:\n",
      "      Successfully uninstalled pillow-10.2.0\n",
      "Successfully installed coloredlogs-15.0.1 fastembed-0.5.0 flatbuffers-24.12.23 huggingface-hub-0.27.0 humanfriendly-10.0 loguru-0.7.3 mmh3-4.1.0 onnx-1.17.0 onnxruntime-1.20.1 pillow-10.4.0 py-rust-stemmers-0.1.3 pyreadline3-3.5.4 tokenizers-0.21.0 tqdm-4.67.1 win32-setctime-1.2.0\n"
     ]
    },
    {
     "name": "stderr",
     "output_type": "stream",
     "text": [
      "ERROR: pip's dependency resolver does not currently take into account all the packages that are installed. This behaviour is the source of the following dependency conflicts.\n",
      "streamlit 1.30.0 requires packaging<24,>=16.8, but you have packaging 24.2 which is incompatible.\n"
     ]
    }
   ],
   "source": [
    "!pip install fastembed"
   ]
  },
  {
   "cell_type": "code",
   "execution_count": 8,
   "id": "727ac99f-b1e9-4623-9e39-b1dea60f6783",
   "metadata": {},
   "outputs": [
    {
     "name": "stdout",
     "output_type": "stream",
     "text": [
      "Collecting faiss-cpuNote: you may need to restart the kernel to use updated packages.\n",
      "\n",
      "  Downloading faiss_cpu-1.9.0.post1-cp311-cp311-win_amd64.whl.metadata (4.5 kB)\n",
      "Requirement already satisfied: numpy<3.0,>=1.25.0 in c:\\users\\admin\\anaconda3\\lib\\site-packages (from faiss-cpu) (1.26.4)\n",
      "Requirement already satisfied: packaging in c:\\users\\admin\\anaconda3\\lib\\site-packages (from faiss-cpu) (24.2)\n",
      "Downloading faiss_cpu-1.9.0.post1-cp311-cp311-win_amd64.whl (13.8 MB)\n",
      "   ---------------------------------------- 0.0/13.8 MB ? eta -:--:--\n",
      "   ---------------------------------------- 0.0/13.8 MB ? eta -:--:--\n",
      "   ---------------------------------------- 0.0/13.8 MB ? eta -:--:--\n",
      "   ---------------------------------------- 0.0/13.8 MB ? eta -:--:--\n",
      "   ---------------------------------------- 0.0/13.8 MB 281.8 kB/s eta 0:00:49\n",
      "   ---------------------------------------- 0.1/13.8 MB 590.8 kB/s eta 0:00:24\n",
      "    --------------------------------------- 0.2/13.8 MB 930.9 kB/s eta 0:00:15\n",
      "    --------------------------------------- 0.3/13.8 MB 1.2 MB/s eta 0:00:12\n",
      "   - -------------------------------------- 0.4/13.8 MB 1.3 MB/s eta 0:00:11\n",
      "   - -------------------------------------- 0.6/13.8 MB 1.6 MB/s eta 0:00:09\n",
      "   -- ------------------------------------- 0.8/13.8 MB 1.9 MB/s eta 0:00:07\n",
      "   -- ------------------------------------- 1.0/13.8 MB 2.2 MB/s eta 0:00:06\n",
      "   --- ------------------------------------ 1.1/13.8 MB 2.2 MB/s eta 0:00:06\n",
      "   --- ------------------------------------ 1.3/13.8 MB 2.5 MB/s eta 0:00:05\n",
      "   ---- ----------------------------------- 1.5/13.8 MB 2.7 MB/s eta 0:00:05\n",
      "   ----- ---------------------------------- 1.8/13.8 MB 2.9 MB/s eta 0:00:05\n",
      "   ----- ---------------------------------- 2.0/13.8 MB 2.9 MB/s eta 0:00:05\n",
      "   ------ --------------------------------- 2.2/13.8 MB 3.1 MB/s eta 0:00:04\n",
      "   ------ --------------------------------- 2.3/13.8 MB 3.0 MB/s eta 0:00:04\n",
      "   ------- -------------------------------- 2.6/13.8 MB 3.2 MB/s eta 0:00:04\n",
      "   -------- ------------------------------- 2.8/13.8 MB 3.3 MB/s eta 0:00:04\n",
      "   -------- ------------------------------- 3.1/13.8 MB 3.4 MB/s eta 0:00:04\n",
      "   --------- ------------------------------ 3.3/13.8 MB 3.5 MB/s eta 0:00:03\n",
      "   ---------- ----------------------------- 3.6/13.8 MB 3.5 MB/s eta 0:00:03\n",
      "   ---------- ----------------------------- 3.8/13.8 MB 3.6 MB/s eta 0:00:03\n",
      "   ----------- ---------------------------- 4.1/13.8 MB 3.7 MB/s eta 0:00:03\n",
      "   ------------ --------------------------- 4.4/13.8 MB 3.8 MB/s eta 0:00:03\n",
      "   ------------- -------------------------- 4.6/13.8 MB 3.9 MB/s eta 0:00:03\n",
      "   -------------- ------------------------- 4.9/13.8 MB 4.0 MB/s eta 0:00:03\n",
      "   -------------- ------------------------- 5.1/13.8 MB 4.1 MB/s eta 0:00:03\n",
      "   --------------- ------------------------ 5.4/13.8 MB 4.0 MB/s eta 0:00:03\n",
      "   ---------------- ----------------------- 5.7/13.8 MB 4.2 MB/s eta 0:00:02\n",
      "   ---------------- ----------------------- 5.8/13.8 MB 4.1 MB/s eta 0:00:02\n",
      "   ------------------ --------------------- 6.2/13.8 MB 4.3 MB/s eta 0:00:02\n",
      "   ------------------ --------------------- 6.5/13.8 MB 4.3 MB/s eta 0:00:02\n",
      "   -------------------- ------------------- 6.9/13.8 MB 4.4 MB/s eta 0:00:02\n",
      "   -------------------- ------------------- 7.2/13.8 MB 4.5 MB/s eta 0:00:02\n",
      "   --------------------- ------------------ 7.6/13.8 MB 4.6 MB/s eta 0:00:02\n",
      "   ---------------------- ----------------- 7.7/13.8 MB 4.6 MB/s eta 0:00:02\n",
      "   ----------------------- ---------------- 8.0/13.8 MB 4.6 MB/s eta 0:00:02\n",
      "   ------------------------ --------------- 8.5/13.8 MB 4.7 MB/s eta 0:00:02\n",
      "   ------------------------- -------------- 8.7/13.8 MB 4.7 MB/s eta 0:00:02\n",
      "   -------------------------- ------------- 9.2/13.8 MB 4.9 MB/s eta 0:00:01\n",
      "   --------------------------- ------------ 9.4/13.8 MB 4.9 MB/s eta 0:00:01\n",
      "   ---------------------------- ----------- 9.9/13.8 MB 5.0 MB/s eta 0:00:01\n",
      "   ----------------------------- ---------- 10.1/13.8 MB 5.0 MB/s eta 0:00:01\n",
      "   ------------------------------ --------- 10.6/13.8 MB 5.7 MB/s eta 0:00:01\n",
      "   ------------------------------- -------- 10.9/13.8 MB 5.9 MB/s eta 0:00:01\n",
      "   -------------------------------- ------- 11.3/13.8 MB 6.1 MB/s eta 0:00:01\n",
      "   --------------------------------- ------ 11.7/13.8 MB 6.2 MB/s eta 0:00:01\n",
      "   ---------------------------------- ----- 12.1/13.8 MB 6.4 MB/s eta 0:00:01\n",
      "   ------------------------------------ --- 12.5/13.8 MB 6.5 MB/s eta 0:00:01\n",
      "   ------------------------------------- -- 12.9/13.8 MB 6.6 MB/s eta 0:00:01\n",
      "   -------------------------------------- - 13.4/13.8 MB 6.9 MB/s eta 0:00:01\n",
      "   ---------------------------------------  13.6/13.8 MB 6.9 MB/s eta 0:00:01\n",
      "   ---------------------------------------  13.8/13.8 MB 6.9 MB/s eta 0:00:01\n",
      "   ---------------------------------------  13.8/13.8 MB 6.9 MB/s eta 0:00:01\n",
      "   ---------------------------------------  13.8/13.8 MB 6.9 MB/s eta 0:00:01\n",
      "   ---------------------------------------- 13.8/13.8 MB 6.5 MB/s eta 0:00:00\n",
      "Installing collected packages: faiss-cpu\n",
      "Successfully installed faiss-cpu-1.9.0.post1\n"
     ]
    }
   ],
   "source": [
    "pip install faiss-cpu"
   ]
  },
  {
   "cell_type": "code",
   "execution_count": 9,
   "id": "23fd3d91-6a65-40e8-8dbc-d5bbb52e26c8",
   "metadata": {},
   "outputs": [],
   "source": [
    "from langchain_community.document_loaders import PyPDFDirectoryLoader"
   ]
  },
  {
   "cell_type": "code",
   "execution_count": 14,
   "id": "a95424ec-be46-4123-9fba-0aa2f03b3e8d",
   "metadata": {},
   "outputs": [],
   "source": [
    "from langchain_community.document_loaders import PyPDFLoader\n",
    "from langchain.text_splitter import RecursiveCharacterTextSplitter\n",
    "from langchain_community.embeddings import FastEmbedEmbeddings\n",
    "from langchain_community.vectorstores import FAISS"
   ]
  },
  {
   "cell_type": "code",
   "execution_count": 15,
   "id": "ada2a1e0-64e8-44b9-b49c-8619ba87b909",
   "metadata": {},
   "outputs": [],
   "source": [
    "loader = PyPDFDirectoryLoader('/content/data')"
   ]
  },
  {
   "cell_type": "code",
   "execution_count": 19,
   "id": "fdb8ac41-a674-4271-9298-8607a7be2001",
   "metadata": {},
   "outputs": [],
   "source": [
    "loader = PyPDFLoader(\"C:/Users/admin/Downloads/cs.pdf\")"
   ]
  },
  {
   "cell_type": "code",
   "execution_count": 20,
   "id": "f157ad2f-4c55-4c74-9ecb-374feb02e72e",
   "metadata": {},
   "outputs": [],
   "source": [
    "data = loader.load()"
   ]
  },
  {
   "cell_type": "code",
   "execution_count": 21,
   "id": "d61b3c33-ca8b-4a6c-9e64-0472492a8fcb",
   "metadata": {},
   "outputs": [
    {
     "data": {
      "text/plain": [
       "2"
      ]
     },
     "execution_count": 21,
     "metadata": {},
     "output_type": "execute_result"
    }
   ],
   "source": [
    "len(data)"
   ]
  },
  {
   "cell_type": "code",
   "execution_count": 22,
   "id": "c2851171-d0c1-4f92-9966-d3c958859ddc",
   "metadata": {},
   "outputs": [],
   "source": [
    "text_splitter  = RecursiveCharacterTextSplitter(chunk_size = 1000, chunk_overlap = 100)"
   ]
  },
  {
   "cell_type": "code",
   "execution_count": 23,
   "id": "f1a67e6c-8ad7-4994-96a9-25e0ba43c1b9",
   "metadata": {},
   "outputs": [],
   "source": [
    "text = text_splitter.split_documents(data)"
   ]
  },
  {
   "cell_type": "code",
   "execution_count": 24,
   "id": "c286b533-5c27-4df0-a541-b408f067abcb",
   "metadata": {},
   "outputs": [
    {
     "data": {
      "text/plain": [
       "5"
      ]
     },
     "execution_count": 24,
     "metadata": {},
     "output_type": "execute_result"
    }
   ],
   "source": [
    "len(text)"
   ]
  },
  {
   "cell_type": "code",
   "execution_count": 25,
   "id": "32540fda-1594-4e57-bf9e-b5145d789308",
   "metadata": {},
   "outputs": [
    {
     "data": {
      "application/vnd.jupyter.widget-view+json": {
       "model_id": "d36e6df3a85e4a068b95b83fd27683d8",
       "version_major": 2,
       "version_minor": 0
      },
      "text/plain": [
       "Fetching 5 files:   0%|          | 0/5 [00:00<?, ?it/s]"
      ]
     },
     "metadata": {},
     "output_type": "display_data"
    },
    {
     "data": {
      "application/vnd.jupyter.widget-view+json": {
       "model_id": "c91ed63bc61f4d4ca3f361903a4c38c2",
       "version_major": 2,
       "version_minor": 0
      },
      "text/plain": [
       "tokenizer_config.json:   0%|          | 0.00/1.24k [00:00<?, ?B/s]"
      ]
     },
     "metadata": {},
     "output_type": "display_data"
    },
    {
     "name": "stderr",
     "output_type": "stream",
     "text": [
      "C:\\Users\\admin\\anaconda3\\Lib\\site-packages\\huggingface_hub\\file_download.py:140: UserWarning: `huggingface_hub` cache-system uses symlinks by default to efficiently store duplicated files but your machine does not support them in C:\\Users\\admin\\AppData\\Local\\Temp\\fastembed_cache\\models--qdrant--bge-small-en-v1.5-onnx-q. Caching files will still work but in a degraded version that might require more space on your disk. This warning can be disabled by setting the `HF_HUB_DISABLE_SYMLINKS_WARNING` environment variable. For more details, see https://huggingface.co/docs/huggingface_hub/how-to-cache#limitations.\n",
      "To support symlinks on Windows, you either need to activate Developer Mode or to run Python as an administrator. In order to activate developer mode, see this article: https://docs.microsoft.com/en-us/windows/apps/get-started/enable-your-device-for-development\n",
      "  warnings.warn(message)\n"
     ]
    },
    {
     "data": {
      "application/vnd.jupyter.widget-view+json": {
       "model_id": "eea4560008df445292ba0f9195e6241c",
       "version_major": 2,
       "version_minor": 0
      },
      "text/plain": [
       "config.json:   0%|          | 0.00/706 [00:00<?, ?B/s]"
      ]
     },
     "metadata": {},
     "output_type": "display_data"
    },
    {
     "data": {
      "application/vnd.jupyter.widget-view+json": {
       "model_id": "f3c496863202439781bd532581c7aec1",
       "version_major": 2,
       "version_minor": 0
      },
      "text/plain": [
       "model_optimized.onnx:   0%|          | 0.00/66.5M [00:00<?, ?B/s]"
      ]
     },
     "metadata": {},
     "output_type": "display_data"
    },
    {
     "data": {
      "application/vnd.jupyter.widget-view+json": {
       "model_id": "8e8de9cbdcb749f79041cd281dc945a5",
       "version_major": 2,
       "version_minor": 0
      },
      "text/plain": [
       "tokenizer.json:   0%|          | 0.00/711k [00:00<?, ?B/s]"
      ]
     },
     "metadata": {},
     "output_type": "display_data"
    },
    {
     "data": {
      "application/vnd.jupyter.widget-view+json": {
       "model_id": "82e2b93e1ad14a2da72c8037a603e0ea",
       "version_major": 2,
       "version_minor": 0
      },
      "text/plain": [
       "special_tokens_map.json:   0%|          | 0.00/695 [00:00<?, ?B/s]"
      ]
     },
     "metadata": {},
     "output_type": "display_data"
    }
   ],
   "source": [
    "embeddings = FastEmbedEmbeddings(model_name=\"BAAI/bge-small-en-v1.5\")"
   ]
  },
  {
   "cell_type": "code",
   "execution_count": 26,
   "id": "fe6c8eba-8dd5-445e-be51-6d9a09dbcea9",
   "metadata": {},
   "outputs": [],
   "source": [
    "db = FAISS.from_documents(text, embeddings)"
   ]
  },
  {
   "cell_type": "code",
   "execution_count": 27,
   "id": "2e896cae-420b-46c7-ab92-bb42d8360d86",
   "metadata": {},
   "outputs": [],
   "source": [
    "retriever = db.as_retriever(search_type=\"similarity\", search_kwargs={\"k\": 4})"
   ]
  },
  {
   "cell_type": "code",
   "execution_count": 28,
   "id": "c6e20638-6d33-402c-b729-62574cce9213",
   "metadata": {},
   "outputs": [
    {
     "name": "stderr",
     "output_type": "stream",
     "text": [
      "C:\\Users\\admin\\AppData\\Local\\Temp\\ipykernel_27404\\4201933053.py:1: LangChainDeprecationWarning: The method `BaseRetriever.get_relevant_documents` was deprecated in langchain-core 0.1.46 and will be removed in 1.0. Use :meth:`~invoke` instead.\n",
      "  retriever_docs = retriever.get_relevant_documents(\"What are the 5 steps for genai ?\")\n"
     ]
    }
   ],
   "source": [
    "retriever_docs = retriever.get_relevant_documents(\"What are the 5 steps for genai ?\")"
   ]
  },
  {
   "cell_type": "code",
   "execution_count": 29,
   "id": "55f3f4e6-efa2-4f8a-91d7-cfdd33e162b4",
   "metadata": {},
   "outputs": [
    {
     "data": {
      "text/plain": [
       "[Document(id='1af5f524-42c5-4021-a985-34e256f745a3', metadata={'source': 'C:/Users/admin/Downloads/cs.pdf', 'page': 1}, page_content='Section 8: Operating System \\nSystem calls, processes, threads, inter‐process communication, concurrency and synchronization. \\nDeadlock. CPU and I/O scheduling. Memory management and virtual memory. File systems. \\nSection 9: Databases \\nER‐model. Relational model: relational algebra, tuple calculus, SQL. Integrity constraints, normal \\nforms. File organization, indexing (e.g., B and B+ trees). Transactions and concurrency control. \\n \\nSection 10: Computer Networks \\nConcept of layering: OSI and TCP/IP Protocol Stacks; Basics of packet,circuit and virtual circuit-\\nswitching; Data link layer: framing, error detection, Medium Access Control, Ethernet bridging; \\nRouting protocols: shortest path, flooding, distance vector and link state routing; Fragmentation \\nand IP addressing, IPv4, CIDR notation, Basics of IP support protocols (ARP, DHCP, ICMP), \\nNetwork Address Translation (NAT); Transport layer: flow control and congestion control, UDP,'),\n",
       " Document(id='1a42a5c5-da09-405c-95cc-d7ee9c6ab9c7', metadata={'source': 'C:/Users/admin/Downloads/cs.pdf', 'page': 1}, page_content='Network Address Translation (NAT); Transport layer: flow control and congestion control, UDP, \\nTCP, sockets; Application layer protocols: DNS, SMTP, HTTP, FTP, Email.'),\n",
       " Document(id='d4249ec4-0723-4f1b-83e1-8240ce9faa9d', metadata={'source': 'C:/Users/admin/Downloads/cs.pdf', 'page': 0}, page_content='computer arithmetic (fixed and floating point). \\nSection 3: Computer Organization and Architecture \\nMachine instructions and addressing modes. ALU, data‐path and control unit. Instruction \\npipelining, pipeline hazards. Memory hierarchy: cache, main memory and secondary storage; I/O \\ninterface (interrupt and DMA mode). \\nSection 4: Programming and Data Structures \\nProgramming in C. Recursion. Arrays, stacks, queues, linked lists, trees, binary search trees, \\nbinary heaps, graphs. \\nSection 5: Algorithms \\nSearching, sorting, hashing. Asymptotic worst case time and space complexity. Algorithm design \\ntechniques: greedy, dynamic programming and divide‐and‐conquer. Graph traversals, minimum \\nspanning trees, shortest paths \\nSection 6: Theory of Computation \\nRegular expressions and finite automata. Context-free grammars and push-down \\nautomata.Regular and contex-free languages, pumping lemma. Turing machines and \\nundecidability. \\nSection 7: Compiler Design'),\n",
       " Document(id='79a0740c-d5ac-403e-9129-0c4734a84807', metadata={'source': 'C:/Users/admin/Downloads/cs.pdf', 'page': 0}, page_content='undecidability. \\nSection 7: Compiler Design \\nLexical analysis, parsing, syntax-directed translation. Runtime environments. Intermediate code \\ngeneration. Local optimisation, Data flow analyses: constant propagation, liveness analysis, \\ncommon subexpression elimination.')]"
      ]
     },
     "execution_count": 29,
     "metadata": {},
     "output_type": "execute_result"
    }
   ],
   "source": [
    "retriever_docs"
   ]
  },
  {
   "cell_type": "code",
   "execution_count": 30,
   "id": "e431218d-addb-4c00-a030-2fb0cfedc4ac",
   "metadata": {},
   "outputs": [
    {
     "name": "stdout",
     "output_type": "stream",
     "text": [
      "Requirement already satisfied: groq in c:\\users\\admin\\anaconda3\\lib\\site-packages (0.13.1)\n",
      "Requirement already satisfied: anyio<5,>=3.5.0 in c:\\users\\admin\\anaconda3\\lib\\site-packages (from groq) (4.2.0)\n",
      "Requirement already satisfied: distro<2,>=1.7.0 in c:\\users\\admin\\anaconda3\\lib\\site-packages (from groq) (1.8.0)\n",
      "Requirement already satisfied: httpx<1,>=0.23.0 in c:\\users\\admin\\anaconda3\\lib\\site-packages (from groq) (0.28.1)\n",
      "Requirement already satisfied: pydantic<3,>=1.9.0 in c:\\users\\admin\\anaconda3\\lib\\site-packages (from groq) (2.10.4)\n",
      "Requirement already satisfied: sniffio in c:\\users\\admin\\anaconda3\\lib\\site-packages (from groq) (1.3.0)\n",
      "Requirement already satisfied: typing-extensions<5,>=4.10 in c:\\users\\admin\\anaconda3\\lib\\site-packages (from groq) (4.12.2)\n",
      "Requirement already satisfied: idna>=2.8 in c:\\users\\admin\\anaconda3\\lib\\site-packages (from anyio<5,>=3.5.0->groq) (3.4)\n",
      "Requirement already satisfied: certifi in c:\\users\\admin\\anaconda3\\lib\\site-packages (from httpx<1,>=0.23.0->groq) (2024.2.2)\n",
      "Requirement already satisfied: httpcore==1.* in c:\\users\\admin\\anaconda3\\lib\\site-packages (from httpx<1,>=0.23.0->groq) (1.0.7)\n",
      "Requirement already satisfied: h11<0.15,>=0.13 in c:\\users\\admin\\anaconda3\\lib\\site-packages (from httpcore==1.*->httpx<1,>=0.23.0->groq) (0.14.0)\n",
      "Requirement already satisfied: annotated-types>=0.6.0 in c:\\users\\admin\\anaconda3\\lib\\site-packages (from pydantic<3,>=1.9.0->groq) (0.7.0)\n",
      "Requirement already satisfied: pydantic-core==2.27.2 in c:\\users\\admin\\anaconda3\\lib\\site-packages (from pydantic<3,>=1.9.0->groq) (2.27.2)\n"
     ]
    }
   ],
   "source": [
    "!pip install groq"
   ]
  },
  {
   "cell_type": "code",
   "execution_count": 31,
   "id": "aad3ee71-7d65-40b9-85b8-7e8208ed982c",
   "metadata": {},
   "outputs": [
    {
     "name": "stdout",
     "output_type": "stream",
     "text": [
      "Requirement already satisfied: langchain-groq in c:\\users\\admin\\anaconda3\\lib\\site-packages (0.2.2)\n",
      "Requirement already satisfied: groq<1,>=0.4.1 in c:\\users\\admin\\anaconda3\\lib\\site-packages (from langchain-groq) (0.13.1)\n",
      "Requirement already satisfied: langchain-core<0.4.0,>=0.3.27 in c:\\users\\admin\\anaconda3\\lib\\site-packages (from langchain-groq) (0.3.28)\n",
      "Requirement already satisfied: anyio<5,>=3.5.0 in c:\\users\\admin\\anaconda3\\lib\\site-packages (from groq<1,>=0.4.1->langchain-groq) (4.2.0)\n",
      "Requirement already satisfied: distro<2,>=1.7.0 in c:\\users\\admin\\anaconda3\\lib\\site-packages (from groq<1,>=0.4.1->langchain-groq) (1.8.0)\n",
      "Requirement already satisfied: httpx<1,>=0.23.0 in c:\\users\\admin\\anaconda3\\lib\\site-packages (from groq<1,>=0.4.1->langchain-groq) (0.28.1)\n",
      "Requirement already satisfied: pydantic<3,>=1.9.0 in c:\\users\\admin\\anaconda3\\lib\\site-packages (from groq<1,>=0.4.1->langchain-groq) (2.10.4)\n",
      "Requirement already satisfied: sniffio in c:\\users\\admin\\anaconda3\\lib\\site-packages (from groq<1,>=0.4.1->langchain-groq) (1.3.0)\n",
      "Requirement already satisfied: typing-extensions<5,>=4.10 in c:\\users\\admin\\anaconda3\\lib\\site-packages (from groq<1,>=0.4.1->langchain-groq) (4.12.2)\n",
      "Requirement already satisfied: PyYAML>=5.3 in c:\\users\\admin\\anaconda3\\lib\\site-packages (from langchain-core<0.4.0,>=0.3.27->langchain-groq) (6.0.1)\n",
      "Requirement already satisfied: jsonpatch<2.0,>=1.33 in c:\\users\\admin\\anaconda3\\lib\\site-packages (from langchain-core<0.4.0,>=0.3.27->langchain-groq) (1.33)\n",
      "Requirement already satisfied: langsmith<0.3,>=0.1.125 in c:\\users\\admin\\anaconda3\\lib\\site-packages (from langchain-core<0.4.0,>=0.3.27->langchain-groq) (0.2.6)\n",
      "Requirement already satisfied: packaging<25,>=23.2 in c:\\users\\admin\\anaconda3\\lib\\site-packages (from langchain-core<0.4.0,>=0.3.27->langchain-groq) (24.2)\n",
      "Requirement already satisfied: tenacity!=8.4.0,<10.0.0,>=8.1.0 in c:\\users\\admin\\anaconda3\\lib\\site-packages (from langchain-core<0.4.0,>=0.3.27->langchain-groq) (8.2.2)\n",
      "Requirement already satisfied: idna>=2.8 in c:\\users\\admin\\anaconda3\\lib\\site-packages (from anyio<5,>=3.5.0->groq<1,>=0.4.1->langchain-groq) (3.4)\n",
      "Requirement already satisfied: certifi in c:\\users\\admin\\anaconda3\\lib\\site-packages (from httpx<1,>=0.23.0->groq<1,>=0.4.1->langchain-groq) (2024.2.2)\n",
      "Requirement already satisfied: httpcore==1.* in c:\\users\\admin\\anaconda3\\lib\\site-packages (from httpx<1,>=0.23.0->groq<1,>=0.4.1->langchain-groq) (1.0.7)\n",
      "Requirement already satisfied: h11<0.15,>=0.13 in c:\\users\\admin\\anaconda3\\lib\\site-packages (from httpcore==1.*->httpx<1,>=0.23.0->groq<1,>=0.4.1->langchain-groq) (0.14.0)\n",
      "Requirement already satisfied: jsonpointer>=1.9 in c:\\users\\admin\\anaconda3\\lib\\site-packages (from jsonpatch<2.0,>=1.33->langchain-core<0.4.0,>=0.3.27->langchain-groq) (2.1)\n",
      "Requirement already satisfied: orjson<4.0.0,>=3.9.14 in c:\\users\\admin\\anaconda3\\lib\\site-packages (from langsmith<0.3,>=0.1.125->langchain-core<0.4.0,>=0.3.27->langchain-groq) (3.10.12)\n",
      "Requirement already satisfied: requests<3,>=2 in c:\\users\\admin\\anaconda3\\lib\\site-packages (from langsmith<0.3,>=0.1.125->langchain-core<0.4.0,>=0.3.27->langchain-groq) (2.31.0)\n",
      "Requirement already satisfied: requests-toolbelt<2.0.0,>=1.0.0 in c:\\users\\admin\\anaconda3\\lib\\site-packages (from langsmith<0.3,>=0.1.125->langchain-core<0.4.0,>=0.3.27->langchain-groq) (1.0.0)\n",
      "Requirement already satisfied: annotated-types>=0.6.0 in c:\\users\\admin\\anaconda3\\lib\\site-packages (from pydantic<3,>=1.9.0->groq<1,>=0.4.1->langchain-groq) (0.7.0)\n",
      "Requirement already satisfied: pydantic-core==2.27.2 in c:\\users\\admin\\anaconda3\\lib\\site-packages (from pydantic<3,>=1.9.0->groq<1,>=0.4.1->langchain-groq) (2.27.2)\n",
      "Requirement already satisfied: charset-normalizer<4,>=2 in c:\\users\\admin\\anaconda3\\lib\\site-packages (from requests<3,>=2->langsmith<0.3,>=0.1.125->langchain-core<0.4.0,>=0.3.27->langchain-groq) (2.0.4)\n",
      "Requirement already satisfied: urllib3<3,>=1.21.1 in c:\\users\\admin\\anaconda3\\lib\\site-packages (from requests<3,>=2->langsmith<0.3,>=0.1.125->langchain-core<0.4.0,>=0.3.27->langchain-groq) (2.0.7)\n"
     ]
    }
   ],
   "source": [
    "!pip install langchain-groq"
   ]
  },
  {
   "cell_type": "code",
   "execution_count": 32,
   "id": "32c32f6d-ff83-4fe8-8f0b-666734c65348",
   "metadata": {},
   "outputs": [],
   "source": [
    "from groq import Groq"
   ]
  },
  {
   "cell_type": "code",
   "execution_count": 33,
   "id": "01638a7f-1bd4-4de0-b705-f22c13dd8e46",
   "metadata": {},
   "outputs": [
    {
     "name": "stdout",
     "output_type": "stream",
     "text": [
      "Requirement already satisfied: python-dotenv in c:\\users\\admin\\anaconda3\\lib\\site-packages (0.21.0)\n"
     ]
    }
   ],
   "source": [
    "!pip install python-dotenv"
   ]
  },
  {
   "cell_type": "code",
   "execution_count": 39,
   "id": "9b8eee0c-0431-4736-8f09-2b9a12f69248",
   "metadata": {},
   "outputs": [],
   "source": [
    "with open('.env', 'w') as f:\n",
    "  f.write('GROQ_API_KEY=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')"
   ]
  },
  {
   "cell_type": "code",
   "execution_count": 42,
   "id": "1292fa8b-187a-4085-8aeb-3090d5e905fc",
   "metadata": {},
   "outputs": [
    {
     "data": {
      "text/plain": [
       "True"
      ]
     },
     "execution_count": 42,
     "metadata": {},
     "output_type": "execute_result"
    }
   ],
   "source": [
    "from dotenv import load_dotenv\n",
    "load_dotenv()"
   ]
  },
  {
   "cell_type": "code",
   "execution_count": 43,
   "id": "24a7da76-b034-4cb8-8b60-187e9b2ab203",
   "metadata": {},
   "outputs": [],
   "source": [
    "import os\n",
    "client = Groq(api_key=os.getenv('GROQ_API_KEY'))"
   ]
  },
  {
   "cell_type": "code",
   "execution_count": 44,
   "id": "3a6f59fc-c641-4a54-ad23-e644094a92b8",
   "metadata": {},
   "outputs": [],
   "source": [
    "from langchain_groq import ChatGroq"
   ]
  },
  {
   "cell_type": "code",
   "execution_count": 45,
   "id": "ef39d483-7178-458f-9fda-10eff3288258",
   "metadata": {},
   "outputs": [],
   "source": [
    "llm = ChatGroq(model_name='llama3-70b-8192')"
   ]
  },
  {
   "cell_type": "code",
   "execution_count": 50,
   "id": "ab7ca53a-96dd-42b2-aec2-d0f22c3293cb",
   "metadata": {},
   "outputs": [],
   "source": [
    "query = \"How many days are in January?\""
   ]
  },
  {
   "cell_type": "code",
   "execution_count": 51,
   "id": "450e67c4-dd9c-4919-81be-9c1e5e1a9aad",
   "metadata": {},
   "outputs": [
    {
     "data": {
      "text/plain": [
       "AIMessage(content='There are 31 days in January.', additional_kwargs={}, response_metadata={'token_usage': {'completion_tokens': 9, 'prompt_tokens': 17, 'total_tokens': 26, 'completion_time': 0.025854066, 'prompt_time': 0.003891454, 'queue_time': 0.026397786, 'total_time': 0.02974552}, 'model_name': 'llama3-70b-8192', 'system_fingerprint': 'fp_2f30b0b571', 'finish_reason': 'stop', 'logprobs': None}, id='run-c76c3cfc-8200-43b7-950a-8ec711db4b71-0', usage_metadata={'input_tokens': 17, 'output_tokens': 9, 'total_tokens': 26})"
      ]
     },
     "execution_count": 51,
     "metadata": {},
     "output_type": "execute_result"
    }
   ],
   "source": [
    "llm.invoke(query)"
   ]
  },
  {
   "cell_type": "code",
   "execution_count": 52,
   "id": "87275d72-923a-4ab5-9f60-ce8328f97a85",
   "metadata": {},
   "outputs": [],
   "source": [
    "from langchain.chains import RetrievalQA"
   ]
  },
  {
   "cell_type": "code",
   "execution_count": 53,
   "id": "fc699236-e5d0-46b7-8ab0-7b66b9c72e1e",
   "metadata": {},
   "outputs": [],
   "source": [
    "from langchain.prompts import PromptTemplate"
   ]
  },
  {
   "cell_type": "code",
   "execution_count": 83,
   "id": "d6a9a8ad-03b8-46cf-ba01-4318d8bafbb4",
   "metadata": {},
   "outputs": [],
   "source": [
    "prompt_template = '''\n",
    "Hello! I'm here to assist you. 😊\n",
    "\n",
    "{context}\n",
    "{question}\n",
    "'''"
   ]
  },
  {
   "cell_type": "code",
   "execution_count": 84,
   "id": "939c4c07-5d33-4156-b925-256a8e2406b8",
   "metadata": {},
   "outputs": [],
   "source": [
    "prompt = PromptTemplate(template =prompt_template,input_variables=['context','question'] )"
   ]
  },
  {
   "cell_type": "code",
   "execution_count": 85,
   "id": "75afcd16-7c3c-418e-a1e1-e79532e4a195",
   "metadata": {},
   "outputs": [],
   "source": [
    "qa = RetrievalQA.from_chain_type(llm=llm,\n",
    "                                 chain_type='stuff',\n",
    "                                 retriever=retriever,\n",
    "                                 chain_type_kwargs={'prompt':prompt},\n",
    "                                 return_source_documents=True\n",
    "\n",
    ")"
   ]
  },
  {
   "cell_type": "code",
   "execution_count": 89,
   "id": "d978ef25-333f-4ac5-895c-dc28b209dbfa",
   "metadata": {},
   "outputs": [],
   "source": [
    "query = \"How many sections are there in the cs?\""
   ]
  },
  {
   "cell_type": "code",
   "execution_count": 90,
   "id": "ee5c8f49-89de-438d-8943-5444c3a43347",
   "metadata": {},
   "outputs": [],
   "source": [
    "result = qa.invoke(query)"
   ]
  },
  {
   "cell_type": "code",
   "execution_count": 91,
   "id": "c4816ce9-1f16-43be-9cec-ff577b249faf",
   "metadata": {},
   "outputs": [
    {
     "data": {
      "text/plain": [
       "'😊 According to the provided text, there are 10 sections in the CS (Computer Science and Information Technology) curriculum:\\n\\n1. Section 1: Engineering Mathematics\\n2. Section 2: Digital Logic\\n3. Section 3: Computer Organization and Architecture\\n4. Section 4: Programming and Data Structures\\n5. Section 5: Algorithms\\n6. Section 6: Theory of Computation\\n7. Section 7: Compiler Design\\n8. Section 8: Operating System\\n9. Section 9: Databases\\n10. Section 10: Computer Networks'"
      ]
     },
     "execution_count": 91,
     "metadata": {},
     "output_type": "execute_result"
    }
   ],
   "source": [
    "result['result']"
   ]
  },
  {
   "cell_type": "code",
   "execution_count": 92,
   "id": "dc88e64b-900f-4322-a472-2cb44d3a45ce",
   "metadata": {},
   "outputs": [
    {
     "name": "stdout",
     "output_type": "stream",
     "text": [
      "😊 According to the provided text, there are 10 sections in the CS (Computer Science and Information Technology) curriculum:\n",
      "\n",
      "1. Section 1: Engineering Mathematics\n",
      "2. Section 2: Digital Logic\n",
      "3. Section 3: Computer Organization and Architecture\n",
      "4. Section 4: Programming and Data Structures\n",
      "5. Section 5: Algorithms\n",
      "6. Section 6: Theory of Computation\n",
      "7. Section 7: Compiler Design\n",
      "8. Section 8: Operating System\n",
      "9. Section 9: Databases\n",
      "10. Section 10: Computer Networks\n"
     ]
    }
   ],
   "source": [
    "print(result['result'])"
   ]
  },
  {
   "cell_type": "code",
   "execution_count": 93,
   "id": "13633ad4-2f91-4469-bf0d-e8a05f7f317a",
   "metadata": {},
   "outputs": [
    {
     "data": {
      "text/plain": [
       "dict"
      ]
     },
     "execution_count": 93,
     "metadata": {},
     "output_type": "execute_result"
    }
   ],
   "source": [
    "type(result)"
   ]
  },
  {
   "cell_type": "code",
   "execution_count": 94,
   "id": "dd9ef480-f6c0-4703-99f1-d23c2c44cdd6",
   "metadata": {},
   "outputs": [
    {
     "data": {
      "text/plain": [
       "'😊 According to the provided text, there are 10 sections in the CS (Computer Science and Information Technology) curriculum:\\n\\n1. Section 1: Engineering Mathematics\\n2. Section 2: Digital Logic\\n3. Section 3: Computer Organization and Architecture\\n4. Section 4: Programming and Data Structures\\n5. Section 5: Algorithms\\n6. Section 6: Theory of Computation\\n7. Section 7: Compiler Design\\n8. Section 8: Operating System\\n9. Section 9: Databases\\n10. Section 10: Computer Networks'"
      ]
     },
     "execution_count": 94,
     "metadata": {},
     "output_type": "execute_result"
    }
   ],
   "source": [
    "result['result']"
   ]
  },
  {
   "cell_type": "code",
   "execution_count": 99,
   "id": "cabab9cd-0c3d-4f02-bdb1-dc2479e6c14a",
   "metadata": {},
   "outputs": [],
   "source": [
    "from langchain.memory import ConversationBufferMemory"
   ]
  },
  {
   "cell_type": "code",
   "execution_count": 100,
   "id": "f177a359-9052-42e4-9eab-9259cabf091f",
   "metadata": {},
   "outputs": [],
   "source": [
    "from langchain.chains import ConversationalRetrievalChain"
   ]
  },
  {
   "cell_type": "code",
   "execution_count": 101,
   "id": "4831239d-8906-490b-a5ee-809f58cd3b6b",
   "metadata": {},
   "outputs": [],
   "source": [
    "memory = ConversationBufferMemory(memory_key='chat_history', return_messages=False)"
   ]
  },
  {
   "cell_type": "code",
   "execution_count": 102,
   "id": "9fc71af8-8693-408c-989a-b5f5940d8168",
   "metadata": {},
   "outputs": [],
   "source": [
    "qa = ConversationalRetrievalChain.from_llm(llm=llm,\n",
    "                                           memory=memory,\n",
    "                                           return_source_documents=True,\n",
    "                                           retriever = retriever)"
   ]
  },
  {
   "cell_type": "code",
   "execution_count": 103,
   "id": "dd27010a-44cc-43d9-831b-dbac18a900dc",
   "metadata": {},
   "outputs": [],
   "source": [
    "query = \"I didn't understand. explain in detail\""
   ]
  },
  {
   "cell_type": "code",
   "execution_count": 110,
   "id": "56068d1b-8648-46cb-a941-e006796fbb0f",
   "metadata": {},
   "outputs": [
    {
     "ename": "ValueError",
     "evalue": "Got multiple output keys: dict_keys(['answer', 'source_documents']), cannot determine which to store in memory. Please set the 'output_key' explicitly.",
     "output_type": "error",
     "traceback": [
      "\u001b[1;31m---------------------------------------------------------------------------\u001b[0m",
      "\u001b[1;31mValueError\u001b[0m                                Traceback (most recent call last)",
      "Cell \u001b[1;32mIn[110], line 2\u001b[0m\n\u001b[0;32m      1\u001b[0m \u001b[38;5;66;03m# Retrieve answer only\u001b[39;00m\n\u001b[1;32m----> 2\u001b[0m result \u001b[38;5;241m=\u001b[39m qa\u001b[38;5;241m.\u001b[39minvoke(query, return_only_outputs\u001b[38;5;241m=\u001b[39m\u001b[38;5;28;01mTrue\u001b[39;00m)\n",
      "File \u001b[1;32m~\\anaconda3\\Lib\\site-packages\\langchain\\chains\\base.py:170\u001b[0m, in \u001b[0;36mChain.invoke\u001b[1;34m(self, input, config, **kwargs)\u001b[0m\n\u001b[0;32m    168\u001b[0m \u001b[38;5;28;01mexcept\u001b[39;00m \u001b[38;5;167;01mBaseException\u001b[39;00m \u001b[38;5;28;01mas\u001b[39;00m e:\n\u001b[0;32m    169\u001b[0m     run_manager\u001b[38;5;241m.\u001b[39mon_chain_error(e)\n\u001b[1;32m--> 170\u001b[0m     \u001b[38;5;28;01mraise\u001b[39;00m e\n\u001b[0;32m    171\u001b[0m run_manager\u001b[38;5;241m.\u001b[39mon_chain_end(outputs)\n\u001b[0;32m    173\u001b[0m \u001b[38;5;28;01mif\u001b[39;00m include_run_info:\n",
      "File \u001b[1;32m~\\anaconda3\\Lib\\site-packages\\langchain\\chains\\base.py:165\u001b[0m, in \u001b[0;36mChain.invoke\u001b[1;34m(self, input, config, **kwargs)\u001b[0m\n\u001b[0;32m    158\u001b[0m     \u001b[38;5;28mself\u001b[39m\u001b[38;5;241m.\u001b[39m_validate_inputs(inputs)\n\u001b[0;32m    159\u001b[0m     outputs \u001b[38;5;241m=\u001b[39m (\n\u001b[0;32m    160\u001b[0m         \u001b[38;5;28mself\u001b[39m\u001b[38;5;241m.\u001b[39m_call(inputs, run_manager\u001b[38;5;241m=\u001b[39mrun_manager)\n\u001b[0;32m    161\u001b[0m         \u001b[38;5;28;01mif\u001b[39;00m new_arg_supported\n\u001b[0;32m    162\u001b[0m         \u001b[38;5;28;01melse\u001b[39;00m \u001b[38;5;28mself\u001b[39m\u001b[38;5;241m.\u001b[39m_call(inputs)\n\u001b[0;32m    163\u001b[0m     )\n\u001b[1;32m--> 165\u001b[0m     final_outputs: Dict[\u001b[38;5;28mstr\u001b[39m, Any] \u001b[38;5;241m=\u001b[39m \u001b[38;5;28mself\u001b[39m\u001b[38;5;241m.\u001b[39mprep_outputs(\n\u001b[0;32m    166\u001b[0m         inputs, outputs, return_only_outputs\n\u001b[0;32m    167\u001b[0m     )\n\u001b[0;32m    168\u001b[0m \u001b[38;5;28;01mexcept\u001b[39;00m \u001b[38;5;167;01mBaseException\u001b[39;00m \u001b[38;5;28;01mas\u001b[39;00m e:\n\u001b[0;32m    169\u001b[0m     run_manager\u001b[38;5;241m.\u001b[39mon_chain_error(e)\n",
      "File \u001b[1;32m~\\anaconda3\\Lib\\site-packages\\langchain\\chains\\base.py:466\u001b[0m, in \u001b[0;36mChain.prep_outputs\u001b[1;34m(self, inputs, outputs, return_only_outputs)\u001b[0m\n\u001b[0;32m    464\u001b[0m \u001b[38;5;28mself\u001b[39m\u001b[38;5;241m.\u001b[39m_validate_outputs(outputs)\n\u001b[0;32m    465\u001b[0m \u001b[38;5;28;01mif\u001b[39;00m \u001b[38;5;28mself\u001b[39m\u001b[38;5;241m.\u001b[39mmemory \u001b[38;5;129;01mis\u001b[39;00m \u001b[38;5;129;01mnot\u001b[39;00m \u001b[38;5;28;01mNone\u001b[39;00m:\n\u001b[1;32m--> 466\u001b[0m     \u001b[38;5;28mself\u001b[39m\u001b[38;5;241m.\u001b[39mmemory\u001b[38;5;241m.\u001b[39msave_context(inputs, outputs)\n\u001b[0;32m    467\u001b[0m \u001b[38;5;28;01mif\u001b[39;00m return_only_outputs:\n\u001b[0;32m    468\u001b[0m     \u001b[38;5;28;01mreturn\u001b[39;00m outputs\n",
      "File \u001b[1;32m~\\anaconda3\\Lib\\site-packages\\langchain\\memory\\chat_memory.py:72\u001b[0m, in \u001b[0;36mBaseChatMemory.save_context\u001b[1;34m(self, inputs, outputs)\u001b[0m\n\u001b[0;32m     70\u001b[0m \u001b[38;5;28;01mdef\u001b[39;00m \u001b[38;5;21msave_context\u001b[39m(\u001b[38;5;28mself\u001b[39m, inputs: Dict[\u001b[38;5;28mstr\u001b[39m, Any], outputs: Dict[\u001b[38;5;28mstr\u001b[39m, \u001b[38;5;28mstr\u001b[39m]) \u001b[38;5;241m-\u001b[39m\u001b[38;5;241m>\u001b[39m \u001b[38;5;28;01mNone\u001b[39;00m:\n\u001b[0;32m     71\u001b[0m \u001b[38;5;250m    \u001b[39m\u001b[38;5;124;03m\"\"\"Save context from this conversation to buffer.\"\"\"\u001b[39;00m\n\u001b[1;32m---> 72\u001b[0m     input_str, output_str \u001b[38;5;241m=\u001b[39m \u001b[38;5;28mself\u001b[39m\u001b[38;5;241m.\u001b[39m_get_input_output(inputs, outputs)\n\u001b[0;32m     73\u001b[0m     \u001b[38;5;28mself\u001b[39m\u001b[38;5;241m.\u001b[39mchat_memory\u001b[38;5;241m.\u001b[39madd_messages(\n\u001b[0;32m     74\u001b[0m         [HumanMessage(content\u001b[38;5;241m=\u001b[39minput_str), AIMessage(content\u001b[38;5;241m=\u001b[39moutput_str)]\n\u001b[0;32m     75\u001b[0m     )\n",
      "File \u001b[1;32m~\\anaconda3\\Lib\\site-packages\\langchain\\memory\\chat_memory.py:61\u001b[0m, in \u001b[0;36mBaseChatMemory._get_input_output\u001b[1;34m(self, inputs, outputs)\u001b[0m\n\u001b[0;32m     55\u001b[0m         warnings\u001b[38;5;241m.\u001b[39mwarn(\n\u001b[0;32m     56\u001b[0m             \u001b[38;5;124mf\u001b[39m\u001b[38;5;124m\"\u001b[39m\u001b[38;5;124m'\u001b[39m\u001b[38;5;132;01m{\u001b[39;00m\u001b[38;5;28mself\u001b[39m\u001b[38;5;241m.\u001b[39m\u001b[38;5;18m__class__\u001b[39m\u001b[38;5;241m.\u001b[39m\u001b[38;5;18m__name__\u001b[39m\u001b[38;5;132;01m}\u001b[39;00m\u001b[38;5;124m'\u001b[39m\u001b[38;5;124m got multiple output keys:\u001b[39m\u001b[38;5;124m\"\u001b[39m\n\u001b[0;32m     57\u001b[0m             \u001b[38;5;124mf\u001b[39m\u001b[38;5;124m\"\u001b[39m\u001b[38;5;124m \u001b[39m\u001b[38;5;132;01m{\u001b[39;00moutputs\u001b[38;5;241m.\u001b[39mkeys()\u001b[38;5;132;01m}\u001b[39;00m\u001b[38;5;124m. The default \u001b[39m\u001b[38;5;124m'\u001b[39m\u001b[38;5;124moutput\u001b[39m\u001b[38;5;124m'\u001b[39m\u001b[38;5;124m key is being used.\u001b[39m\u001b[38;5;124m\"\u001b[39m\n\u001b[0;32m     58\u001b[0m             \u001b[38;5;124mf\u001b[39m\u001b[38;5;124m\"\u001b[39m\u001b[38;5;124m If this is not desired, please manually set \u001b[39m\u001b[38;5;124m'\u001b[39m\u001b[38;5;124moutput_key\u001b[39m\u001b[38;5;124m'\u001b[39m\u001b[38;5;124m.\u001b[39m\u001b[38;5;124m\"\u001b[39m\n\u001b[0;32m     59\u001b[0m         )\n\u001b[0;32m     60\u001b[0m     \u001b[38;5;28;01melse\u001b[39;00m:\n\u001b[1;32m---> 61\u001b[0m         \u001b[38;5;28;01mraise\u001b[39;00m \u001b[38;5;167;01mValueError\u001b[39;00m(\n\u001b[0;32m     62\u001b[0m             \u001b[38;5;124mf\u001b[39m\u001b[38;5;124m\"\u001b[39m\u001b[38;5;124mGot multiple output keys: \u001b[39m\u001b[38;5;132;01m{\u001b[39;00moutputs\u001b[38;5;241m.\u001b[39mkeys()\u001b[38;5;132;01m}\u001b[39;00m\u001b[38;5;124m, cannot \u001b[39m\u001b[38;5;124m\"\u001b[39m\n\u001b[0;32m     63\u001b[0m             \u001b[38;5;124mf\u001b[39m\u001b[38;5;124m\"\u001b[39m\u001b[38;5;124mdetermine which to store in memory. Please set the \u001b[39m\u001b[38;5;124m\"\u001b[39m\n\u001b[0;32m     64\u001b[0m             \u001b[38;5;124mf\u001b[39m\u001b[38;5;124m\"\u001b[39m\u001b[38;5;124m'\u001b[39m\u001b[38;5;124moutput_key\u001b[39m\u001b[38;5;124m'\u001b[39m\u001b[38;5;124m explicitly.\u001b[39m\u001b[38;5;124m\"\u001b[39m\n\u001b[0;32m     65\u001b[0m         )\n\u001b[0;32m     66\u001b[0m \u001b[38;5;28;01melse\u001b[39;00m:\n\u001b[0;32m     67\u001b[0m     output_key \u001b[38;5;241m=\u001b[39m \u001b[38;5;28mself\u001b[39m\u001b[38;5;241m.\u001b[39moutput_key\n",
      "\u001b[1;31mValueError\u001b[0m: Got multiple output keys: dict_keys(['answer', 'source_documents']), cannot determine which to store in memory. Please set the 'output_key' explicitly."
     ]
    }
   ],
   "source": [
    "# Retrieve answer only\n",
    "result = qa.invoke(query, return_only_outputs=True)  # or specify output_key if supported"
   ]
  },
  {
   "cell_type": "code",
   "execution_count": 111,
   "id": "c01567b9-de9b-4b31-8481-1728a77eff51",
   "metadata": {},
   "outputs": [],
   "source": [
    "answer = result.get('answer')"
   ]
  },
  {
   "cell_type": "code",
   "execution_count": 112,
   "id": "4adc381a-6aeb-4051-a823-acf4adbaab79",
   "metadata": {},
   "outputs": [],
   "source": [
    "source_documents = result.get('source_documents')"
   ]
  },
  {
   "cell_type": "code",
   "execution_count": 113,
   "id": "a2e41bbd-abba-40b0-beb7-5b2514cee507",
   "metadata": {},
   "outputs": [
    {
     "name": "stdout",
     "output_type": "stream",
     "text": [
      "Answer: None\n"
     ]
    }
   ],
   "source": [
    "print(\"Answer:\", answer)"
   ]
  },
  {
   "cell_type": "code",
   "execution_count": 114,
   "id": "b7afec14-0b0d-471e-9eb9-27f21803097e",
   "metadata": {},
   "outputs": [
    {
     "name": "stdout",
     "output_type": "stream",
     "text": [
      "Source Documents: [Document(id='c09d2eeb-4128-4904-8bd1-8e8f6f7fb9db', metadata={'source': 'C:/Users/admin/Downloads/cs.pdf', 'page': 0}, page_content='CS  Computer Science and Information Technology \\nSection 1: Engineering Mathematics \\nDiscrete Mathematics: Propositional and first order logic. Sets, relations, functions, partial orders \\nand lattices. Monoids, Groups. Graphs: connectivity, matching, coloring. Combinatorics: counting, \\nrecurrence relations, generating functions. \\nLinear Algebra: Matrices, determinants, system of linear equations, eigenvalues and eigenvectors, \\nLU decomposition. \\nCalculus: Limits, continuity and differentiability. Maxima and minima. Mean value theorem. \\nIntegration. \\nProbability and Statistics: Random variables. Uniform, normal, exponential, poisson and binomial \\ndistributions. Mean, median, mode and standard deviation. Conditional probability and Bayes \\ntheorem. \\nComputer Science and Information Technology \\nSection 2: Digital Logic \\nBoolean algebra. Combinational and sequential circuits. Minimization. Number representations and \\ncomputer arithmetic (fixed and floating point).'), Document(id='1af5f524-42c5-4021-a985-34e256f745a3', metadata={'source': 'C:/Users/admin/Downloads/cs.pdf', 'page': 1}, page_content='Section 8: Operating System \\nSystem calls, processes, threads, inter‐process communication, concurrency and synchronization. \\nDeadlock. CPU and I/O scheduling. Memory management and virtual memory. File systems. \\nSection 9: Databases \\nER‐model. Relational model: relational algebra, tuple calculus, SQL. Integrity constraints, normal \\nforms. File organization, indexing (e.g., B and B+ trees). Transactions and concurrency control. \\n \\nSection 10: Computer Networks \\nConcept of layering: OSI and TCP/IP Protocol Stacks; Basics of packet,circuit and virtual circuit-\\nswitching; Data link layer: framing, error detection, Medium Access Control, Ethernet bridging; \\nRouting protocols: shortest path, flooding, distance vector and link state routing; Fragmentation \\nand IP addressing, IPv4, CIDR notation, Basics of IP support protocols (ARP, DHCP, ICMP), \\nNetwork Address Translation (NAT); Transport layer: flow control and congestion control, UDP,'), Document(id='d4249ec4-0723-4f1b-83e1-8240ce9faa9d', metadata={'source': 'C:/Users/admin/Downloads/cs.pdf', 'page': 0}, page_content='computer arithmetic (fixed and floating point). \\nSection 3: Computer Organization and Architecture \\nMachine instructions and addressing modes. ALU, data‐path and control unit. Instruction \\npipelining, pipeline hazards. Memory hierarchy: cache, main memory and secondary storage; I/O \\ninterface (interrupt and DMA mode). \\nSection 4: Programming and Data Structures \\nProgramming in C. Recursion. Arrays, stacks, queues, linked lists, trees, binary search trees, \\nbinary heaps, graphs. \\nSection 5: Algorithms \\nSearching, sorting, hashing. Asymptotic worst case time and space complexity. Algorithm design \\ntechniques: greedy, dynamic programming and divide‐and‐conquer. Graph traversals, minimum \\nspanning trees, shortest paths \\nSection 6: Theory of Computation \\nRegular expressions and finite automata. Context-free grammars and push-down \\nautomata.Regular and contex-free languages, pumping lemma. Turing machines and \\nundecidability. \\nSection 7: Compiler Design'), Document(id='79a0740c-d5ac-403e-9129-0c4734a84807', metadata={'source': 'C:/Users/admin/Downloads/cs.pdf', 'page': 0}, page_content='undecidability. \\nSection 7: Compiler Design \\nLexical analysis, parsing, syntax-directed translation. Runtime environments. Intermediate code \\ngeneration. Local optimisation, Data flow analyses: constant propagation, liveness analysis, \\ncommon subexpression elimination.')]\n"
     ]
    }
   ],
   "source": [
    "print(\"Source Documents:\", source_documents)"
   ]
  },
  {
   "cell_type": "code",
   "execution_count": 115,
   "id": "73bee867-17df-4327-90e0-593b140f40fa",
   "metadata": {},
   "outputs": [
    {
     "data": {
      "text/plain": [
       "{'query': 'How many sections are there in the cs?',\n",
       " 'result': '😊 According to the provided text, there are 10 sections in the CS (Computer Science and Information Technology) curriculum:\\n\\n1. Section 1: Engineering Mathematics\\n2. Section 2: Digital Logic\\n3. Section 3: Computer Organization and Architecture\\n4. Section 4: Programming and Data Structures\\n5. Section 5: Algorithms\\n6. Section 6: Theory of Computation\\n7. Section 7: Compiler Design\\n8. Section 8: Operating System\\n9. Section 9: Databases\\n10. Section 10: Computer Networks',\n",
       " 'source_documents': [Document(id='c09d2eeb-4128-4904-8bd1-8e8f6f7fb9db', metadata={'source': 'C:/Users/admin/Downloads/cs.pdf', 'page': 0}, page_content='CS  Computer Science and Information Technology \\nSection 1: Engineering Mathematics \\nDiscrete Mathematics: Propositional and first order logic. Sets, relations, functions, partial orders \\nand lattices. Monoids, Groups. Graphs: connectivity, matching, coloring. Combinatorics: counting, \\nrecurrence relations, generating functions. \\nLinear Algebra: Matrices, determinants, system of linear equations, eigenvalues and eigenvectors, \\nLU decomposition. \\nCalculus: Limits, continuity and differentiability. Maxima and minima. Mean value theorem. \\nIntegration. \\nProbability and Statistics: Random variables. Uniform, normal, exponential, poisson and binomial \\ndistributions. Mean, median, mode and standard deviation. Conditional probability and Bayes \\ntheorem. \\nComputer Science and Information Technology \\nSection 2: Digital Logic \\nBoolean algebra. Combinational and sequential circuits. Minimization. Number representations and \\ncomputer arithmetic (fixed and floating point).'),\n",
       "  Document(id='1af5f524-42c5-4021-a985-34e256f745a3', metadata={'source': 'C:/Users/admin/Downloads/cs.pdf', 'page': 1}, page_content='Section 8: Operating System \\nSystem calls, processes, threads, inter‐process communication, concurrency and synchronization. \\nDeadlock. CPU and I/O scheduling. Memory management and virtual memory. File systems. \\nSection 9: Databases \\nER‐model. Relational model: relational algebra, tuple calculus, SQL. Integrity constraints, normal \\nforms. File organization, indexing (e.g., B and B+ trees). Transactions and concurrency control. \\n \\nSection 10: Computer Networks \\nConcept of layering: OSI and TCP/IP Protocol Stacks; Basics of packet,circuit and virtual circuit-\\nswitching; Data link layer: framing, error detection, Medium Access Control, Ethernet bridging; \\nRouting protocols: shortest path, flooding, distance vector and link state routing; Fragmentation \\nand IP addressing, IPv4, CIDR notation, Basics of IP support protocols (ARP, DHCP, ICMP), \\nNetwork Address Translation (NAT); Transport layer: flow control and congestion control, UDP,'),\n",
       "  Document(id='d4249ec4-0723-4f1b-83e1-8240ce9faa9d', metadata={'source': 'C:/Users/admin/Downloads/cs.pdf', 'page': 0}, page_content='computer arithmetic (fixed and floating point). \\nSection 3: Computer Organization and Architecture \\nMachine instructions and addressing modes. ALU, data‐path and control unit. Instruction \\npipelining, pipeline hazards. Memory hierarchy: cache, main memory and secondary storage; I/O \\ninterface (interrupt and DMA mode). \\nSection 4: Programming and Data Structures \\nProgramming in C. Recursion. Arrays, stacks, queues, linked lists, trees, binary search trees, \\nbinary heaps, graphs. \\nSection 5: Algorithms \\nSearching, sorting, hashing. Asymptotic worst case time and space complexity. Algorithm design \\ntechniques: greedy, dynamic programming and divide‐and‐conquer. Graph traversals, minimum \\nspanning trees, shortest paths \\nSection 6: Theory of Computation \\nRegular expressions and finite automata. Context-free grammars and push-down \\nautomata.Regular and contex-free languages, pumping lemma. Turing machines and \\nundecidability. \\nSection 7: Compiler Design'),\n",
       "  Document(id='79a0740c-d5ac-403e-9129-0c4734a84807', metadata={'source': 'C:/Users/admin/Downloads/cs.pdf', 'page': 0}, page_content='undecidability. \\nSection 7: Compiler Design \\nLexical analysis, parsing, syntax-directed translation. Runtime environments. Intermediate code \\ngeneration. Local optimisation, Data flow analyses: constant propagation, liveness analysis, \\ncommon subexpression elimination.')]}"
      ]
     },
     "execution_count": 115,
     "metadata": {},
     "output_type": "execute_result"
    }
   ],
   "source": [
    "result"
   ]
  },
  {
   "cell_type": "code",
   "execution_count": 116,
   "id": "9e816e8a-25df-4f23-98f6-548e8165d96f",
   "metadata": {},
   "outputs": [
    {
     "data": {
      "text/plain": [
       "dict"
      ]
     },
     "execution_count": 116,
     "metadata": {},
     "output_type": "execute_result"
    }
   ],
   "source": [
    "type(result)"
   ]
  },
  {
   "cell_type": "code",
   "execution_count": 117,
   "id": "c9513989-74f7-4560-95a9-dc694b66a726",
   "metadata": {},
   "outputs": [
    {
     "ename": "KeyError",
     "evalue": "'answer'",
     "output_type": "error",
     "traceback": [
      "\u001b[1;31m---------------------------------------------------------------------------\u001b[0m",
      "\u001b[1;31mKeyError\u001b[0m                                  Traceback (most recent call last)",
      "Cell \u001b[1;32mIn[117], line 1\u001b[0m\n\u001b[1;32m----> 1\u001b[0m \u001b[38;5;28mprint\u001b[39m(result[\u001b[38;5;124m'\u001b[39m\u001b[38;5;124manswer\u001b[39m\u001b[38;5;124m'\u001b[39m])\n",
      "\u001b[1;31mKeyError\u001b[0m: 'answer'"
     ]
    }
   ],
   "source": [
    "print(result['answer'])"
   ]
  },
  {
   "cell_type": "code",
   "execution_count": null,
   "id": "cca4aaef-776c-487a-b4ac-7f751b7aa947",
   "metadata": {},
   "outputs": [],
   "source": []
  }
 ],
 "metadata": {
  "kernelspec": {
   "display_name": "Python 3 (ipykernel)",
   "language": "python",
   "name": "python3"
  },
  "language_info": {
   "codemirror_mode": {
    "name": "ipython",
    "version": 3
   },
   "file_extension": ".py",
   "mimetype": "text/x-python",
   "name": "python",
   "nbconvert_exporter": "python",
   "pygments_lexer": "ipython3",
   "version": "3.11.7"
  },
  "widgets": {
   "application/vnd.jupyter.widget-state+json": {
    "state": {
     "008ff80345cc41ae9f700557fcf7dab6": {
      "model_module": "@jupyter-widgets/controls",
      "model_module_version": "2.0.0",
      "model_name": "DescriptionStyleModel",
      "state": {
       "_model_module": "@jupyter-widgets/controls",
       "_model_name": "DescriptionStyleModel",
       "_view_name": "ErrorWidgetView",
       "description_width": "",
       "error": {},
       "msg": "Failed to load model class 'DescriptionStyleModel' from module '@jupyter-widgets/controls'"
      }
     },
     "0526eecd2f7842b6b474419ded07a0e2": {
      "model_module": "@jupyter-widgets/controls",
      "model_module_version": "2.0.0",
      "model_name": "FloatProgressModel",
      "state": {
       "_model_module": "@jupyter-widgets/controls",
       "_model_name": "FloatProgressModel",
       "_view_name": "ErrorWidgetView",
       "bar_style": "success",
       "description": "",
       "description_tooltip": null,
       "error": {},
       "layout": "IPY_MODEL_6e2f92c8ce5845d7930e331a54301f46",
       "max": 706,
       "min": 0,
       "msg": "Failed to load model class 'FloatProgressModel' from module '@jupyter-widgets/controls'",
       "orientation": "horizontal",
       "style": "IPY_MODEL_e71066c5f1e0411b82d9b501e88fe592",
       "value": 706
      }
     },
     "07a0c9e54d414ace9280891202ee492e": {
      "model_module": "@jupyter-widgets/base",
      "model_module_version": "2.0.0",
      "model_name": "LayoutModel",
      "state": {
       "_model_name": "LayoutModel",
       "_view_name": "ErrorWidgetView",
       "align_content": null,
       "align_items": null,
       "align_self": null,
       "border": null,
       "bottom": null,
       "display": null,
       "error": {},
       "flex": null,
       "flex_flow": null,
       "grid_area": null,
       "grid_auto_columns": null,
       "grid_auto_flow": null,
       "grid_auto_rows": null,
       "grid_column": null,
       "grid_gap": null,
       "grid_row": null,
       "grid_template_areas": null,
       "grid_template_columns": null,
       "grid_template_rows": null,
       "height": null,
       "justify_content": null,
       "justify_items": null,
       "left": null,
       "margin": null,
       "max_height": null,
       "max_width": null,
       "min_height": null,
       "min_width": null,
       "msg": "Failed to load model class 'LayoutModel' from module '@jupyter-widgets/base'",
       "object_fit": null,
       "object_position": null,
       "order": null,
       "overflow": null,
       "overflow_x": null,
       "overflow_y": null,
       "padding": null,
       "right": null,
       "top": null,
       "visibility": null,
       "width": null
      }
     },
     "14a65f4e6d204099b3a098970ab86df6": {
      "model_module": "@jupyter-widgets/controls",
      "model_module_version": "2.0.0",
      "model_name": "HTMLModel",
      "state": {
       "_model_module": "@jupyter-widgets/controls",
       "_model_name": "HTMLModel",
       "_view_name": "ErrorWidgetView",
       "description": "",
       "description_tooltip": null,
       "error": {},
       "layout": "IPY_MODEL_807c661026c4455688e5a75747c459fb",
       "msg": "Failed to load model class 'HTMLModel' from module '@jupyter-widgets/controls'",
       "placeholder": "​",
       "style": "IPY_MODEL_a01f5336e2254ff5af7b0f2b9c2ecfc8",
       "value": "model_optimized.onnx: 100%"
      }
     },
     "1895576c69eb45b3a2d66bd7d64303f4": {
      "model_module": "@jupyter-widgets/controls",
      "model_module_version": "2.0.0",
      "model_name": "ProgressStyleModel",
      "state": {
       "_model_module": "@jupyter-widgets/controls",
       "_model_name": "ProgressStyleModel",
       "_view_name": "ErrorWidgetView",
       "bar_color": null,
       "description_width": "",
       "error": {},
       "msg": "Failed to load model class 'ProgressStyleModel' from module '@jupyter-widgets/controls'"
      }
     },
     "1a70017cd6e0455f97f6503c6b244819": {
      "model_module": "@jupyter-widgets/base",
      "model_module_version": "2.0.0",
      "model_name": "LayoutModel",
      "state": {
       "_model_name": "LayoutModel",
       "_view_name": "ErrorWidgetView",
       "align_content": null,
       "align_items": null,
       "align_self": null,
       "border": null,
       "bottom": null,
       "display": null,
       "error": {},
       "flex": null,
       "flex_flow": null,
       "grid_area": null,
       "grid_auto_columns": null,
       "grid_auto_flow": null,
       "grid_auto_rows": null,
       "grid_column": null,
       "grid_gap": null,
       "grid_row": null,
       "grid_template_areas": null,
       "grid_template_columns": null,
       "grid_template_rows": null,
       "height": null,
       "justify_content": null,
       "justify_items": null,
       "left": null,
       "margin": null,
       "max_height": null,
       "max_width": null,
       "min_height": null,
       "min_width": null,
       "msg": "Failed to load model class 'LayoutModel' from module '@jupyter-widgets/base'",
       "object_fit": null,
       "object_position": null,
       "order": null,
       "overflow": null,
       "overflow_x": null,
       "overflow_y": null,
       "padding": null,
       "right": null,
       "top": null,
       "visibility": null,
       "width": null
      }
     },
     "1b66d8c0eac24a429b62b3c656ff5777": {
      "model_module": "@jupyter-widgets/controls",
      "model_module_version": "2.0.0",
      "model_name": "HTMLModel",
      "state": {
       "_model_module": "@jupyter-widgets/controls",
       "_model_name": "HTMLModel",
       "_view_name": "ErrorWidgetView",
       "description": "",
       "description_tooltip": null,
       "error": {},
       "layout": "IPY_MODEL_29d2e68ce801450586eea1bea15a279f",
       "msg": "Failed to load model class 'HTMLModel' from module '@jupyter-widgets/controls'",
       "placeholder": "​",
       "style": "IPY_MODEL_c28e0f5e3ec64d298eb1ef89487f7f40",
       "value": "tokenizer_config.json: 100%"
      }
     },
     "25ac9bd2b2d04266818ca093a6591a6e": {
      "model_module": "@jupyter-widgets/controls",
      "model_module_version": "2.0.0",
      "model_name": "DescriptionStyleModel",
      "state": {
       "_model_module": "@jupyter-widgets/controls",
       "_model_name": "DescriptionStyleModel",
       "_view_name": "ErrorWidgetView",
       "description_width": "",
       "error": {},
       "msg": "Failed to load model class 'DescriptionStyleModel' from module '@jupyter-widgets/controls'"
      }
     },
     "29883d06c1c54b388e3ff1df05e1d157": {
      "model_module": "@jupyter-widgets/base",
      "model_module_version": "2.0.0",
      "model_name": "LayoutModel",
      "state": {
       "_model_name": "LayoutModel",
       "_view_name": "ErrorWidgetView",
       "align_content": null,
       "align_items": null,
       "align_self": null,
       "border": null,
       "bottom": null,
       "display": null,
       "error": {},
       "flex": null,
       "flex_flow": null,
       "grid_area": null,
       "grid_auto_columns": null,
       "grid_auto_flow": null,
       "grid_auto_rows": null,
       "grid_column": null,
       "grid_gap": null,
       "grid_row": null,
       "grid_template_areas": null,
       "grid_template_columns": null,
       "grid_template_rows": null,
       "height": null,
       "justify_content": null,
       "justify_items": null,
       "left": null,
       "margin": null,
       "max_height": null,
       "max_width": null,
       "min_height": null,
       "min_width": null,
       "msg": "Failed to load model class 'LayoutModel' from module '@jupyter-widgets/base'",
       "object_fit": null,
       "object_position": null,
       "order": null,
       "overflow": null,
       "overflow_x": null,
       "overflow_y": null,
       "padding": null,
       "right": null,
       "top": null,
       "visibility": null,
       "width": null
      }
     },
     "29d2e68ce801450586eea1bea15a279f": {
      "model_module": "@jupyter-widgets/base",
      "model_module_version": "2.0.0",
      "model_name": "LayoutModel",
      "state": {
       "_model_name": "LayoutModel",
       "_view_name": "ErrorWidgetView",
       "align_content": null,
       "align_items": null,
       "align_self": null,
       "border": null,
       "bottom": null,
       "display": null,
       "error": {},
       "flex": null,
       "flex_flow": null,
       "grid_area": null,
       "grid_auto_columns": null,
       "grid_auto_flow": null,
       "grid_auto_rows": null,
       "grid_column": null,
       "grid_gap": null,
       "grid_row": null,
       "grid_template_areas": null,
       "grid_template_columns": null,
       "grid_template_rows": null,
       "height": null,
       "justify_content": null,
       "justify_items": null,
       "left": null,
       "margin": null,
       "max_height": null,
       "max_width": null,
       "min_height": null,
       "min_width": null,
       "msg": "Failed to load model class 'LayoutModel' from module '@jupyter-widgets/base'",
       "object_fit": null,
       "object_position": null,
       "order": null,
       "overflow": null,
       "overflow_x": null,
       "overflow_y": null,
       "padding": null,
       "right": null,
       "top": null,
       "visibility": null,
       "width": null
      }
     },
     "3a0c1c70710d4cb9bd3dc78947152d69": {
      "model_module": "@jupyter-widgets/controls",
      "model_module_version": "2.0.0",
      "model_name": "HTMLModel",
      "state": {
       "_model_module": "@jupyter-widgets/controls",
       "_model_name": "HTMLModel",
       "_view_name": "ErrorWidgetView",
       "description": "",
       "description_tooltip": null,
       "error": {},
       "layout": "IPY_MODEL_c7775554dcec47c4835801460177b153",
       "msg": "Failed to load model class 'HTMLModel' from module '@jupyter-widgets/controls'",
       "placeholder": "​",
       "style": "IPY_MODEL_25ac9bd2b2d04266818ca093a6591a6e",
       "value": " 706/706 [00:00&lt;00:00, 28.3kB/s]"
      }
     },
     "3c1120c4e4e34625bb26bba463a31e40": {
      "model_module": "@jupyter-widgets/base",
      "model_module_version": "2.0.0",
      "model_name": "LayoutModel",
      "state": {
       "_model_name": "LayoutModel",
       "_view_name": "ErrorWidgetView",
       "align_content": null,
       "align_items": null,
       "align_self": null,
       "border": null,
       "bottom": null,
       "display": null,
       "error": {},
       "flex": null,
       "flex_flow": null,
       "grid_area": null,
       "grid_auto_columns": null,
       "grid_auto_flow": null,
       "grid_auto_rows": null,
       "grid_column": null,
       "grid_gap": null,
       "grid_row": null,
       "grid_template_areas": null,
       "grid_template_columns": null,
       "grid_template_rows": null,
       "height": null,
       "justify_content": null,
       "justify_items": null,
       "left": null,
       "margin": null,
       "max_height": null,
       "max_width": null,
       "min_height": null,
       "min_width": null,
       "msg": "Failed to load model class 'LayoutModel' from module '@jupyter-widgets/base'",
       "object_fit": null,
       "object_position": null,
       "order": null,
       "overflow": null,
       "overflow_x": null,
       "overflow_y": null,
       "padding": null,
       "right": null,
       "top": null,
       "visibility": null,
       "width": null
      }
     },
     "3cc47f430e0f4971b1f50b991e3ed957": {
      "model_module": "@jupyter-widgets/base",
      "model_module_version": "2.0.0",
      "model_name": "LayoutModel",
      "state": {
       "_model_name": "LayoutModel",
       "_view_name": "ErrorWidgetView",
       "align_content": null,
       "align_items": null,
       "align_self": null,
       "border": null,
       "bottom": null,
       "display": null,
       "error": {},
       "flex": null,
       "flex_flow": null,
       "grid_area": null,
       "grid_auto_columns": null,
       "grid_auto_flow": null,
       "grid_auto_rows": null,
       "grid_column": null,
       "grid_gap": null,
       "grid_row": null,
       "grid_template_areas": null,
       "grid_template_columns": null,
       "grid_template_rows": null,
       "height": null,
       "justify_content": null,
       "justify_items": null,
       "left": null,
       "margin": null,
       "max_height": null,
       "max_width": null,
       "min_height": null,
       "min_width": null,
       "msg": "Failed to load model class 'LayoutModel' from module '@jupyter-widgets/base'",
       "object_fit": null,
       "object_position": null,
       "order": null,
       "overflow": null,
       "overflow_x": null,
       "overflow_y": null,
       "padding": null,
       "right": null,
       "top": null,
       "visibility": null,
       "width": null
      }
     },
     "3dbecdc0947d408da2522729b10bffc7": {
      "model_module": "@jupyter-widgets/base",
      "model_module_version": "2.0.0",
      "model_name": "LayoutModel",
      "state": {
       "_model_name": "LayoutModel",
       "_view_name": "ErrorWidgetView",
       "align_content": null,
       "align_items": null,
       "align_self": null,
       "border": null,
       "bottom": null,
       "display": null,
       "error": {},
       "flex": null,
       "flex_flow": null,
       "grid_area": null,
       "grid_auto_columns": null,
       "grid_auto_flow": null,
       "grid_auto_rows": null,
       "grid_column": null,
       "grid_gap": null,
       "grid_row": null,
       "grid_template_areas": null,
       "grid_template_columns": null,
       "grid_template_rows": null,
       "height": null,
       "justify_content": null,
       "justify_items": null,
       "left": null,
       "margin": null,
       "max_height": null,
       "max_width": null,
       "min_height": null,
       "min_width": null,
       "msg": "Failed to load model class 'LayoutModel' from module '@jupyter-widgets/base'",
       "object_fit": null,
       "object_position": null,
       "order": null,
       "overflow": null,
       "overflow_x": null,
       "overflow_y": null,
       "padding": null,
       "right": null,
       "top": null,
       "visibility": null,
       "width": null
      }
     },
     "4081592320104e1892e851a61f08dfa4": {
      "model_module": "@jupyter-widgets/base",
      "model_module_version": "2.0.0",
      "model_name": "LayoutModel",
      "state": {
       "_model_name": "LayoutModel",
       "_view_name": "ErrorWidgetView",
       "align_content": null,
       "align_items": null,
       "align_self": null,
       "border": null,
       "bottom": null,
       "display": null,
       "error": {},
       "flex": null,
       "flex_flow": null,
       "grid_area": null,
       "grid_auto_columns": null,
       "grid_auto_flow": null,
       "grid_auto_rows": null,
       "grid_column": null,
       "grid_gap": null,
       "grid_row": null,
       "grid_template_areas": null,
       "grid_template_columns": null,
       "grid_template_rows": null,
       "height": null,
       "justify_content": null,
       "justify_items": null,
       "left": null,
       "margin": null,
       "max_height": null,
       "max_width": null,
       "min_height": null,
       "min_width": null,
       "msg": "Failed to load model class 'LayoutModel' from module '@jupyter-widgets/base'",
       "object_fit": null,
       "object_position": null,
       "order": null,
       "overflow": null,
       "overflow_x": null,
       "overflow_y": null,
       "padding": null,
       "right": null,
       "top": null,
       "visibility": null,
       "width": null
      }
     },
     "4474f4d1e3d74ad2bb9b5754a2e10bbb": {
      "model_module": "@jupyter-widgets/controls",
      "model_module_version": "2.0.0",
      "model_name": "FloatProgressModel",
      "state": {
       "_model_module": "@jupyter-widgets/controls",
       "_model_name": "FloatProgressModel",
       "_view_name": "ErrorWidgetView",
       "bar_style": "success",
       "description": "",
       "description_tooltip": null,
       "error": {},
       "layout": "IPY_MODEL_4081592320104e1892e851a61f08dfa4",
       "max": 695,
       "min": 0,
       "msg": "Failed to load model class 'FloatProgressModel' from module '@jupyter-widgets/controls'",
       "orientation": "horizontal",
       "style": "IPY_MODEL_1895576c69eb45b3a2d66bd7d64303f4",
       "value": 695
      }
     },
     "4620c35a97a6489a9d0cd0dcdf67fc87": {
      "model_module": "@jupyter-widgets/controls",
      "model_module_version": "2.0.0",
      "model_name": "HTMLModel",
      "state": {
       "_model_module": "@jupyter-widgets/controls",
       "_model_name": "HTMLModel",
       "_view_name": "ErrorWidgetView",
       "description": "",
       "description_tooltip": null,
       "error": {},
       "layout": "IPY_MODEL_80a42011a8a3458c86c18af5bc6629d3",
       "msg": "Failed to load model class 'HTMLModel' from module '@jupyter-widgets/controls'",
       "placeholder": "​",
       "style": "IPY_MODEL_4dbb850abb784bd680e8fd645b466804",
       "value": " 5/5 [00:12&lt;00:00,  6.67s/it]"
      }
     },
     "4679f99b009c48eca0a26f43bb74bc08": {
      "model_module": "@jupyter-widgets/base",
      "model_module_version": "2.0.0",
      "model_name": "LayoutModel",
      "state": {
       "_model_name": "LayoutModel",
       "_view_name": "ErrorWidgetView",
       "align_content": null,
       "align_items": null,
       "align_self": null,
       "border": null,
       "bottom": null,
       "display": null,
       "error": {},
       "flex": null,
       "flex_flow": null,
       "grid_area": null,
       "grid_auto_columns": null,
       "grid_auto_flow": null,
       "grid_auto_rows": null,
       "grid_column": null,
       "grid_gap": null,
       "grid_row": null,
       "grid_template_areas": null,
       "grid_template_columns": null,
       "grid_template_rows": null,
       "height": null,
       "justify_content": null,
       "justify_items": null,
       "left": null,
       "margin": null,
       "max_height": null,
       "max_width": null,
       "min_height": null,
       "min_width": null,
       "msg": "Failed to load model class 'LayoutModel' from module '@jupyter-widgets/base'",
       "object_fit": null,
       "object_position": null,
       "order": null,
       "overflow": null,
       "overflow_x": null,
       "overflow_y": null,
       "padding": null,
       "right": null,
       "top": null,
       "visibility": null,
       "width": null
      }
     },
     "46c0601ded5b4c77adf8c71db6874d2b": {
      "model_module": "@jupyter-widgets/controls",
      "model_module_version": "2.0.0",
      "model_name": "ProgressStyleModel",
      "state": {
       "_model_module": "@jupyter-widgets/controls",
       "_model_name": "ProgressStyleModel",
       "_view_name": "ErrorWidgetView",
       "bar_color": null,
       "description_width": "",
       "error": {},
       "msg": "Failed to load model class 'ProgressStyleModel' from module '@jupyter-widgets/controls'"
      }
     },
     "48b2d092a8854839bb646da5389df836": {
      "model_module": "@jupyter-widgets/base",
      "model_module_version": "2.0.0",
      "model_name": "LayoutModel",
      "state": {
       "_model_name": "LayoutModel",
       "_view_name": "ErrorWidgetView",
       "align_content": null,
       "align_items": null,
       "align_self": null,
       "border": null,
       "bottom": null,
       "display": null,
       "error": {},
       "flex": null,
       "flex_flow": null,
       "grid_area": null,
       "grid_auto_columns": null,
       "grid_auto_flow": null,
       "grid_auto_rows": null,
       "grid_column": null,
       "grid_gap": null,
       "grid_row": null,
       "grid_template_areas": null,
       "grid_template_columns": null,
       "grid_template_rows": null,
       "height": null,
       "justify_content": null,
       "justify_items": null,
       "left": null,
       "margin": null,
       "max_height": null,
       "max_width": null,
       "min_height": null,
       "min_width": null,
       "msg": "Failed to load model class 'LayoutModel' from module '@jupyter-widgets/base'",
       "object_fit": null,
       "object_position": null,
       "order": null,
       "overflow": null,
       "overflow_x": null,
       "overflow_y": null,
       "padding": null,
       "right": null,
       "top": null,
       "visibility": null,
       "width": null
      }
     },
     "494683ef3656425a93120ef3be762005": {
      "model_module": "@jupyter-widgets/controls",
      "model_module_version": "2.0.0",
      "model_name": "HTMLModel",
      "state": {
       "_model_module": "@jupyter-widgets/controls",
       "_model_name": "HTMLModel",
       "_view_name": "ErrorWidgetView",
       "description": "",
       "description_tooltip": null,
       "error": {},
       "layout": "IPY_MODEL_a2d7f858049941ecac65563e86704387",
       "msg": "Failed to load model class 'HTMLModel' from module '@jupyter-widgets/controls'",
       "placeholder": "​",
       "style": "IPY_MODEL_966a854874724b36a6332d9bc61dc1ad",
       "value": "Fetching 5 files: 100%"
      }
     },
     "4babb768e1e4461d879692d65a14dcd4": {
      "model_module": "@jupyter-widgets/controls",
      "model_module_version": "2.0.0",
      "model_name": "FileUploadModel",
      "state": {
       "_counter": 0,
       "_model_module": "@jupyter-widgets/controls",
       "_model_name": "FileUploadModel",
       "_view_name": "ErrorWidgetView",
       "accept": ".pdf",
       "button_style": "",
       "data": [],
       "description": "Upload",
       "description_tooltip": null,
       "disabled": false,
       "error": {},
       "icon": "upload",
       "layout": "IPY_MODEL_4679f99b009c48eca0a26f43bb74bc08",
       "metadata": [],
       "msg": "Failed to load model class 'FileUploadModel' from module '@jupyter-widgets/controls'",
       "multiple": true,
       "style": "IPY_MODEL_d4fb397fcdc54970a7d2f264e2ced518"
      }
     },
     "4dbb850abb784bd680e8fd645b466804": {
      "model_module": "@jupyter-widgets/controls",
      "model_module_version": "2.0.0",
      "model_name": "DescriptionStyleModel",
      "state": {
       "_model_module": "@jupyter-widgets/controls",
       "_model_name": "DescriptionStyleModel",
       "_view_name": "ErrorWidgetView",
       "description_width": "",
       "error": {},
       "msg": "Failed to load model class 'DescriptionStyleModel' from module '@jupyter-widgets/controls'"
      }
     },
     "4fd4d97d078948018293c6b6931f9605": {
      "model_module": "@jupyter-widgets/controls",
      "model_module_version": "2.0.0",
      "model_name": "ProgressStyleModel",
      "state": {
       "_model_module": "@jupyter-widgets/controls",
       "_model_name": "ProgressStyleModel",
       "_view_name": "ErrorWidgetView",
       "bar_color": null,
       "description_width": "",
       "error": {},
       "msg": "Failed to load model class 'ProgressStyleModel' from module '@jupyter-widgets/controls'"
      }
     },
     "5031c01584834132a074d6f2172d8715": {
      "model_module": "@jupyter-widgets/controls",
      "model_module_version": "2.0.0",
      "model_name": "HTMLModel",
      "state": {
       "_model_module": "@jupyter-widgets/controls",
       "_model_name": "HTMLModel",
       "_view_name": "ErrorWidgetView",
       "description": "",
       "description_tooltip": null,
       "error": {},
       "layout": "IPY_MODEL_3cc47f430e0f4971b1f50b991e3ed957",
       "msg": "Failed to load model class 'HTMLModel' from module '@jupyter-widgets/controls'",
       "placeholder": "​",
       "style": "IPY_MODEL_e2f2fdf30368446ab0f94af32c81f35b",
       "value": " 66.5M/66.5M [00:09&lt;00:00, 7.86MB/s]"
      }
     },
     "504e2efdfaae4eca8a80e712b0aa475c": {
      "model_module": "@jupyter-widgets/base",
      "model_module_version": "2.0.0",
      "model_name": "LayoutModel",
      "state": {
       "_model_name": "LayoutModel",
       "_view_name": "ErrorWidgetView",
       "align_content": null,
       "align_items": null,
       "align_self": null,
       "border": null,
       "bottom": null,
       "display": null,
       "error": {},
       "flex": null,
       "flex_flow": null,
       "grid_area": null,
       "grid_auto_columns": null,
       "grid_auto_flow": null,
       "grid_auto_rows": null,
       "grid_column": null,
       "grid_gap": null,
       "grid_row": null,
       "grid_template_areas": null,
       "grid_template_columns": null,
       "grid_template_rows": null,
       "height": null,
       "justify_content": null,
       "justify_items": null,
       "left": null,
       "margin": null,
       "max_height": null,
       "max_width": null,
       "min_height": null,
       "min_width": null,
       "msg": "Failed to load model class 'LayoutModel' from module '@jupyter-widgets/base'",
       "object_fit": null,
       "object_position": null,
       "order": null,
       "overflow": null,
       "overflow_x": null,
       "overflow_y": null,
       "padding": null,
       "right": null,
       "top": null,
       "visibility": null,
       "width": null
      }
     },
     "520a170831084303891f5bca953e8869": {
      "model_module": "@jupyter-widgets/controls",
      "model_module_version": "2.0.0",
      "model_name": "HTMLModel",
      "state": {
       "_model_module": "@jupyter-widgets/controls",
       "_model_name": "HTMLModel",
       "_view_name": "ErrorWidgetView",
       "description": "",
       "description_tooltip": null,
       "error": {},
       "layout": "IPY_MODEL_c7ca4e1eb6ae49da82757e1ab740c108",
       "msg": "Failed to load model class 'HTMLModel' from module '@jupyter-widgets/controls'",
       "placeholder": "​",
       "style": "IPY_MODEL_008ff80345cc41ae9f700557fcf7dab6",
       "value": "tokenizer.json: 100%"
      }
     },
     "55e0631d456f4c23b16cfc4e88bdffe1": {
      "model_module": "@jupyter-widgets/controls",
      "model_module_version": "2.0.0",
      "model_name": "FloatProgressModel",
      "state": {
       "_model_module": "@jupyter-widgets/controls",
       "_model_name": "FloatProgressModel",
       "_view_name": "ErrorWidgetView",
       "bar_style": "success",
       "description": "",
       "description_tooltip": null,
       "error": {},
       "layout": "IPY_MODEL_868371acc14743eb93343eec44bd8e4b",
       "max": 711396,
       "min": 0,
       "msg": "Failed to load model class 'FloatProgressModel' from module '@jupyter-widgets/controls'",
       "orientation": "horizontal",
       "style": "IPY_MODEL_4fd4d97d078948018293c6b6931f9605",
       "value": 711396
      }
     },
     "59fed26746484f02a2e3cb52d26029c6": {
      "model_module": "@jupyter-widgets/controls",
      "model_module_version": "2.0.0",
      "model_name": "DescriptionStyleModel",
      "state": {
       "_model_module": "@jupyter-widgets/controls",
       "_model_name": "DescriptionStyleModel",
       "_view_name": "ErrorWidgetView",
       "description_width": "",
       "error": {},
       "msg": "Failed to load model class 'DescriptionStyleModel' from module '@jupyter-widgets/controls'"
      }
     },
     "60adf585e54a41b68de1afa1024e7cb2": {
      "model_module": "@jupyter-widgets/base",
      "model_module_version": "2.0.0",
      "model_name": "LayoutModel",
      "state": {
       "_model_name": "LayoutModel",
       "_view_name": "ErrorWidgetView",
       "align_content": null,
       "align_items": null,
       "align_self": null,
       "border": null,
       "bottom": null,
       "display": null,
       "error": {},
       "flex": null,
       "flex_flow": null,
       "grid_area": null,
       "grid_auto_columns": null,
       "grid_auto_flow": null,
       "grid_auto_rows": null,
       "grid_column": null,
       "grid_gap": null,
       "grid_row": null,
       "grid_template_areas": null,
       "grid_template_columns": null,
       "grid_template_rows": null,
       "height": null,
       "justify_content": null,
       "justify_items": null,
       "left": null,
       "margin": null,
       "max_height": null,
       "max_width": null,
       "min_height": null,
       "min_width": null,
       "msg": "Failed to load model class 'LayoutModel' from module '@jupyter-widgets/base'",
       "object_fit": null,
       "object_position": null,
       "order": null,
       "overflow": null,
       "overflow_x": null,
       "overflow_y": null,
       "padding": null,
       "right": null,
       "top": null,
       "visibility": null,
       "width": null
      }
     },
     "6e2f92c8ce5845d7930e331a54301f46": {
      "model_module": "@jupyter-widgets/base",
      "model_module_version": "2.0.0",
      "model_name": "LayoutModel",
      "state": {
       "_model_name": "LayoutModel",
       "_view_name": "ErrorWidgetView",
       "align_content": null,
       "align_items": null,
       "align_self": null,
       "border": null,
       "bottom": null,
       "display": null,
       "error": {},
       "flex": null,
       "flex_flow": null,
       "grid_area": null,
       "grid_auto_columns": null,
       "grid_auto_flow": null,
       "grid_auto_rows": null,
       "grid_column": null,
       "grid_gap": null,
       "grid_row": null,
       "grid_template_areas": null,
       "grid_template_columns": null,
       "grid_template_rows": null,
       "height": null,
       "justify_content": null,
       "justify_items": null,
       "left": null,
       "margin": null,
       "max_height": null,
       "max_width": null,
       "min_height": null,
       "min_width": null,
       "msg": "Failed to load model class 'LayoutModel' from module '@jupyter-widgets/base'",
       "object_fit": null,
       "object_position": null,
       "order": null,
       "overflow": null,
       "overflow_x": null,
       "overflow_y": null,
       "padding": null,
       "right": null,
       "top": null,
       "visibility": null,
       "width": null
      }
     },
     "6e7724bb7e9c41a1af1ae731e4684c66": {
      "model_module": "@jupyter-widgets/base",
      "model_module_version": "2.0.0",
      "model_name": "LayoutModel",
      "state": {
       "_model_name": "LayoutModel",
       "_view_name": "ErrorWidgetView",
       "align_content": null,
       "align_items": null,
       "align_self": null,
       "border": null,
       "bottom": null,
       "display": null,
       "error": {},
       "flex": null,
       "flex_flow": null,
       "grid_area": null,
       "grid_auto_columns": null,
       "grid_auto_flow": null,
       "grid_auto_rows": null,
       "grid_column": null,
       "grid_gap": null,
       "grid_row": null,
       "grid_template_areas": null,
       "grid_template_columns": null,
       "grid_template_rows": null,
       "height": null,
       "justify_content": null,
       "justify_items": null,
       "left": null,
       "margin": null,
       "max_height": null,
       "max_width": null,
       "min_height": null,
       "min_width": null,
       "msg": "Failed to load model class 'LayoutModel' from module '@jupyter-widgets/base'",
       "object_fit": null,
       "object_position": null,
       "order": null,
       "overflow": null,
       "overflow_x": null,
       "overflow_y": null,
       "padding": null,
       "right": null,
       "top": null,
       "visibility": null,
       "width": null
      }
     },
     "79f4f641413b40189ae5dcfc35234cfc": {
      "model_module": "@jupyter-widgets/base",
      "model_module_version": "2.0.0",
      "model_name": "LayoutModel",
      "state": {
       "_model_name": "LayoutModel",
       "_view_name": "ErrorWidgetView",
       "align_content": null,
       "align_items": null,
       "align_self": null,
       "border": null,
       "bottom": null,
       "display": null,
       "error": {},
       "flex": null,
       "flex_flow": null,
       "grid_area": null,
       "grid_auto_columns": null,
       "grid_auto_flow": null,
       "grid_auto_rows": null,
       "grid_column": null,
       "grid_gap": null,
       "grid_row": null,
       "grid_template_areas": null,
       "grid_template_columns": null,
       "grid_template_rows": null,
       "height": null,
       "justify_content": null,
       "justify_items": null,
       "left": null,
       "margin": null,
       "max_height": null,
       "max_width": null,
       "min_height": null,
       "min_width": null,
       "msg": "Failed to load model class 'LayoutModel' from module '@jupyter-widgets/base'",
       "object_fit": null,
       "object_position": null,
       "order": null,
       "overflow": null,
       "overflow_x": null,
       "overflow_y": null,
       "padding": null,
       "right": null,
       "top": null,
       "visibility": null,
       "width": null
      }
     },
     "7d6de692f9eb402e8d95d506636aa8da": {
      "model_module": "@jupyter-widgets/controls",
      "model_module_version": "2.0.0",
      "model_name": "HTMLModel",
      "state": {
       "_model_module": "@jupyter-widgets/controls",
       "_model_name": "HTMLModel",
       "_view_name": "ErrorWidgetView",
       "description": "",
       "description_tooltip": null,
       "error": {},
       "layout": "IPY_MODEL_ce36f6ee965c4019a5863ba46c8fad29",
       "msg": "Failed to load model class 'HTMLModel' from module '@jupyter-widgets/controls'",
       "placeholder": "​",
       "style": "IPY_MODEL_fbfe15e755fb4d6abfac769e9f4576a9",
       "value": " 695/695 [00:00&lt;00:00, 43.6kB/s]"
      }
     },
     "807c661026c4455688e5a75747c459fb": {
      "model_module": "@jupyter-widgets/base",
      "model_module_version": "2.0.0",
      "model_name": "LayoutModel",
      "state": {
       "_model_name": "LayoutModel",
       "_view_name": "ErrorWidgetView",
       "align_content": null,
       "align_items": null,
       "align_self": null,
       "border": null,
       "bottom": null,
       "display": null,
       "error": {},
       "flex": null,
       "flex_flow": null,
       "grid_area": null,
       "grid_auto_columns": null,
       "grid_auto_flow": null,
       "grid_auto_rows": null,
       "grid_column": null,
       "grid_gap": null,
       "grid_row": null,
       "grid_template_areas": null,
       "grid_template_columns": null,
       "grid_template_rows": null,
       "height": null,
       "justify_content": null,
       "justify_items": null,
       "left": null,
       "margin": null,
       "max_height": null,
       "max_width": null,
       "min_height": null,
       "min_width": null,
       "msg": "Failed to load model class 'LayoutModel' from module '@jupyter-widgets/base'",
       "object_fit": null,
       "object_position": null,
       "order": null,
       "overflow": null,
       "overflow_x": null,
       "overflow_y": null,
       "padding": null,
       "right": null,
       "top": null,
       "visibility": null,
       "width": null
      }
     },
     "80a42011a8a3458c86c18af5bc6629d3": {
      "model_module": "@jupyter-widgets/base",
      "model_module_version": "2.0.0",
      "model_name": "LayoutModel",
      "state": {
       "_model_name": "LayoutModel",
       "_view_name": "ErrorWidgetView",
       "align_content": null,
       "align_items": null,
       "align_self": null,
       "border": null,
       "bottom": null,
       "display": null,
       "error": {},
       "flex": null,
       "flex_flow": null,
       "grid_area": null,
       "grid_auto_columns": null,
       "grid_auto_flow": null,
       "grid_auto_rows": null,
       "grid_column": null,
       "grid_gap": null,
       "grid_row": null,
       "grid_template_areas": null,
       "grid_template_columns": null,
       "grid_template_rows": null,
       "height": null,
       "justify_content": null,
       "justify_items": null,
       "left": null,
       "margin": null,
       "max_height": null,
       "max_width": null,
       "min_height": null,
       "min_width": null,
       "msg": "Failed to load model class 'LayoutModel' from module '@jupyter-widgets/base'",
       "object_fit": null,
       "object_position": null,
       "order": null,
       "overflow": null,
       "overflow_x": null,
       "overflow_y": null,
       "padding": null,
       "right": null,
       "top": null,
       "visibility": null,
       "width": null
      }
     },
     "82e2b93e1ad14a2da72c8037a603e0ea": {
      "model_module": "@jupyter-widgets/controls",
      "model_module_version": "2.0.0",
      "model_name": "HBoxModel",
      "state": {
       "_model_module": "@jupyter-widgets/controls",
       "_model_name": "HBoxModel",
       "_view_name": "ErrorWidgetView",
       "box_style": "",
       "children": [
        "IPY_MODEL_b339e518bf81435a9bfbd187439391c9",
        "IPY_MODEL_4474f4d1e3d74ad2bb9b5754a2e10bbb",
        "IPY_MODEL_7d6de692f9eb402e8d95d506636aa8da"
       ],
       "error": {},
       "layout": "IPY_MODEL_b0f626407edc4006af9926eaad7dec05",
       "msg": "Failed to load model class 'HBoxModel' from module '@jupyter-widgets/controls'"
      }
     },
     "868371acc14743eb93343eec44bd8e4b": {
      "model_module": "@jupyter-widgets/base",
      "model_module_version": "2.0.0",
      "model_name": "LayoutModel",
      "state": {
       "_model_name": "LayoutModel",
       "_view_name": "ErrorWidgetView",
       "align_content": null,
       "align_items": null,
       "align_self": null,
       "border": null,
       "bottom": null,
       "display": null,
       "error": {},
       "flex": null,
       "flex_flow": null,
       "grid_area": null,
       "grid_auto_columns": null,
       "grid_auto_flow": null,
       "grid_auto_rows": null,
       "grid_column": null,
       "grid_gap": null,
       "grid_row": null,
       "grid_template_areas": null,
       "grid_template_columns": null,
       "grid_template_rows": null,
       "height": null,
       "justify_content": null,
       "justify_items": null,
       "left": null,
       "margin": null,
       "max_height": null,
       "max_width": null,
       "min_height": null,
       "min_width": null,
       "msg": "Failed to load model class 'LayoutModel' from module '@jupyter-widgets/base'",
       "object_fit": null,
       "object_position": null,
       "order": null,
       "overflow": null,
       "overflow_x": null,
       "overflow_y": null,
       "padding": null,
       "right": null,
       "top": null,
       "visibility": null,
       "width": null
      }
     },
     "8def26e8dc9b40c6926eb2e39a0473b4": {
      "model_module": "@jupyter-widgets/controls",
      "model_module_version": "2.0.0",
      "model_name": "HTMLModel",
      "state": {
       "_model_module": "@jupyter-widgets/controls",
       "_model_name": "HTMLModel",
       "_view_name": "ErrorWidgetView",
       "description": "",
       "description_tooltip": null,
       "error": {},
       "layout": "IPY_MODEL_48b2d092a8854839bb646da5389df836",
       "msg": "Failed to load model class 'HTMLModel' from module '@jupyter-widgets/controls'",
       "placeholder": "​",
       "style": "IPY_MODEL_cfe2508490084a67ac9c1058e4d1b959",
       "value": " 711k/711k [00:01&lt;00:00, 667kB/s]"
      }
     },
     "8e8de9cbdcb749f79041cd281dc945a5": {
      "model_module": "@jupyter-widgets/controls",
      "model_module_version": "2.0.0",
      "model_name": "HBoxModel",
      "state": {
       "_model_module": "@jupyter-widgets/controls",
       "_model_name": "HBoxModel",
       "_view_name": "ErrorWidgetView",
       "box_style": "",
       "children": [
        "IPY_MODEL_520a170831084303891f5bca953e8869",
        "IPY_MODEL_55e0631d456f4c23b16cfc4e88bdffe1",
        "IPY_MODEL_8def26e8dc9b40c6926eb2e39a0473b4"
       ],
       "error": {},
       "layout": "IPY_MODEL_3dbecdc0947d408da2522729b10bffc7",
       "msg": "Failed to load model class 'HBoxModel' from module '@jupyter-widgets/controls'"
      }
     },
     "966a854874724b36a6332d9bc61dc1ad": {
      "model_module": "@jupyter-widgets/controls",
      "model_module_version": "2.0.0",
      "model_name": "DescriptionStyleModel",
      "state": {
       "_model_module": "@jupyter-widgets/controls",
       "_model_name": "DescriptionStyleModel",
       "_view_name": "ErrorWidgetView",
       "description_width": "",
       "error": {},
       "msg": "Failed to load model class 'DescriptionStyleModel' from module '@jupyter-widgets/controls'"
      }
     },
     "a01f5336e2254ff5af7b0f2b9c2ecfc8": {
      "model_module": "@jupyter-widgets/controls",
      "model_module_version": "2.0.0",
      "model_name": "DescriptionStyleModel",
      "state": {
       "_model_module": "@jupyter-widgets/controls",
       "_model_name": "DescriptionStyleModel",
       "_view_name": "ErrorWidgetView",
       "description_width": "",
       "error": {},
       "msg": "Failed to load model class 'DescriptionStyleModel' from module '@jupyter-widgets/controls'"
      }
     },
     "a2d7f858049941ecac65563e86704387": {
      "model_module": "@jupyter-widgets/base",
      "model_module_version": "2.0.0",
      "model_name": "LayoutModel",
      "state": {
       "_model_name": "LayoutModel",
       "_view_name": "ErrorWidgetView",
       "align_content": null,
       "align_items": null,
       "align_self": null,
       "border": null,
       "bottom": null,
       "display": null,
       "error": {},
       "flex": null,
       "flex_flow": null,
       "grid_area": null,
       "grid_auto_columns": null,
       "grid_auto_flow": null,
       "grid_auto_rows": null,
       "grid_column": null,
       "grid_gap": null,
       "grid_row": null,
       "grid_template_areas": null,
       "grid_template_columns": null,
       "grid_template_rows": null,
       "height": null,
       "justify_content": null,
       "justify_items": null,
       "left": null,
       "margin": null,
       "max_height": null,
       "max_width": null,
       "min_height": null,
       "min_width": null,
       "msg": "Failed to load model class 'LayoutModel' from module '@jupyter-widgets/base'",
       "object_fit": null,
       "object_position": null,
       "order": null,
       "overflow": null,
       "overflow_x": null,
       "overflow_y": null,
       "padding": null,
       "right": null,
       "top": null,
       "visibility": null,
       "width": null
      }
     },
     "af676dd421fa4c3e92f2e1fbd3be722d": {
      "model_module": "@jupyter-widgets/controls",
      "model_module_version": "2.0.0",
      "model_name": "HTMLModel",
      "state": {
       "_model_module": "@jupyter-widgets/controls",
       "_model_name": "HTMLModel",
       "_view_name": "ErrorWidgetView",
       "description": "",
       "description_tooltip": null,
       "error": {},
       "layout": "IPY_MODEL_b31527aa430c4797a1a5b9ea029d9017",
       "msg": "Failed to load model class 'HTMLModel' from module '@jupyter-widgets/controls'",
       "placeholder": "​",
       "style": "IPY_MODEL_cd1382b2d976493f92092852168913db",
       "value": "config.json: 100%"
      }
     },
     "b0f626407edc4006af9926eaad7dec05": {
      "model_module": "@jupyter-widgets/base",
      "model_module_version": "2.0.0",
      "model_name": "LayoutModel",
      "state": {
       "_model_name": "LayoutModel",
       "_view_name": "ErrorWidgetView",
       "align_content": null,
       "align_items": null,
       "align_self": null,
       "border": null,
       "bottom": null,
       "display": null,
       "error": {},
       "flex": null,
       "flex_flow": null,
       "grid_area": null,
       "grid_auto_columns": null,
       "grid_auto_flow": null,
       "grid_auto_rows": null,
       "grid_column": null,
       "grid_gap": null,
       "grid_row": null,
       "grid_template_areas": null,
       "grid_template_columns": null,
       "grid_template_rows": null,
       "height": null,
       "justify_content": null,
       "justify_items": null,
       "left": null,
       "margin": null,
       "max_height": null,
       "max_width": null,
       "min_height": null,
       "min_width": null,
       "msg": "Failed to load model class 'LayoutModel' from module '@jupyter-widgets/base'",
       "object_fit": null,
       "object_position": null,
       "order": null,
       "overflow": null,
       "overflow_x": null,
       "overflow_y": null,
       "padding": null,
       "right": null,
       "top": null,
       "visibility": null,
       "width": null
      }
     },
     "b31527aa430c4797a1a5b9ea029d9017": {
      "model_module": "@jupyter-widgets/base",
      "model_module_version": "2.0.0",
      "model_name": "LayoutModel",
      "state": {
       "_model_name": "LayoutModel",
       "_view_name": "ErrorWidgetView",
       "align_content": null,
       "align_items": null,
       "align_self": null,
       "border": null,
       "bottom": null,
       "display": null,
       "error": {},
       "flex": null,
       "flex_flow": null,
       "grid_area": null,
       "grid_auto_columns": null,
       "grid_auto_flow": null,
       "grid_auto_rows": null,
       "grid_column": null,
       "grid_gap": null,
       "grid_row": null,
       "grid_template_areas": null,
       "grid_template_columns": null,
       "grid_template_rows": null,
       "height": null,
       "justify_content": null,
       "justify_items": null,
       "left": null,
       "margin": null,
       "max_height": null,
       "max_width": null,
       "min_height": null,
       "min_width": null,
       "msg": "Failed to load model class 'LayoutModel' from module '@jupyter-widgets/base'",
       "object_fit": null,
       "object_position": null,
       "order": null,
       "overflow": null,
       "overflow_x": null,
       "overflow_y": null,
       "padding": null,
       "right": null,
       "top": null,
       "visibility": null,
       "width": null
      }
     },
     "b339e518bf81435a9bfbd187439391c9": {
      "model_module": "@jupyter-widgets/controls",
      "model_module_version": "2.0.0",
      "model_name": "HTMLModel",
      "state": {
       "_model_module": "@jupyter-widgets/controls",
       "_model_name": "HTMLModel",
       "_view_name": "ErrorWidgetView",
       "description": "",
       "description_tooltip": null,
       "error": {},
       "layout": "IPY_MODEL_29883d06c1c54b388e3ff1df05e1d157",
       "msg": "Failed to load model class 'HTMLModel' from module '@jupyter-widgets/controls'",
       "placeholder": "​",
       "style": "IPY_MODEL_fd7be9d5d69e4d6991385eb50541ff05",
       "value": "special_tokens_map.json: 100%"
      }
     },
     "b67f41bdc2d645da889d8fe0885d9e8a": {
      "model_module": "@jupyter-widgets/controls",
      "model_module_version": "2.0.0",
      "model_name": "ProgressStyleModel",
      "state": {
       "_model_module": "@jupyter-widgets/controls",
       "_model_name": "ProgressStyleModel",
       "_view_name": "ErrorWidgetView",
       "bar_color": null,
       "description_width": "",
       "error": {},
       "msg": "Failed to load model class 'ProgressStyleModel' from module '@jupyter-widgets/controls'"
      }
     },
     "c28e0f5e3ec64d298eb1ef89487f7f40": {
      "model_module": "@jupyter-widgets/controls",
      "model_module_version": "2.0.0",
      "model_name": "DescriptionStyleModel",
      "state": {
       "_model_module": "@jupyter-widgets/controls",
       "_model_name": "DescriptionStyleModel",
       "_view_name": "ErrorWidgetView",
       "description_width": "",
       "error": {},
       "msg": "Failed to load model class 'DescriptionStyleModel' from module '@jupyter-widgets/controls'"
      }
     },
     "c3c88fa9b94a4db993760ef779ebf983": {
      "model_module": "@jupyter-widgets/controls",
      "model_module_version": "2.0.0",
      "model_name": "FloatProgressModel",
      "state": {
       "_model_module": "@jupyter-widgets/controls",
       "_model_name": "FloatProgressModel",
       "_view_name": "ErrorWidgetView",
       "bar_style": "success",
       "description": "",
       "description_tooltip": null,
       "error": {},
       "layout": "IPY_MODEL_504e2efdfaae4eca8a80e712b0aa475c",
       "max": 66465124,
       "min": 0,
       "msg": "Failed to load model class 'FloatProgressModel' from module '@jupyter-widgets/controls'",
       "orientation": "horizontal",
       "style": "IPY_MODEL_46c0601ded5b4c77adf8c71db6874d2b",
       "value": 66465124
      }
     },
     "c7775554dcec47c4835801460177b153": {
      "model_module": "@jupyter-widgets/base",
      "model_module_version": "2.0.0",
      "model_name": "LayoutModel",
      "state": {
       "_model_name": "LayoutModel",
       "_view_name": "ErrorWidgetView",
       "align_content": null,
       "align_items": null,
       "align_self": null,
       "border": null,
       "bottom": null,
       "display": null,
       "error": {},
       "flex": null,
       "flex_flow": null,
       "grid_area": null,
       "grid_auto_columns": null,
       "grid_auto_flow": null,
       "grid_auto_rows": null,
       "grid_column": null,
       "grid_gap": null,
       "grid_row": null,
       "grid_template_areas": null,
       "grid_template_columns": null,
       "grid_template_rows": null,
       "height": null,
       "justify_content": null,
       "justify_items": null,
       "left": null,
       "margin": null,
       "max_height": null,
       "max_width": null,
       "min_height": null,
       "min_width": null,
       "msg": "Failed to load model class 'LayoutModel' from module '@jupyter-widgets/base'",
       "object_fit": null,
       "object_position": null,
       "order": null,
       "overflow": null,
       "overflow_x": null,
       "overflow_y": null,
       "padding": null,
       "right": null,
       "top": null,
       "visibility": null,
       "width": null
      }
     },
     "c7ca4e1eb6ae49da82757e1ab740c108": {
      "model_module": "@jupyter-widgets/base",
      "model_module_version": "2.0.0",
      "model_name": "LayoutModel",
      "state": {
       "_model_name": "LayoutModel",
       "_view_name": "ErrorWidgetView",
       "align_content": null,
       "align_items": null,
       "align_self": null,
       "border": null,
       "bottom": null,
       "display": null,
       "error": {},
       "flex": null,
       "flex_flow": null,
       "grid_area": null,
       "grid_auto_columns": null,
       "grid_auto_flow": null,
       "grid_auto_rows": null,
       "grid_column": null,
       "grid_gap": null,
       "grid_row": null,
       "grid_template_areas": null,
       "grid_template_columns": null,
       "grid_template_rows": null,
       "height": null,
       "justify_content": null,
       "justify_items": null,
       "left": null,
       "margin": null,
       "max_height": null,
       "max_width": null,
       "min_height": null,
       "min_width": null,
       "msg": "Failed to load model class 'LayoutModel' from module '@jupyter-widgets/base'",
       "object_fit": null,
       "object_position": null,
       "order": null,
       "overflow": null,
       "overflow_x": null,
       "overflow_y": null,
       "padding": null,
       "right": null,
       "top": null,
       "visibility": null,
       "width": null
      }
     },
     "c91ed63bc61f4d4ca3f361903a4c38c2": {
      "model_module": "@jupyter-widgets/controls",
      "model_module_version": "2.0.0",
      "model_name": "HBoxModel",
      "state": {
       "_model_module": "@jupyter-widgets/controls",
       "_model_name": "HBoxModel",
       "_view_name": "ErrorWidgetView",
       "box_style": "",
       "children": [
        "IPY_MODEL_1b66d8c0eac24a429b62b3c656ff5777",
        "IPY_MODEL_e1eeb063b6534b0d925a7c4c5baf36e8",
        "IPY_MODEL_e8d73fb665c74a35a1fa69fd08c18c60"
       ],
       "error": {},
       "layout": "IPY_MODEL_1a70017cd6e0455f97f6503c6b244819",
       "msg": "Failed to load model class 'HBoxModel' from module '@jupyter-widgets/controls'"
      }
     },
     "cd1382b2d976493f92092852168913db": {
      "model_module": "@jupyter-widgets/controls",
      "model_module_version": "2.0.0",
      "model_name": "DescriptionStyleModel",
      "state": {
       "_model_module": "@jupyter-widgets/controls",
       "_model_name": "DescriptionStyleModel",
       "_view_name": "ErrorWidgetView",
       "description_width": "",
       "error": {},
       "msg": "Failed to load model class 'DescriptionStyleModel' from module '@jupyter-widgets/controls'"
      }
     },
     "ce36f6ee965c4019a5863ba46c8fad29": {
      "model_module": "@jupyter-widgets/base",
      "model_module_version": "2.0.0",
      "model_name": "LayoutModel",
      "state": {
       "_model_name": "LayoutModel",
       "_view_name": "ErrorWidgetView",
       "align_content": null,
       "align_items": null,
       "align_self": null,
       "border": null,
       "bottom": null,
       "display": null,
       "error": {},
       "flex": null,
       "flex_flow": null,
       "grid_area": null,
       "grid_auto_columns": null,
       "grid_auto_flow": null,
       "grid_auto_rows": null,
       "grid_column": null,
       "grid_gap": null,
       "grid_row": null,
       "grid_template_areas": null,
       "grid_template_columns": null,
       "grid_template_rows": null,
       "height": null,
       "justify_content": null,
       "justify_items": null,
       "left": null,
       "margin": null,
       "max_height": null,
       "max_width": null,
       "min_height": null,
       "min_width": null,
       "msg": "Failed to load model class 'LayoutModel' from module '@jupyter-widgets/base'",
       "object_fit": null,
       "object_position": null,
       "order": null,
       "overflow": null,
       "overflow_x": null,
       "overflow_y": null,
       "padding": null,
       "right": null,
       "top": null,
       "visibility": null,
       "width": null
      }
     },
     "cfe2508490084a67ac9c1058e4d1b959": {
      "model_module": "@jupyter-widgets/controls",
      "model_module_version": "2.0.0",
      "model_name": "DescriptionStyleModel",
      "state": {
       "_model_module": "@jupyter-widgets/controls",
       "_model_name": "DescriptionStyleModel",
       "_view_name": "ErrorWidgetView",
       "description_width": "",
       "error": {},
       "msg": "Failed to load model class 'DescriptionStyleModel' from module '@jupyter-widgets/controls'"
      }
     },
     "d36e6df3a85e4a068b95b83fd27683d8": {
      "model_module": "@jupyter-widgets/controls",
      "model_module_version": "2.0.0",
      "model_name": "HBoxModel",
      "state": {
       "_model_module": "@jupyter-widgets/controls",
       "_model_name": "HBoxModel",
       "_view_name": "ErrorWidgetView",
       "box_style": "",
       "children": [
        "IPY_MODEL_494683ef3656425a93120ef3be762005",
        "IPY_MODEL_d785e15a6b214a6d8bad0df79e052ee8",
        "IPY_MODEL_4620c35a97a6489a9d0cd0dcdf67fc87"
       ],
       "error": {},
       "layout": "IPY_MODEL_79f4f641413b40189ae5dcfc35234cfc",
       "msg": "Failed to load model class 'HBoxModel' from module '@jupyter-widgets/controls'"
      }
     },
     "d4fb397fcdc54970a7d2f264e2ced518": {
      "model_module": "@jupyter-widgets/controls",
      "model_module_version": "2.0.0",
      "model_name": "ButtonStyleModel",
      "state": {
       "_model_module": "@jupyter-widgets/controls",
       "_model_name": "ButtonStyleModel",
       "_view_name": "ErrorWidgetView",
       "button_color": null,
       "error": {},
       "font_weight": "",
       "msg": "Failed to load model class 'ButtonStyleModel' from module '@jupyter-widgets/controls'"
      }
     },
     "d785e15a6b214a6d8bad0df79e052ee8": {
      "model_module": "@jupyter-widgets/controls",
      "model_module_version": "2.0.0",
      "model_name": "FloatProgressModel",
      "state": {
       "_model_module": "@jupyter-widgets/controls",
       "_model_name": "FloatProgressModel",
       "_view_name": "ErrorWidgetView",
       "bar_style": "success",
       "description": "",
       "description_tooltip": null,
       "error": {},
       "layout": "IPY_MODEL_07a0c9e54d414ace9280891202ee492e",
       "max": 5,
       "min": 0,
       "msg": "Failed to load model class 'FloatProgressModel' from module '@jupyter-widgets/controls'",
       "orientation": "horizontal",
       "style": "IPY_MODEL_e4d7c3aa1cb641d3a0a170c7304cdb06",
       "value": 5
      }
     },
     "e1eeb063b6534b0d925a7c4c5baf36e8": {
      "model_module": "@jupyter-widgets/controls",
      "model_module_version": "2.0.0",
      "model_name": "FloatProgressModel",
      "state": {
       "_model_module": "@jupyter-widgets/controls",
       "_model_name": "FloatProgressModel",
       "_view_name": "ErrorWidgetView",
       "bar_style": "success",
       "description": "",
       "description_tooltip": null,
       "error": {},
       "layout": "IPY_MODEL_60adf585e54a41b68de1afa1024e7cb2",
       "max": 1242,
       "min": 0,
       "msg": "Failed to load model class 'FloatProgressModel' from module '@jupyter-widgets/controls'",
       "orientation": "horizontal",
       "style": "IPY_MODEL_b67f41bdc2d645da889d8fe0885d9e8a",
       "value": 1242
      }
     },
     "e2f2fdf30368446ab0f94af32c81f35b": {
      "model_module": "@jupyter-widgets/controls",
      "model_module_version": "2.0.0",
      "model_name": "DescriptionStyleModel",
      "state": {
       "_model_module": "@jupyter-widgets/controls",
       "_model_name": "DescriptionStyleModel",
       "_view_name": "ErrorWidgetView",
       "description_width": "",
       "error": {},
       "msg": "Failed to load model class 'DescriptionStyleModel' from module '@jupyter-widgets/controls'"
      }
     },
     "e4d7c3aa1cb641d3a0a170c7304cdb06": {
      "model_module": "@jupyter-widgets/controls",
      "model_module_version": "2.0.0",
      "model_name": "ProgressStyleModel",
      "state": {
       "_model_module": "@jupyter-widgets/controls",
       "_model_name": "ProgressStyleModel",
       "_view_name": "ErrorWidgetView",
       "bar_color": null,
       "description_width": "",
       "error": {},
       "msg": "Failed to load model class 'ProgressStyleModel' from module '@jupyter-widgets/controls'"
      }
     },
     "e71066c5f1e0411b82d9b501e88fe592": {
      "model_module": "@jupyter-widgets/controls",
      "model_module_version": "2.0.0",
      "model_name": "ProgressStyleModel",
      "state": {
       "_model_module": "@jupyter-widgets/controls",
       "_model_name": "ProgressStyleModel",
       "_view_name": "ErrorWidgetView",
       "bar_color": null,
       "description_width": "",
       "error": {},
       "msg": "Failed to load model class 'ProgressStyleModel' from module '@jupyter-widgets/controls'"
      }
     },
     "e8d73fb665c74a35a1fa69fd08c18c60": {
      "model_module": "@jupyter-widgets/controls",
      "model_module_version": "2.0.0",
      "model_name": "HTMLModel",
      "state": {
       "_model_module": "@jupyter-widgets/controls",
       "_model_name": "HTMLModel",
       "_view_name": "ErrorWidgetView",
       "description": "",
       "description_tooltip": null,
       "error": {},
       "layout": "IPY_MODEL_ecd18ccd56854110a86e195423a54fab",
       "msg": "Failed to load model class 'HTMLModel' from module '@jupyter-widgets/controls'",
       "placeholder": "​",
       "style": "IPY_MODEL_59fed26746484f02a2e3cb52d26029c6",
       "value": " 1.24k/1.24k [00:00&lt;00:00, 77.8kB/s]"
      }
     },
     "ecd18ccd56854110a86e195423a54fab": {
      "model_module": "@jupyter-widgets/base",
      "model_module_version": "2.0.0",
      "model_name": "LayoutModel",
      "state": {
       "_model_name": "LayoutModel",
       "_view_name": "ErrorWidgetView",
       "align_content": null,
       "align_items": null,
       "align_self": null,
       "border": null,
       "bottom": null,
       "display": null,
       "error": {},
       "flex": null,
       "flex_flow": null,
       "grid_area": null,
       "grid_auto_columns": null,
       "grid_auto_flow": null,
       "grid_auto_rows": null,
       "grid_column": null,
       "grid_gap": null,
       "grid_row": null,
       "grid_template_areas": null,
       "grid_template_columns": null,
       "grid_template_rows": null,
       "height": null,
       "justify_content": null,
       "justify_items": null,
       "left": null,
       "margin": null,
       "max_height": null,
       "max_width": null,
       "min_height": null,
       "min_width": null,
       "msg": "Failed to load model class 'LayoutModel' from module '@jupyter-widgets/base'",
       "object_fit": null,
       "object_position": null,
       "order": null,
       "overflow": null,
       "overflow_x": null,
       "overflow_y": null,
       "padding": null,
       "right": null,
       "top": null,
       "visibility": null,
       "width": null
      }
     },
     "eea4560008df445292ba0f9195e6241c": {
      "model_module": "@jupyter-widgets/controls",
      "model_module_version": "2.0.0",
      "model_name": "HBoxModel",
      "state": {
       "_model_module": "@jupyter-widgets/controls",
       "_model_name": "HBoxModel",
       "_view_name": "ErrorWidgetView",
       "box_style": "",
       "children": [
        "IPY_MODEL_af676dd421fa4c3e92f2e1fbd3be722d",
        "IPY_MODEL_0526eecd2f7842b6b474419ded07a0e2",
        "IPY_MODEL_3a0c1c70710d4cb9bd3dc78947152d69"
       ],
       "error": {},
       "layout": "IPY_MODEL_3c1120c4e4e34625bb26bba463a31e40",
       "msg": "Failed to load model class 'HBoxModel' from module '@jupyter-widgets/controls'"
      }
     },
     "f3c496863202439781bd532581c7aec1": {
      "model_module": "@jupyter-widgets/controls",
      "model_module_version": "2.0.0",
      "model_name": "HBoxModel",
      "state": {
       "_model_module": "@jupyter-widgets/controls",
       "_model_name": "HBoxModel",
       "_view_name": "ErrorWidgetView",
       "box_style": "",
       "children": [
        "IPY_MODEL_14a65f4e6d204099b3a098970ab86df6",
        "IPY_MODEL_c3c88fa9b94a4db993760ef779ebf983",
        "IPY_MODEL_5031c01584834132a074d6f2172d8715"
       ],
       "error": {},
       "layout": "IPY_MODEL_6e7724bb7e9c41a1af1ae731e4684c66",
       "msg": "Failed to load model class 'HBoxModel' from module '@jupyter-widgets/controls'"
      }
     },
     "fbfe15e755fb4d6abfac769e9f4576a9": {
      "model_module": "@jupyter-widgets/controls",
      "model_module_version": "2.0.0",
      "model_name": "DescriptionStyleModel",
      "state": {
       "_model_module": "@jupyter-widgets/controls",
       "_model_name": "DescriptionStyleModel",
       "_view_name": "ErrorWidgetView",
       "description_width": "",
       "error": {},
       "msg": "Failed to load model class 'DescriptionStyleModel' from module '@jupyter-widgets/controls'"
      }
     },
     "fd7be9d5d69e4d6991385eb50541ff05": {
      "model_module": "@jupyter-widgets/controls",
      "model_module_version": "2.0.0",
      "model_name": "DescriptionStyleModel",
      "state": {
       "_model_module": "@jupyter-widgets/controls",
       "_model_name": "DescriptionStyleModel",
       "_view_name": "ErrorWidgetView",
       "description_width": "",
       "error": {},
       "msg": "Failed to load model class 'DescriptionStyleModel' from module '@jupyter-widgets/controls'"
      }
     }
    },
    "version_major": 2,
    "version_minor": 0
   }
  }
 },
 "nbformat": 4,
 "nbformat_minor": 5
}
