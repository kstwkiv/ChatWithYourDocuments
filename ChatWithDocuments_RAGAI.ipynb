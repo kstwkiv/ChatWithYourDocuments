{
 "cells": [
  {
   "cell_type": "code",
   "execution_count": 6,
   "id": "fd027820-6bee-49a0-bb45-cca67a89bedd",
   "metadata": {},
   "outputs": [
    {
     "name": "stdout",
     "output_type": "stream",
     "text": [
      "Requirement already satisfied: langchain-community in c:\\users\\admin\\anaconda3\\lib\\site-packages (0.3.13)\n",
      "Requirement already satisfied: PyYAML>=5.3 in c:\\users\\admin\\anaconda3\\lib\\site-packages (from langchain-community) (6.0.1)\n",
      "Requirement already satisfied: SQLAlchemy<3,>=1.4 in c:\\users\\admin\\anaconda3\\lib\\site-packages (from langchain-community) (2.0.25)\n",
      "Requirement already satisfied: aiohttp<4.0.0,>=3.8.3 in c:\\users\\admin\\anaconda3\\lib\\site-packages (from langchain-community) (3.9.3)\n",
      "Requirement already satisfied: dataclasses-json<0.7,>=0.5.7 in c:\\users\\admin\\anaconda3\\lib\\site-packages (from langchain-community) (0.6.7)\n",
      "Requirement already satisfied: httpx-sse<0.5.0,>=0.4.0 in c:\\users\\admin\\anaconda3\\lib\\site-packages (from langchain-community) (0.4.0)\n",
      "Requirement already satisfied: langchain<0.4.0,>=0.3.13 in c:\\users\\admin\\anaconda3\\lib\\site-packages (from langchain-community) (0.3.13)\n",
      "Requirement already satisfied: langchain-core<0.4.0,>=0.3.27 in c:\\users\\admin\\anaconda3\\lib\\site-packages (from langchain-community) (0.3.28)\n",
      "Requirement already satisfied: langsmith<0.3,>=0.1.125 in c:\\users\\admin\\anaconda3\\lib\\site-packages (from langchain-community) (0.2.6)\n",
      "Requirement already satisfied: numpy<2,>=1.22.4 in c:\\users\\admin\\anaconda3\\lib\\site-packages (from langchain-community) (1.26.4)\n",
      "Requirement already satisfied: pydantic-settings<3.0.0,>=2.4.0 in c:\\users\\admin\\anaconda3\\lib\\site-packages (from langchain-community) (2.7.0)\n",
      "Requirement already satisfied: requests<3,>=2 in c:\\users\\admin\\anaconda3\\lib\\site-packages (from langchain-community) (2.31.0)\n",
      "Requirement already satisfied: tenacity!=8.4.0,<10,>=8.1.0 in c:\\users\\admin\\anaconda3\\lib\\site-packages (from langchain-community) (8.2.2)\n",
      "Requirement already satisfied: aiosignal>=1.1.2 in c:\\users\\admin\\anaconda3\\lib\\site-packages (from aiohttp<4.0.0,>=3.8.3->langchain-community) (1.2.0)\n",
      "Requirement already satisfied: attrs>=17.3.0 in c:\\users\\admin\\anaconda3\\lib\\site-packages (from aiohttp<4.0.0,>=3.8.3->langchain-community) (23.1.0)\n",
      "Requirement already satisfied: frozenlist>=1.1.1 in c:\\users\\admin\\anaconda3\\lib\\site-packages (from aiohttp<4.0.0,>=3.8.3->langchain-community) (1.4.0)\n",
      "Requirement already satisfied: multidict<7.0,>=4.5 in c:\\users\\admin\\anaconda3\\lib\\site-packages (from aiohttp<4.0.0,>=3.8.3->langchain-community) (6.0.4)\n",
      "Requirement already satisfied: yarl<2.0,>=1.0 in c:\\users\\admin\\anaconda3\\lib\\site-packages (from aiohttp<4.0.0,>=3.8.3->langchain-community) (1.9.3)\n",
      "Requirement already satisfied: marshmallow<4.0.0,>=3.18.0 in c:\\users\\admin\\anaconda3\\lib\\site-packages (from dataclasses-json<0.7,>=0.5.7->langchain-community) (3.23.2)\n",
      "Requirement already satisfied: typing-inspect<1,>=0.4.0 in c:\\users\\admin\\anaconda3\\lib\\site-packages (from dataclasses-json<0.7,>=0.5.7->langchain-community) (0.9.0)\n",
      "Requirement already satisfied: langchain-text-splitters<0.4.0,>=0.3.3 in c:\\users\\admin\\anaconda3\\lib\\site-packages (from langchain<0.4.0,>=0.3.13->langchain-community) (0.3.4)\n",
      "Requirement already satisfied: pydantic<3.0.0,>=2.7.4 in c:\\users\\admin\\anaconda3\\lib\\site-packages (from langchain<0.4.0,>=0.3.13->langchain-community) (2.10.4)\n",
      "Requirement already satisfied: jsonpatch<2.0,>=1.33 in c:\\users\\admin\\anaconda3\\lib\\site-packages (from langchain-core<0.4.0,>=0.3.27->langchain-community) (1.33)\n",
      "Requirement already satisfied: packaging<25,>=23.2 in c:\\users\\admin\\anaconda3\\lib\\site-packages (from langchain-core<0.4.0,>=0.3.27->langchain-community) (24.2)\n",
      "Requirement already satisfied: typing-extensions>=4.7 in c:\\users\\admin\\anaconda3\\lib\\site-packages (from langchain-core<0.4.0,>=0.3.27->langchain-community) (4.12.2)\n",
      "Requirement already satisfied: httpx<1,>=0.23.0 in c:\\users\\admin\\anaconda3\\lib\\site-packages (from langsmith<0.3,>=0.1.125->langchain-community) (0.28.1)\n",
      "Requirement already satisfied: orjson<4.0.0,>=3.9.14 in c:\\users\\admin\\anaconda3\\lib\\site-packages (from langsmith<0.3,>=0.1.125->langchain-community) (3.10.12)\n",
      "Requirement already satisfied: requests-toolbelt<2.0.0,>=1.0.0 in c:\\users\\admin\\anaconda3\\lib\\site-packages (from langsmith<0.3,>=0.1.125->langchain-community) (1.0.0)\n",
      "Requirement already satisfied: python-dotenv>=0.21.0 in c:\\users\\admin\\anaconda3\\lib\\site-packages (from pydantic-settings<3.0.0,>=2.4.0->langchain-community) (0.21.0)\n",
      "Requirement already satisfied: charset-normalizer<4,>=2 in c:\\users\\admin\\anaconda3\\lib\\site-packages (from requests<3,>=2->langchain-community) (2.0.4)\n",
      "Requirement already satisfied: idna<4,>=2.5 in c:\\users\\admin\\anaconda3\\lib\\site-packages (from requests<3,>=2->langchain-community) (3.4)\n",
      "Requirement already satisfied: urllib3<3,>=1.21.1 in c:\\users\\admin\\anaconda3\\lib\\site-packages (from requests<3,>=2->langchain-community) (2.0.7)\n",
      "Requirement already satisfied: certifi>=2017.4.17 in c:\\users\\admin\\anaconda3\\lib\\site-packages (from requests<3,>=2->langchain-community) (2024.2.2)\n",
      "Requirement already satisfied: greenlet!=0.4.17 in c:\\users\\admin\\anaconda3\\lib\\site-packages (from SQLAlchemy<3,>=1.4->langchain-community) (3.0.1)\n",
      "Requirement already satisfied: anyio in c:\\users\\admin\\anaconda3\\lib\\site-packages (from httpx<1,>=0.23.0->langsmith<0.3,>=0.1.125->langchain-community) (4.2.0)\n",
      "Requirement already satisfied: httpcore==1.* in c:\\users\\admin\\anaconda3\\lib\\site-packages (from httpx<1,>=0.23.0->langsmith<0.3,>=0.1.125->langchain-community) (1.0.7)\n",
      "Requirement already satisfied: h11<0.15,>=0.13 in c:\\users\\admin\\anaconda3\\lib\\site-packages (from httpcore==1.*->httpx<1,>=0.23.0->langsmith<0.3,>=0.1.125->langchain-community) (0.14.0)\n",
      "Requirement already satisfied: jsonpointer>=1.9 in c:\\users\\admin\\anaconda3\\lib\\site-packages (from jsonpatch<2.0,>=1.33->langchain-core<0.4.0,>=0.3.27->langchain-community) (2.1)\n",
      "Requirement already satisfied: annotated-types>=0.6.0 in c:\\users\\admin\\anaconda3\\lib\\site-packages (from pydantic<3.0.0,>=2.7.4->langchain<0.4.0,>=0.3.13->langchain-community) (0.7.0)\n",
      "Requirement already satisfied: pydantic-core==2.27.2 in c:\\users\\admin\\anaconda3\\lib\\site-packages (from pydantic<3.0.0,>=2.7.4->langchain<0.4.0,>=0.3.13->langchain-community) (2.27.2)\n",
      "Requirement already satisfied: mypy-extensions>=0.3.0 in c:\\users\\admin\\anaconda3\\lib\\site-packages (from typing-inspect<1,>=0.4.0->dataclasses-json<0.7,>=0.5.7->langchain-community) (1.0.0)\n",
      "Requirement already satisfied: sniffio>=1.1 in c:\\users\\admin\\anaconda3\\lib\\site-packages (from anyio->httpx<1,>=0.23.0->langsmith<0.3,>=0.1.125->langchain-community) (1.3.0)\n"
     ]
    }
   ],
   "source": [
    "!pip install langchain-community"
   ]
  },
  {
   "cell_type": "code",
   "execution_count": 7,
   "id": "c95c309f-0e5b-402e-b356-4c5c6e83a4c6",
   "metadata": {},
   "outputs": [
    {
     "name": "stdout",
     "output_type": "stream",
     "text": [
      "Requirement already satisfied: pypdf in c:\\users\\admin\\anaconda3\\lib\\site-packages (5.1.0)\n"
     ]
    }
   ],
   "source": [
    "!pip install pypdf"
   ]
  },
  {
   "cell_type": "code",
   "execution_count": 8,
   "id": "5f67f719-d28e-486d-81ff-b5bca1dc803a",
   "metadata": {},
   "outputs": [
    {
     "name": "stdout",
     "output_type": "stream",
     "text": [
      "Requirement already satisfied: docx2txt in c:\\users\\admin\\anaconda3\\lib\\site-packages (0.8)\n"
     ]
    }
   ],
   "source": [
    "!pip install docx2txt"
   ]
  },
  {
   "cell_type": "code",
   "execution_count": 9,
   "id": "f1294f1e-34f8-4c7e-be8b-d27984b84d59",
   "metadata": {},
   "outputs": [],
   "source": [
    "from langchain_community.document_loaders import Docx2txtLoader"
   ]
  },
  {
   "cell_type": "code",
   "execution_count": 10,
   "id": "2622fde6-02dd-4180-9228-8dd883695f81",
   "metadata": {},
   "outputs": [
    {
     "name": "stdout",
     "output_type": "stream",
     "text": [
      "Requirement already satisfied: fastembed in c:\\users\\admin\\anaconda3\\lib\\site-packages (0.5.0)\n",
      "Requirement already satisfied: huggingface-hub<1.0,>=0.20 in c:\\users\\admin\\anaconda3\\lib\\site-packages (from fastembed) (0.27.0)\n",
      "Requirement already satisfied: loguru<0.8.0,>=0.7.2 in c:\\users\\admin\\anaconda3\\lib\\site-packages (from fastembed) (0.7.3)\n",
      "Requirement already satisfied: mmh3<5.0.0,>=4.1.0 in c:\\users\\admin\\anaconda3\\lib\\site-packages (from fastembed) (4.1.0)\n",
      "Requirement already satisfied: numpy>=1.21 in c:\\users\\admin\\anaconda3\\lib\\site-packages (from fastembed) (1.26.4)\n",
      "Requirement already satisfied: onnx>=1.15.0 in c:\\users\\admin\\anaconda3\\lib\\site-packages (from fastembed) (1.17.0)\n",
      "Requirement already satisfied: onnxruntime!=1.20.0,>=1.17.0 in c:\\users\\admin\\anaconda3\\lib\\site-packages (from fastembed) (1.20.1)\n",
      "Requirement already satisfied: pillow<11.0.0,>=10.3.0 in c:\\users\\admin\\anaconda3\\lib\\site-packages (from fastembed) (10.4.0)\n",
      "Requirement already satisfied: py-rust-stemmers<0.2.0,>=0.1.0 in c:\\users\\admin\\anaconda3\\lib\\site-packages (from fastembed) (0.1.3)\n",
      "Requirement already satisfied: requests<3.0,>=2.31 in c:\\users\\admin\\anaconda3\\lib\\site-packages (from fastembed) (2.31.0)\n",
      "Requirement already satisfied: tokenizers<1.0,>=0.15 in c:\\users\\admin\\anaconda3\\lib\\site-packages (from fastembed) (0.21.0)\n",
      "Requirement already satisfied: tqdm<5.0,>=4.66 in c:\\users\\admin\\anaconda3\\lib\\site-packages (from fastembed) (4.67.1)\n",
      "Requirement already satisfied: filelock in c:\\users\\admin\\anaconda3\\lib\\site-packages (from huggingface-hub<1.0,>=0.20->fastembed) (3.13.1)\n",
      "Requirement already satisfied: fsspec>=2023.5.0 in c:\\users\\admin\\anaconda3\\lib\\site-packages (from huggingface-hub<1.0,>=0.20->fastembed) (2023.10.0)\n",
      "Requirement already satisfied: packaging>=20.9 in c:\\users\\admin\\anaconda3\\lib\\site-packages (from huggingface-hub<1.0,>=0.20->fastembed) (24.2)\n",
      "Requirement already satisfied: pyyaml>=5.1 in c:\\users\\admin\\anaconda3\\lib\\site-packages (from huggingface-hub<1.0,>=0.20->fastembed) (6.0.1)\n",
      "Requirement already satisfied: typing-extensions>=3.7.4.3 in c:\\users\\admin\\anaconda3\\lib\\site-packages (from huggingface-hub<1.0,>=0.20->fastembed) (4.12.2)\n",
      "Requirement already satisfied: colorama>=0.3.4 in c:\\users\\admin\\anaconda3\\lib\\site-packages (from loguru<0.8.0,>=0.7.2->fastembed) (0.4.6)\n",
      "Requirement already satisfied: win32-setctime>=1.0.0 in c:\\users\\admin\\anaconda3\\lib\\site-packages (from loguru<0.8.0,>=0.7.2->fastembed) (1.2.0)\n",
      "Requirement already satisfied: protobuf>=3.20.2 in c:\\users\\admin\\anaconda3\\lib\\site-packages (from onnx>=1.15.0->fastembed) (3.20.3)\n",
      "Requirement already satisfied: coloredlogs in c:\\users\\admin\\anaconda3\\lib\\site-packages (from onnxruntime!=1.20.0,>=1.17.0->fastembed) (15.0.1)\n",
      "Requirement already satisfied: flatbuffers in c:\\users\\admin\\anaconda3\\lib\\site-packages (from onnxruntime!=1.20.0,>=1.17.0->fastembed) (24.12.23)\n",
      "Requirement already satisfied: sympy in c:\\users\\admin\\anaconda3\\lib\\site-packages (from onnxruntime!=1.20.0,>=1.17.0->fastembed) (1.12)\n",
      "Requirement already satisfied: charset-normalizer<4,>=2 in c:\\users\\admin\\anaconda3\\lib\\site-packages (from requests<3.0,>=2.31->fastembed) (2.0.4)\n",
      "Requirement already satisfied: idna<4,>=2.5 in c:\\users\\admin\\anaconda3\\lib\\site-packages (from requests<3.0,>=2.31->fastembed) (3.4)\n",
      "Requirement already satisfied: urllib3<3,>=1.21.1 in c:\\users\\admin\\anaconda3\\lib\\site-packages (from requests<3.0,>=2.31->fastembed) (2.0.7)\n",
      "Requirement already satisfied: certifi>=2017.4.17 in c:\\users\\admin\\anaconda3\\lib\\site-packages (from requests<3.0,>=2.31->fastembed) (2024.2.2)\n",
      "Requirement already satisfied: humanfriendly>=9.1 in c:\\users\\admin\\anaconda3\\lib\\site-packages (from coloredlogs->onnxruntime!=1.20.0,>=1.17.0->fastembed) (10.0)\n",
      "Requirement already satisfied: mpmath>=0.19 in c:\\users\\admin\\anaconda3\\lib\\site-packages (from sympy->onnxruntime!=1.20.0,>=1.17.0->fastembed) (1.3.0)\n",
      "Requirement already satisfied: pyreadline3 in c:\\users\\admin\\anaconda3\\lib\\site-packages (from humanfriendly>=9.1->coloredlogs->onnxruntime!=1.20.0,>=1.17.0->fastembed) (3.5.4)\n"
     ]
    }
   ],
   "source": [
    "!pip install fastembed"
   ]
  },
  {
   "cell_type": "code",
   "execution_count": 11,
   "id": "727ac99f-b1e9-4623-9e39-b1dea60f6783",
   "metadata": {},
   "outputs": [
    {
     "name": "stdout",
     "output_type": "stream",
     "text": [
      "Requirement already satisfied: faiss-cpu in c:\\users\\admin\\anaconda3\\lib\\site-packages (1.9.0.post1)\n",
      "Requirement already satisfied: numpy<3.0,>=1.25.0 in c:\\users\\admin\\anaconda3\\lib\\site-packages (from faiss-cpu) (1.26.4)\n",
      "Requirement already satisfied: packaging in c:\\users\\admin\\anaconda3\\lib\\site-packages (from faiss-cpu) (24.2)\n",
      "Note: you may need to restart the kernel to use updated packages.\n"
     ]
    }
   ],
   "source": [
    "pip install faiss-cpu"
   ]
  },
  {
   "cell_type": "code",
   "execution_count": 12,
   "id": "23fd3d91-6a65-40e8-8dbc-d5bbb52e26c8",
   "metadata": {},
   "outputs": [],
   "source": [
    "from langchain_community.document_loaders import PyPDFDirectoryLoader"
   ]
  },
  {
   "cell_type": "code",
   "execution_count": 13,
   "id": "a95424ec-be46-4123-9fba-0aa2f03b3e8d",
   "metadata": {},
   "outputs": [],
   "source": [
    "from langchain_community.document_loaders import PyPDFLoader\n",
    "from langchain.text_splitter import RecursiveCharacterTextSplitter\n",
    "from langchain_community.embeddings import FastEmbedEmbeddings\n",
    "from langchain_community.vectorstores import FAISS"
   ]
  },
  {
   "cell_type": "code",
   "execution_count": 14,
   "id": "ada2a1e0-64e8-44b9-b49c-8619ba87b909",
   "metadata": {},
   "outputs": [],
   "source": [
    "loader = PyPDFDirectoryLoader('/content/data')"
   ]
  },
  {
   "cell_type": "code",
   "execution_count": 15,
   "id": "fdb8ac41-a674-4271-9298-8607a7be2001",
   "metadata": {},
   "outputs": [],
   "source": [
    "loader = PyPDFLoader(\"C:/Users/admin/Downloads/cs.pdf\")"
   ]
  },
  {
   "cell_type": "code",
   "execution_count": 16,
   "id": "f157ad2f-4c55-4c74-9ecb-374feb02e72e",
   "metadata": {},
   "outputs": [],
   "source": [
    "data = loader.load()"
   ]
  },
  {
   "cell_type": "code",
   "execution_count": 17,
   "id": "d61b3c33-ca8b-4a6c-9e64-0472492a8fcb",
   "metadata": {},
   "outputs": [
    {
     "data": {
      "text/plain": [
       "2"
      ]
     },
     "execution_count": 17,
     "metadata": {},
     "output_type": "execute_result"
    }
   ],
   "source": [
    "len(data)"
   ]
  },
  {
   "cell_type": "code",
   "execution_count": 18,
   "id": "c2851171-d0c1-4f92-9966-d3c958859ddc",
   "metadata": {},
   "outputs": [],
   "source": [
    "text_splitter  = RecursiveCharacterTextSplitter(chunk_size = 1000, chunk_overlap = 100)"
   ]
  },
  {
   "cell_type": "code",
   "execution_count": 19,
   "id": "f1a67e6c-8ad7-4994-96a9-25e0ba43c1b9",
   "metadata": {},
   "outputs": [],
   "source": [
    "text = text_splitter.split_documents(data)"
   ]
  },
  {
   "cell_type": "code",
   "execution_count": 20,
   "id": "c286b533-5c27-4df0-a541-b408f067abcb",
   "metadata": {},
   "outputs": [
    {
     "data": {
      "text/plain": [
       "5"
      ]
     },
     "execution_count": 20,
     "metadata": {},
     "output_type": "execute_result"
    }
   ],
   "source": [
    "len(text)"
   ]
  },
  {
   "cell_type": "code",
   "execution_count": 21,
   "id": "32540fda-1594-4e57-bf9e-b5145d789308",
   "metadata": {},
   "outputs": [
    {
     "name": "stderr",
     "output_type": "stream",
     "text": [
      "C:\\Users\\admin\\anaconda3\\Lib\\site-packages\\huggingface_hub\\file_download.py:140: UserWarning: `huggingface_hub` cache-system uses symlinks by default to efficiently store duplicated files but your machine does not support them in C:\\Users\\admin\\AppData\\Local\\Temp\\fastembed_cache\\models--qdrant--bge-small-en-v1.5-onnx-q. Caching files will still work but in a degraded version that might require more space on your disk. This warning can be disabled by setting the `HF_HUB_DISABLE_SYMLINKS_WARNING` environment variable. For more details, see https://huggingface.co/docs/huggingface_hub/how-to-cache#limitations.\n",
      "To support symlinks on Windows, you either need to activate Developer Mode or to run Python as an administrator. In order to activate developer mode, see this article: https://docs.microsoft.com/en-us/windows/apps/get-started/enable-your-device-for-development\n",
      "  warnings.warn(message)\n"
     ]
    }
   ],
   "source": [
    "embeddings = FastEmbedEmbeddings(model_name=\"BAAI/bge-small-en-v1.5\")"
   ]
  },
  {
   "cell_type": "code",
   "execution_count": 22,
   "id": "fe6c8eba-8dd5-445e-be51-6d9a09dbcea9",
   "metadata": {},
   "outputs": [],
   "source": [
    "db = FAISS.from_documents(text, embeddings)"
   ]
  },
  {
   "cell_type": "code",
   "execution_count": 23,
   "id": "2e896cae-420b-46c7-ab92-bb42d8360d86",
   "metadata": {},
   "outputs": [],
   "source": [
    "retriever = db.as_retriever(search_type=\"similarity\", search_kwargs={\"k\": 4})"
   ]
  },
  {
   "cell_type": "code",
   "execution_count": 24,
   "id": "c6e20638-6d33-402c-b729-62574cce9213",
   "metadata": {},
   "outputs": [
    {
     "name": "stderr",
     "output_type": "stream",
     "text": [
      "C:\\Users\\admin\\AppData\\Local\\Temp\\ipykernel_2240\\4201933053.py:1: LangChainDeprecationWarning: The method `BaseRetriever.get_relevant_documents` was deprecated in langchain-core 0.1.46 and will be removed in 1.0. Use :meth:`~invoke` instead.\n",
      "  retriever_docs = retriever.get_relevant_documents(\"What are the 5 steps for genai ?\")\n"
     ]
    }
   ],
   "source": [
    "retriever_docs = retriever.get_relevant_documents(\"What are the 5 steps for genai ?\")"
   ]
  },
  {
   "cell_type": "code",
   "execution_count": 25,
   "id": "55f3f4e6-efa2-4f8a-91d7-cfdd33e162b4",
   "metadata": {},
   "outputs": [
    {
     "data": {
      "text/plain": [
       "[Document(id='45e2654a-cbb9-4e7e-a4b9-b4c86efee6df', metadata={'source': 'C:/Users/admin/Downloads/cs.pdf', 'page': 1}, page_content='Section 8: Operating System \\nSystem calls, processes, threads, inter‐process communication, concurrency and synchronization. \\nDeadlock. CPU and I/O scheduling. Memory management and virtual memory. File systems. \\nSection 9: Databases \\nER‐model. Relational model: relational algebra, tuple calculus, SQL. Integrity constraints, normal \\nforms. File organization, indexing (e.g., B and B+ trees). Transactions and concurrency control. \\n \\nSection 10: Computer Networks \\nConcept of layering: OSI and TCP/IP Protocol Stacks; Basics of packet,circuit and virtual circuit-\\nswitching; Data link layer: framing, error detection, Medium Access Control, Ethernet bridging; \\nRouting protocols: shortest path, flooding, distance vector and link state routing; Fragmentation \\nand IP addressing, IPv4, CIDR notation, Basics of IP support protocols (ARP, DHCP, ICMP), \\nNetwork Address Translation (NAT); Transport layer: flow control and congestion control, UDP,'),\n",
       " Document(id='fa5edafd-bbf3-4a32-8f5e-d0cff9912466', metadata={'source': 'C:/Users/admin/Downloads/cs.pdf', 'page': 1}, page_content='Network Address Translation (NAT); Transport layer: flow control and congestion control, UDP, \\nTCP, sockets; Application layer protocols: DNS, SMTP, HTTP, FTP, Email.'),\n",
       " Document(id='af475f00-127f-4981-8751-cc1d5f3290a7', metadata={'source': 'C:/Users/admin/Downloads/cs.pdf', 'page': 0}, page_content='computer arithmetic (fixed and floating point). \\nSection 3: Computer Organization and Architecture \\nMachine instructions and addressing modes. ALU, data‐path and control unit. Instruction \\npipelining, pipeline hazards. Memory hierarchy: cache, main memory and secondary storage; I/O \\ninterface (interrupt and DMA mode). \\nSection 4: Programming and Data Structures \\nProgramming in C. Recursion. Arrays, stacks, queues, linked lists, trees, binary search trees, \\nbinary heaps, graphs. \\nSection 5: Algorithms \\nSearching, sorting, hashing. Asymptotic worst case time and space complexity. Algorithm design \\ntechniques: greedy, dynamic programming and divide‐and‐conquer. Graph traversals, minimum \\nspanning trees, shortest paths \\nSection 6: Theory of Computation \\nRegular expressions and finite automata. Context-free grammars and push-down \\nautomata.Regular and contex-free languages, pumping lemma. Turing machines and \\nundecidability. \\nSection 7: Compiler Design'),\n",
       " Document(id='697eb69e-3677-4054-a9b0-0e2738ec4dd0', metadata={'source': 'C:/Users/admin/Downloads/cs.pdf', 'page': 0}, page_content='undecidability. \\nSection 7: Compiler Design \\nLexical analysis, parsing, syntax-directed translation. Runtime environments. Intermediate code \\ngeneration. Local optimisation, Data flow analyses: constant propagation, liveness analysis, \\ncommon subexpression elimination.')]"
      ]
     },
     "execution_count": 25,
     "metadata": {},
     "output_type": "execute_result"
    }
   ],
   "source": [
    "retriever_docs"
   ]
  },
  {
   "cell_type": "code",
   "execution_count": 26,
   "id": "e431218d-addb-4c00-a030-2fb0cfedc4ac",
   "metadata": {},
   "outputs": [
    {
     "name": "stdout",
     "output_type": "stream",
     "text": [
      "Requirement already satisfied: groq in c:\\users\\admin\\anaconda3\\lib\\site-packages (0.13.1)\n",
      "Requirement already satisfied: anyio<5,>=3.5.0 in c:\\users\\admin\\anaconda3\\lib\\site-packages (from groq) (4.2.0)\n",
      "Requirement already satisfied: distro<2,>=1.7.0 in c:\\users\\admin\\anaconda3\\lib\\site-packages (from groq) (1.8.0)\n",
      "Requirement already satisfied: httpx<1,>=0.23.0 in c:\\users\\admin\\anaconda3\\lib\\site-packages (from groq) (0.28.1)\n",
      "Requirement already satisfied: pydantic<3,>=1.9.0 in c:\\users\\admin\\anaconda3\\lib\\site-packages (from groq) (2.10.4)\n",
      "Requirement already satisfied: sniffio in c:\\users\\admin\\anaconda3\\lib\\site-packages (from groq) (1.3.0)\n",
      "Requirement already satisfied: typing-extensions<5,>=4.10 in c:\\users\\admin\\anaconda3\\lib\\site-packages (from groq) (4.12.2)\n",
      "Requirement already satisfied: idna>=2.8 in c:\\users\\admin\\anaconda3\\lib\\site-packages (from anyio<5,>=3.5.0->groq) (3.4)\n",
      "Requirement already satisfied: certifi in c:\\users\\admin\\anaconda3\\lib\\site-packages (from httpx<1,>=0.23.0->groq) (2024.2.2)\n",
      "Requirement already satisfied: httpcore==1.* in c:\\users\\admin\\anaconda3\\lib\\site-packages (from httpx<1,>=0.23.0->groq) (1.0.7)\n",
      "Requirement already satisfied: h11<0.15,>=0.13 in c:\\users\\admin\\anaconda3\\lib\\site-packages (from httpcore==1.*->httpx<1,>=0.23.0->groq) (0.14.0)\n",
      "Requirement already satisfied: annotated-types>=0.6.0 in c:\\users\\admin\\anaconda3\\lib\\site-packages (from pydantic<3,>=1.9.0->groq) (0.7.0)\n",
      "Requirement already satisfied: pydantic-core==2.27.2 in c:\\users\\admin\\anaconda3\\lib\\site-packages (from pydantic<3,>=1.9.0->groq) (2.27.2)\n"
     ]
    }
   ],
   "source": [
    "!pip install groq"
   ]
  },
  {
   "cell_type": "code",
   "execution_count": 27,
   "id": "aad3ee71-7d65-40b9-85b8-7e8208ed982c",
   "metadata": {},
   "outputs": [
    {
     "name": "stdout",
     "output_type": "stream",
     "text": [
      "Requirement already satisfied: langchain-groq in c:\\users\\admin\\anaconda3\\lib\\site-packages (0.2.2)\n",
      "Requirement already satisfied: groq<1,>=0.4.1 in c:\\users\\admin\\anaconda3\\lib\\site-packages (from langchain-groq) (0.13.1)\n",
      "Requirement already satisfied: langchain-core<0.4.0,>=0.3.27 in c:\\users\\admin\\anaconda3\\lib\\site-packages (from langchain-groq) (0.3.28)\n",
      "Requirement already satisfied: anyio<5,>=3.5.0 in c:\\users\\admin\\anaconda3\\lib\\site-packages (from groq<1,>=0.4.1->langchain-groq) (4.2.0)\n",
      "Requirement already satisfied: distro<2,>=1.7.0 in c:\\users\\admin\\anaconda3\\lib\\site-packages (from groq<1,>=0.4.1->langchain-groq) (1.8.0)\n",
      "Requirement already satisfied: httpx<1,>=0.23.0 in c:\\users\\admin\\anaconda3\\lib\\site-packages (from groq<1,>=0.4.1->langchain-groq) (0.28.1)\n",
      "Requirement already satisfied: pydantic<3,>=1.9.0 in c:\\users\\admin\\anaconda3\\lib\\site-packages (from groq<1,>=0.4.1->langchain-groq) (2.10.4)\n",
      "Requirement already satisfied: sniffio in c:\\users\\admin\\anaconda3\\lib\\site-packages (from groq<1,>=0.4.1->langchain-groq) (1.3.0)\n",
      "Requirement already satisfied: typing-extensions<5,>=4.10 in c:\\users\\admin\\anaconda3\\lib\\site-packages (from groq<1,>=0.4.1->langchain-groq) (4.12.2)\n",
      "Requirement already satisfied: PyYAML>=5.3 in c:\\users\\admin\\anaconda3\\lib\\site-packages (from langchain-core<0.4.0,>=0.3.27->langchain-groq) (6.0.1)\n",
      "Requirement already satisfied: jsonpatch<2.0,>=1.33 in c:\\users\\admin\\anaconda3\\lib\\site-packages (from langchain-core<0.4.0,>=0.3.27->langchain-groq) (1.33)\n",
      "Requirement already satisfied: langsmith<0.3,>=0.1.125 in c:\\users\\admin\\anaconda3\\lib\\site-packages (from langchain-core<0.4.0,>=0.3.27->langchain-groq) (0.2.6)\n",
      "Requirement already satisfied: packaging<25,>=23.2 in c:\\users\\admin\\anaconda3\\lib\\site-packages (from langchain-core<0.4.0,>=0.3.27->langchain-groq) (24.2)\n",
      "Requirement already satisfied: tenacity!=8.4.0,<10.0.0,>=8.1.0 in c:\\users\\admin\\anaconda3\\lib\\site-packages (from langchain-core<0.4.0,>=0.3.27->langchain-groq) (8.2.2)\n",
      "Requirement already satisfied: idna>=2.8 in c:\\users\\admin\\anaconda3\\lib\\site-packages (from anyio<5,>=3.5.0->groq<1,>=0.4.1->langchain-groq) (3.4)\n",
      "Requirement already satisfied: certifi in c:\\users\\admin\\anaconda3\\lib\\site-packages (from httpx<1,>=0.23.0->groq<1,>=0.4.1->langchain-groq) (2024.2.2)\n",
      "Requirement already satisfied: httpcore==1.* in c:\\users\\admin\\anaconda3\\lib\\site-packages (from httpx<1,>=0.23.0->groq<1,>=0.4.1->langchain-groq) (1.0.7)\n",
      "Requirement already satisfied: h11<0.15,>=0.13 in c:\\users\\admin\\anaconda3\\lib\\site-packages (from httpcore==1.*->httpx<1,>=0.23.0->groq<1,>=0.4.1->langchain-groq) (0.14.0)\n",
      "Requirement already satisfied: jsonpointer>=1.9 in c:\\users\\admin\\anaconda3\\lib\\site-packages (from jsonpatch<2.0,>=1.33->langchain-core<0.4.0,>=0.3.27->langchain-groq) (2.1)\n",
      "Requirement already satisfied: orjson<4.0.0,>=3.9.14 in c:\\users\\admin\\anaconda3\\lib\\site-packages (from langsmith<0.3,>=0.1.125->langchain-core<0.4.0,>=0.3.27->langchain-groq) (3.10.12)\n",
      "Requirement already satisfied: requests<3,>=2 in c:\\users\\admin\\anaconda3\\lib\\site-packages (from langsmith<0.3,>=0.1.125->langchain-core<0.4.0,>=0.3.27->langchain-groq) (2.31.0)\n",
      "Requirement already satisfied: requests-toolbelt<2.0.0,>=1.0.0 in c:\\users\\admin\\anaconda3\\lib\\site-packages (from langsmith<0.3,>=0.1.125->langchain-core<0.4.0,>=0.3.27->langchain-groq) (1.0.0)\n",
      "Requirement already satisfied: annotated-types>=0.6.0 in c:\\users\\admin\\anaconda3\\lib\\site-packages (from pydantic<3,>=1.9.0->groq<1,>=0.4.1->langchain-groq) (0.7.0)\n",
      "Requirement already satisfied: pydantic-core==2.27.2 in c:\\users\\admin\\anaconda3\\lib\\site-packages (from pydantic<3,>=1.9.0->groq<1,>=0.4.1->langchain-groq) (2.27.2)\n",
      "Requirement already satisfied: charset-normalizer<4,>=2 in c:\\users\\admin\\anaconda3\\lib\\site-packages (from requests<3,>=2->langsmith<0.3,>=0.1.125->langchain-core<0.4.0,>=0.3.27->langchain-groq) (2.0.4)\n",
      "Requirement already satisfied: urllib3<3,>=1.21.1 in c:\\users\\admin\\anaconda3\\lib\\site-packages (from requests<3,>=2->langsmith<0.3,>=0.1.125->langchain-core<0.4.0,>=0.3.27->langchain-groq) (2.0.7)\n"
     ]
    }
   ],
   "source": [
    "!pip install langchain-groq"
   ]
  },
  {
   "cell_type": "code",
   "execution_count": 28,
   "id": "32c32f6d-ff83-4fe8-8f0b-666734c65348",
   "metadata": {},
   "outputs": [],
   "source": [
    "from groq import Groq"
   ]
  },
  {
   "cell_type": "code",
   "execution_count": 29,
   "id": "01638a7f-1bd4-4de0-b705-f22c13dd8e46",
   "metadata": {},
   "outputs": [
    {
     "name": "stdout",
     "output_type": "stream",
     "text": [
      "Requirement already satisfied: python-dotenv in c:\\users\\admin\\anaconda3\\lib\\site-packages (0.21.0)\n"
     ]
    }
   ],
   "source": [
    "!pip install python-dotenv"
   ]
  },
  {
   "cell_type": "code",
   "execution_count": 30,
   "id": "9b8eee0c-0431-4736-8f09-2b9a12f69248",
   "metadata": {},
   "outputs": [],
   "source": [
    "with open('.env', 'w') as f:\n",
    "  f.write('GROQ_API_KEY=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')"
   ]
  },
  {
   "cell_type": "code",
   "execution_count": 31,
   "id": "1292fa8b-187a-4085-8aeb-3090d5e905fc",
   "metadata": {},
   "outputs": [
    {
     "data": {
      "text/plain": [
       "True"
      ]
     },
     "execution_count": 31,
     "metadata": {},
     "output_type": "execute_result"
    }
   ],
   "source": [
    "from dotenv import load_dotenv\n",
    "load_dotenv()"
   ]
  },
  {
   "cell_type": "code",
   "execution_count": 32,
   "id": "24a7da76-b034-4cb8-8b60-187e9b2ab203",
   "metadata": {},
   "outputs": [],
   "source": [
    "import os\n",
    "client = Groq(api_key=os.getenv('GROQ_API_KEY'))"
   ]
  },
  {
   "cell_type": "code",
   "execution_count": 33,
   "id": "3a6f59fc-c641-4a54-ad23-e644094a92b8",
   "metadata": {},
   "outputs": [],
   "source": [
    "from langchain_groq import ChatGroq"
   ]
  },
  {
   "cell_type": "code",
   "execution_count": 34,
   "id": "ef39d483-7178-458f-9fda-10eff3288258",
   "metadata": {},
   "outputs": [],
   "source": [
    "llm = ChatGroq(model_name='llama3-70b-8192')"
   ]
  },
  {
   "cell_type": "code",
   "execution_count": 35,
   "id": "ab7ca53a-96dd-42b2-aec2-d0f22c3293cb",
   "metadata": {},
   "outputs": [],
   "source": [
    "query = \"How many days are in January?\""
   ]
  },
  {
   "cell_type": "code",
   "execution_count": 36,
   "id": "450e67c4-dd9c-4919-81be-9c1e5e1a9aad",
   "metadata": {},
   "outputs": [
    {
     "data": {
      "text/plain": [
       "AIMessage(content='There are 31 days in January.', additional_kwargs={}, response_metadata={'token_usage': {'completion_tokens': 9, 'prompt_tokens': 17, 'total_tokens': 26, 'completion_time': 0.027175767, 'prompt_time': 0.004800209, 'queue_time': 0.085499608, 'total_time': 0.031975976}, 'model_name': 'llama3-70b-8192', 'system_fingerprint': 'fp_2f30b0b571', 'finish_reason': 'stop', 'logprobs': None}, id='run-6e2f156d-406c-4115-bf34-643fa0ce6320-0', usage_metadata={'input_tokens': 17, 'output_tokens': 9, 'total_tokens': 26})"
      ]
     },
     "execution_count": 36,
     "metadata": {},
     "output_type": "execute_result"
    }
   ],
   "source": [
    "llm.invoke(query)"
   ]
  },
  {
   "cell_type": "code",
   "execution_count": 38,
   "id": "87275d72-923a-4ab5-9f60-ce8328f97a85",
   "metadata": {},
   "outputs": [],
   "source": [
    "from langchain.chains import RetrievalQA"
   ]
  },
  {
   "cell_type": "code",
   "execution_count": 39,
   "id": "fc699236-e5d0-46b7-8ab0-7b66b9c72e1e",
   "metadata": {},
   "outputs": [],
   "source": [
    "from langchain.prompts import PromptTemplate"
   ]
  },
  {
   "cell_type": "code",
   "execution_count": 40,
   "id": "d6a9a8ad-03b8-46cf-ba01-4318d8bafbb4",
   "metadata": {},
   "outputs": [],
   "source": [
    "prompt_template = '''\n",
    "Hello! I'm here to assist you. 😊\n",
    "\n",
    "{context}\n",
    "{question}\n",
    "'''"
   ]
  },
  {
   "cell_type": "code",
   "execution_count": 41,
   "id": "939c4c07-5d33-4156-b925-256a8e2406b8",
   "metadata": {},
   "outputs": [],
   "source": [
    "prompt = PromptTemplate(template =prompt_template,input_variables=['context','question'] )"
   ]
  },
  {
   "cell_type": "code",
   "execution_count": 42,
   "id": "75afcd16-7c3c-418e-a1e1-e79532e4a195",
   "metadata": {},
   "outputs": [],
   "source": [
    "qa = RetrievalQA.from_chain_type(llm=llm,\n",
    "                                 chain_type='stuff',\n",
    "                                 retriever=retriever,\n",
    "                                 chain_type_kwargs={'prompt':prompt},\n",
    "                                 return_source_documents=True\n",
    "\n",
    ")"
   ]
  },
  {
   "cell_type": "code",
   "execution_count": 43,
   "id": "d978ef25-333f-4ac5-895c-dc28b209dbfa",
   "metadata": {},
   "outputs": [],
   "source": [
    "query = \"How many sections are there in the cs?\""
   ]
  },
  {
   "cell_type": "code",
   "execution_count": 44,
   "id": "ee5c8f49-89de-438d-8943-5444c3a43347",
   "metadata": {},
   "outputs": [],
   "source": [
    "result = qa.invoke(query)"
   ]
  },
  {
   "cell_type": "code",
   "execution_count": 45,
   "id": "c4816ce9-1f16-43be-9cec-ff577b249faf",
   "metadata": {},
   "outputs": [
    {
     "data": {
      "text/plain": [
       "'😊 There are 10 sections in the CS (Computer Science and Information Technology) syllabus:\\n\\n1. Engineering Mathematics\\n2. Digital Logic\\n3. Computer Organization and Architecture\\n4. Programming and Data Structures\\n5. Algorithms\\n6. Theory of Computation\\n7. Compiler Design\\n8. Operating System\\n9. Databases\\n10. Computer Networks'"
      ]
     },
     "execution_count": 45,
     "metadata": {},
     "output_type": "execute_result"
    }
   ],
   "source": [
    "result['result']"
   ]
  },
  {
   "cell_type": "code",
   "execution_count": 46,
   "id": "dc88e64b-900f-4322-a472-2cb44d3a45ce",
   "metadata": {},
   "outputs": [
    {
     "name": "stdout",
     "output_type": "stream",
     "text": [
      "😊 There are 10 sections in the CS (Computer Science and Information Technology) syllabus:\n",
      "\n",
      "1. Engineering Mathematics\n",
      "2. Digital Logic\n",
      "3. Computer Organization and Architecture\n",
      "4. Programming and Data Structures\n",
      "5. Algorithms\n",
      "6. Theory of Computation\n",
      "7. Compiler Design\n",
      "8. Operating System\n",
      "9. Databases\n",
      "10. Computer Networks\n"
     ]
    }
   ],
   "source": [
    "print(result['result'])"
   ]
  },
  {
   "cell_type": "code",
   "execution_count": 47,
   "id": "13633ad4-2f91-4469-bf0d-e8a05f7f317a",
   "metadata": {},
   "outputs": [
    {
     "data": {
      "text/plain": [
       "dict"
      ]
     },
     "execution_count": 47,
     "metadata": {},
     "output_type": "execute_result"
    }
   ],
   "source": [
    "type(result)"
   ]
  },
  {
   "cell_type": "code",
   "execution_count": 48,
   "id": "dd9ef480-f6c0-4703-99f1-d23c2c44cdd6",
   "metadata": {},
   "outputs": [
    {
     "data": {
      "text/plain": [
       "'😊 There are 10 sections in the CS (Computer Science and Information Technology) syllabus:\\n\\n1. Engineering Mathematics\\n2. Digital Logic\\n3. Computer Organization and Architecture\\n4. Programming and Data Structures\\n5. Algorithms\\n6. Theory of Computation\\n7. Compiler Design\\n8. Operating System\\n9. Databases\\n10. Computer Networks'"
      ]
     },
     "execution_count": 48,
     "metadata": {},
     "output_type": "execute_result"
    }
   ],
   "source": [
    "result['result']"
   ]
  },
  {
   "cell_type": "code",
   "execution_count": 49,
   "id": "cabab9cd-0c3d-4f02-bdb1-dc2479e6c14a",
   "metadata": {},
   "outputs": [],
   "source": [
    "from langchain.memory import ConversationBufferMemory"
   ]
  },
  {
   "cell_type": "code",
   "execution_count": 50,
   "id": "f177a359-9052-42e4-9eab-9259cabf091f",
   "metadata": {},
   "outputs": [],
   "source": [
    "from langchain.chains import ConversationalRetrievalChain"
   ]
  },
  {
   "cell_type": "code",
   "execution_count": 51,
   "id": "4831239d-8906-490b-a5ee-809f58cd3b6b",
   "metadata": {},
   "outputs": [
    {
     "name": "stderr",
     "output_type": "stream",
     "text": [
      "C:\\Users\\admin\\AppData\\Local\\Temp\\ipykernel_2240\\3530442207.py:1: LangChainDeprecationWarning: Please see the migration guide at: https://python.langchain.com/docs/versions/migrating_memory/\n",
      "  memory = ConversationBufferMemory(memory_key='chat_history', return_messages=False)\n"
     ]
    }
   ],
   "source": [
    "memory = ConversationBufferMemory(memory_key='chat_history', return_messages=False)"
   ]
  },
  {
   "cell_type": "code",
   "execution_count": 52,
   "id": "9fc71af8-8693-408c-989a-b5f5940d8168",
   "metadata": {},
   "outputs": [],
   "source": [
    "qa = ConversationalRetrievalChain.from_llm(llm=llm,\n",
    "                                           memory=memory,\n",
    "                                           return_source_documents=True,\n",
    "                                           retriever = retriever)"
   ]
  },
  {
   "cell_type": "code",
   "execution_count": 95,
   "id": "306f7e06-3177-404b-bde6-6e615a962334",
   "metadata": {},
   "outputs": [],
   "source": [
    "qa = RetrievalQA.from_chain_type(llm=llm,\n",
    "                               chain_type='stuff',\n",
    "                               retriever=retriever,\n",
    "                               chain_type_kwargs={'prompt':prompt},\n",
    "                               return_source_documents=True\n",
    ")"
   ]
  },
  {
   "cell_type": "code",
   "execution_count": 96,
   "id": "dd27010a-44cc-43d9-831b-dbac18a900dc",
   "metadata": {},
   "outputs": [],
   "source": [
    "query = \"explain in detail about sections in cs\""
   ]
  },
  {
   "cell_type": "code",
   "execution_count": 98,
   "id": "73bee867-17df-4327-90e0-593b140f40fa",
   "metadata": {},
   "outputs": [
    {
     "data": {
      "text/plain": [
       "{'result': \"I'd be happy to explain each section in detail.\\n\\n**Section 1: Engineering Mathematics**\\n\\nThis section covers the mathematical foundations of Computer Science and Information Technology. It includes:\\n\\n* **Discrete Mathematics**:\\n\\t+ Propositional and first-order logic: These are the basics of logical reasoning and are used to represent and manipulate logical statements.\\n\\t+ Sets, relations, functions, partial orders, and lattices: These concepts are essential for understanding data structures and algorithms.\\n\\t+ Monoids and groups: These algebraic structures are used in various areas of computer science, such as coding theory and cryptography.\\n\\t+ Graphs: This includes graph connectivity, matching, and coloring, which are crucial in computer networks, data structures, and algorithms.\\n\\t+ Combinatorics: This involves counting, recurrence relations, and generating functions, which are used in algorithm design and analysis.\\n* **Linear Algebra**:\\n\\t+ Matrices, determinants, and system of linear equations: These are essential for solving systems of equations and are used in many areas of computer science, such as machine learning and computer vision.\\n\\t+ Eigenvalues and eigenvectors: These are used in many applications, including image compression, data analysis, and machine learning.\\n\\t+ LU decomposition: This is a method for solving systems of linear equations and is used in many areas of computer science.\\n* **Calculus**:\\n\\t+ Limits, continuity, and differentiability: These are the foundations of calculus and are used in many areas of computer science, such as optimization and machine learning.\\n\\t+ Maxima and minima: These are used in optimization problems and are essential in many areas of computer science.\\n\\t+ Mean value theorem: This is a fundamental theorem in calculus and is used in many applications.\\n\\t+ Integration: This is a fundamental concept in calculus and is used in many areas of computer science, such as computer graphics and machine learning.\\n* **Probability and Statistics**:\\n\\t+ Random variables: These are used to model uncertain events and are essential in many areas of computer science, such as machine learning and data analysis.\\n\\t+ Uniform, normal, exponential, Poisson, and binomial distributions: These are common probability distributions used in many applications.\\n\\t+ Mean, median, mode, and standard deviation: These are statistical measures used to describe data.\\n\\t+ Conditional probability and Bayes' theorem: These are used in machine learning, data analysis, and decision-making.\\n\\n**Section 2: Digital Logic**\\n\\nThis section covers the basics of digital logic, which is essential for designing and building digital computers. It includes:\\n\\n* **Boolean Algebra**: This is a mathematical system for manipulating logical statements and is used to design digital circuits.\\n* **Combinational and Sequential Circuits**: These are the basic building blocks of digital computers and are used to implement logical operations.\\n* **Minimization**: This is the process of reducing the complexity of digital circuits and is essential for designing efficient digital systems.\\n* **Number Representations and Computer Arithmetic**: This includes fixed-point and floating-point representations, which are used to represent numbers in digital computers.\\n\\n**Section 3: Computer Organization and Architecture**\\n\\nThis section covers the organization and architecture of digital computers. It includes:\\n\\n* **Machine Instructions and Addressing Modes**: These are the basic instructions that a computer can execute and are used to access memory.\\n* **ALU, Data-Path, and Control Unit**: These are the components of a digital computer that perform arithmetic and logical operations.\\n* **Instruction Pipelining and Pipeline Hazards**: These are techniques used to improve the performance of digital computers.\\n* **Memory Hierarchy: Cache, Main Memory, and Secondary Storage**: This includes the different levels of memory in a digital computer and how they interact.\\n* **I/O Interface (Interrupt and DMA Mode)**: This includes the interface between the computer and external devices.\\n\\n**Section 4: Programming and Data Structures**\\n\\nThis section covers the basics of programming and data structures. It includes:\\n\\n* **Programming in C**: This is a programming language that is widely used in computer science.\\n* **Recursion**: This is a programming technique used to solve problems that have a recursive structure.\\n* **Arrays, Stacks, Queues, Linked Lists, Trees, Binary Search Trees, Binary Heaps, and Graphs**: These are common data structures used in computer science.\\n\\n**Section 5: Algorithms**\\n\\nThis section covers the design and analysis of algorithms. It includes:\\n\\n* **Searching, Sorting, and Hashing**: These are common algorithms used in computer science.\\n* **Asymptotic Worst-Case Time and Space Complexity**: This is a way of analyzing the performance of algorithms.\\n* **Algorithm Design Techniques: Greedy, Dynamic Programming, and Divide-and-Conquer**: These are techniques used to design efficient algorithms.\\n* **Graph Traversals, Minimum Spanning Trees, and Shortest Paths**: These are common algorithms used in graph theory.\\n\\n**Section 6: Theory of Computation**\\n\\nThis section covers the theoretical foundations of computer science. It includes:\\n\\n* **Regular Expressions and Finite Automata**: These are used to recognize patterns in strings.\\n* **Context-Free Grammars and Push-Down Automata**: These are used to recognize patterns in strings and are essential in compiler design.\\n* **Regular and Context-Free Languages, Pumping Lemma**: These are used to study the properties of languages.\\n* **Turing Machines and Undecidability**: These are used to study the computability of problems.\\n\\n**Section 7: Compiler Design**\\n\\nThis section covers the design of compilers, which are used to translate high-level programming languages into machine code. It includes:\\n\\n* **Lexical Analysis, Parsing, and Syntax-Directed Translation**: These are the stages of the compilation process.\\n* **Runtime Environments**: These are the environments in which programs are executed.\\n* **Intermediate Code Generation**: This is the stage of the compilation process where intermediate code is generated.\\n* **Local Optimization, Data Flow Analyses: Constant Propagation, Liveness Analysis, and Common Subexpression Elimination**: These are techniques used to optimize the compilation process.\\n\\n**Section 8: Operating System**\\n\\nThis section covers the basics of operating systems, which are used to manage computer hardware and software resources. It includes:\\n\\n* **System Calls, Processes, Threads, Inter-Process Communication, Concurrency, and Synchronization**: These are the basic concepts of operating systems.\\n* **Deadlock**: This is a situation where multiple processes are blocked, waiting for each other to release resources.\\n* **CPU and I/O Scheduling**: These are techniques used to manage the allocation of CPU and I/O resources.\\n* **Memory Management and Virtual Memory**: These are techniques used to manage memory resources.\\n* **File Systems**: These are used to manage file storage and retrieval.\\n\\n**Section 9: Databases**\\n\\nThis section covers the basics of databases, which are used to store and manage data. It includes:\\n\\n* **ER-Model**: This is a data model used to represent data relationships.\\n* **Relational Model: Relational Algebra, Tuple Calculus, and SQL**: These are data models and languages used to manage relational databases.\\n* **Integrity Constraints, Normal Forms**: These are used to ensure data consistency and normalization.\\n* **File Organization, Indexing (e.g., B and B+ Trees)**: These are techniques used to optimize data retrieval.\\n* **Transactions and Concurrency Control**: These are used to manage concurrent access to data.\\n\\n**Section 10: Computer Networks**\\n\\nThis section covers the basics of computer networks, which are used to connect computers and devices together. It includes:\\n\\n* **Concept of Layering: OSI and TCP/IP Protocol Stacks**: These are the basic models used to understand computer networks.\\n* **Basics of Packet, Circuit, and Virtual Circuit-Switching**: These are techniques used to manage network communication.\\n* **Data Link Layer: Framing, Error Detection, Medium Access Control, and Ethernet Bridging**: These are techniques used to manage data transmission.\\n* **Routing Protocols: Shortest Path, Flooding, Distance Vector, and Link State Routing**: These are techniques used to manage network routing.\\n* **Fragmentation and IP Addressing, IPv4, CIDR Notation, Basics of IP Support Protocols (ARP, DHCP, ICMP), Network Address Translation (NAT)**: These are techniques used to manage network addressing and routing.\\n* **Transport Layer: Flow Control and Congestion Control, UDP, TCP**: These are techniques used to manage network transport.\\n\\nI hope this helps! Let me know if you have any further questions.\",\n",
       " 'source_documents': [Document(id='e426d287-9ec6-4895-a9bd-64cc1a8a7456', metadata={'source': 'C:/Users/admin/Downloads/cs.pdf', 'page': 0}, page_content='CS  Computer Science and Information Technology \\nSection 1: Engineering Mathematics \\nDiscrete Mathematics: Propositional and first order logic. Sets, relations, functions, partial orders \\nand lattices. Monoids, Groups. Graphs: connectivity, matching, coloring. Combinatorics: counting, \\nrecurrence relations, generating functions. \\nLinear Algebra: Matrices, determinants, system of linear equations, eigenvalues and eigenvectors, \\nLU decomposition. \\nCalculus: Limits, continuity and differentiability. Maxima and minima. Mean value theorem. \\nIntegration. \\nProbability and Statistics: Random variables. Uniform, normal, exponential, poisson and binomial \\ndistributions. Mean, median, mode and standard deviation. Conditional probability and Bayes \\ntheorem. \\nComputer Science and Information Technology \\nSection 2: Digital Logic \\nBoolean algebra. Combinational and sequential circuits. Minimization. Number representations and \\ncomputer arithmetic (fixed and floating point).'),\n",
       "  Document(id='45e2654a-cbb9-4e7e-a4b9-b4c86efee6df', metadata={'source': 'C:/Users/admin/Downloads/cs.pdf', 'page': 1}, page_content='Section 8: Operating System \\nSystem calls, processes, threads, inter‐process communication, concurrency and synchronization. \\nDeadlock. CPU and I/O scheduling. Memory management and virtual memory. File systems. \\nSection 9: Databases \\nER‐model. Relational model: relational algebra, tuple calculus, SQL. Integrity constraints, normal \\nforms. File organization, indexing (e.g., B and B+ trees). Transactions and concurrency control. \\n \\nSection 10: Computer Networks \\nConcept of layering: OSI and TCP/IP Protocol Stacks; Basics of packet,circuit and virtual circuit-\\nswitching; Data link layer: framing, error detection, Medium Access Control, Ethernet bridging; \\nRouting protocols: shortest path, flooding, distance vector and link state routing; Fragmentation \\nand IP addressing, IPv4, CIDR notation, Basics of IP support protocols (ARP, DHCP, ICMP), \\nNetwork Address Translation (NAT); Transport layer: flow control and congestion control, UDP,'),\n",
       "  Document(id='af475f00-127f-4981-8751-cc1d5f3290a7', metadata={'source': 'C:/Users/admin/Downloads/cs.pdf', 'page': 0}, page_content='computer arithmetic (fixed and floating point). \\nSection 3: Computer Organization and Architecture \\nMachine instructions and addressing modes. ALU, data‐path and control unit. Instruction \\npipelining, pipeline hazards. Memory hierarchy: cache, main memory and secondary storage; I/O \\ninterface (interrupt and DMA mode). \\nSection 4: Programming and Data Structures \\nProgramming in C. Recursion. Arrays, stacks, queues, linked lists, trees, binary search trees, \\nbinary heaps, graphs. \\nSection 5: Algorithms \\nSearching, sorting, hashing. Asymptotic worst case time and space complexity. Algorithm design \\ntechniques: greedy, dynamic programming and divide‐and‐conquer. Graph traversals, minimum \\nspanning trees, shortest paths \\nSection 6: Theory of Computation \\nRegular expressions and finite automata. Context-free grammars and push-down \\nautomata.Regular and contex-free languages, pumping lemma. Turing machines and \\nundecidability. \\nSection 7: Compiler Design'),\n",
       "  Document(id='697eb69e-3677-4054-a9b0-0e2738ec4dd0', metadata={'source': 'C:/Users/admin/Downloads/cs.pdf', 'page': 0}, page_content='undecidability. \\nSection 7: Compiler Design \\nLexical analysis, parsing, syntax-directed translation. Runtime environments. Intermediate code \\ngeneration. Local optimisation, Data flow analyses: constant propagation, liveness analysis, \\ncommon subexpression elimination.')]}"
      ]
     },
     "execution_count": 98,
     "metadata": {},
     "output_type": "execute_result"
    }
   ],
   "source": [
    "result"
   ]
  },
  {
   "cell_type": "code",
   "execution_count": 97,
   "id": "56068d1b-8648-46cb-a941-e006796fbb0f",
   "metadata": {},
   "outputs": [],
   "source": [
    "# Retrieve answer only\n",
    "result = qa.invoke(query, return_only_outputs=True)  # or specify output_key if supported"
   ]
  },
  {
   "cell_type": "code",
   "execution_count": 99,
   "id": "c01567b9-de9b-4b31-8481-1728a77eff51",
   "metadata": {},
   "outputs": [],
   "source": [
    "#answer = result.get('answer')"
   ]
  },
  {
   "cell_type": "code",
   "execution_count": 100,
   "id": "4adc381a-6aeb-4051-a823-acf4adbaab79",
   "metadata": {},
   "outputs": [],
   "source": [
    "#source_documents = result.get('source_documents')"
   ]
  },
  {
   "cell_type": "code",
   "execution_count": 101,
   "id": "a2e41bbd-abba-40b0-beb7-5b2514cee507",
   "metadata": {},
   "outputs": [
    {
     "name": "stdout",
     "output_type": "stream",
     "text": [
      "Answer: None\n"
     ]
    }
   ],
   "source": [
    "#print(\"Answer:\", answer)"
   ]
  },
  {
   "cell_type": "code",
   "execution_count": 102,
   "id": "b7afec14-0b0d-471e-9eb9-27f21803097e",
   "metadata": {},
   "outputs": [
    {
     "name": "stdout",
     "output_type": "stream",
     "text": [
      "Source Documents: [Document(id='e426d287-9ec6-4895-a9bd-64cc1a8a7456', metadata={'source': 'C:/Users/admin/Downloads/cs.pdf', 'page': 0}, page_content='CS  Computer Science and Information Technology \\nSection 1: Engineering Mathematics \\nDiscrete Mathematics: Propositional and first order logic. Sets, relations, functions, partial orders \\nand lattices. Monoids, Groups. Graphs: connectivity, matching, coloring. Combinatorics: counting, \\nrecurrence relations, generating functions. \\nLinear Algebra: Matrices, determinants, system of linear equations, eigenvalues and eigenvectors, \\nLU decomposition. \\nCalculus: Limits, continuity and differentiability. Maxima and minima. Mean value theorem. \\nIntegration. \\nProbability and Statistics: Random variables. Uniform, normal, exponential, poisson and binomial \\ndistributions. Mean, median, mode and standard deviation. Conditional probability and Bayes \\ntheorem. \\nComputer Science and Information Technology \\nSection 2: Digital Logic \\nBoolean algebra. Combinational and sequential circuits. Minimization. Number representations and \\ncomputer arithmetic (fixed and floating point).'), Document(id='45e2654a-cbb9-4e7e-a4b9-b4c86efee6df', metadata={'source': 'C:/Users/admin/Downloads/cs.pdf', 'page': 1}, page_content='Section 8: Operating System \\nSystem calls, processes, threads, inter‐process communication, concurrency and synchronization. \\nDeadlock. CPU and I/O scheduling. Memory management and virtual memory. File systems. \\nSection 9: Databases \\nER‐model. Relational model: relational algebra, tuple calculus, SQL. Integrity constraints, normal \\nforms. File organization, indexing (e.g., B and B+ trees). Transactions and concurrency control. \\n \\nSection 10: Computer Networks \\nConcept of layering: OSI and TCP/IP Protocol Stacks; Basics of packet,circuit and virtual circuit-\\nswitching; Data link layer: framing, error detection, Medium Access Control, Ethernet bridging; \\nRouting protocols: shortest path, flooding, distance vector and link state routing; Fragmentation \\nand IP addressing, IPv4, CIDR notation, Basics of IP support protocols (ARP, DHCP, ICMP), \\nNetwork Address Translation (NAT); Transport layer: flow control and congestion control, UDP,'), Document(id='af475f00-127f-4981-8751-cc1d5f3290a7', metadata={'source': 'C:/Users/admin/Downloads/cs.pdf', 'page': 0}, page_content='computer arithmetic (fixed and floating point). \\nSection 3: Computer Organization and Architecture \\nMachine instructions and addressing modes. ALU, data‐path and control unit. Instruction \\npipelining, pipeline hazards. Memory hierarchy: cache, main memory and secondary storage; I/O \\ninterface (interrupt and DMA mode). \\nSection 4: Programming and Data Structures \\nProgramming in C. Recursion. Arrays, stacks, queues, linked lists, trees, binary search trees, \\nbinary heaps, graphs. \\nSection 5: Algorithms \\nSearching, sorting, hashing. Asymptotic worst case time and space complexity. Algorithm design \\ntechniques: greedy, dynamic programming and divide‐and‐conquer. Graph traversals, minimum \\nspanning trees, shortest paths \\nSection 6: Theory of Computation \\nRegular expressions and finite automata. Context-free grammars and push-down \\nautomata.Regular and contex-free languages, pumping lemma. Turing machines and \\nundecidability. \\nSection 7: Compiler Design'), Document(id='697eb69e-3677-4054-a9b0-0e2738ec4dd0', metadata={'source': 'C:/Users/admin/Downloads/cs.pdf', 'page': 0}, page_content='undecidability. \\nSection 7: Compiler Design \\nLexical analysis, parsing, syntax-directed translation. Runtime environments. Intermediate code \\ngeneration. Local optimisation, Data flow analyses: constant propagation, liveness analysis, \\ncommon subexpression elimination.')]\n"
     ]
    }
   ],
   "source": [
    "#print(\"Source Documents:\", source_documents)"
   ]
  },
  {
   "cell_type": "code",
   "execution_count": 103,
   "id": "4fc67c89-7049-4b82-b484-94661dd267c2",
   "metadata": {},
   "outputs": [
    {
     "data": {
      "text/plain": [
       "dict"
      ]
     },
     "execution_count": 103,
     "metadata": {},
     "output_type": "execute_result"
    }
   ],
   "source": [
    "type(result)"
   ]
  },
  {
   "cell_type": "code",
   "execution_count": 104,
   "id": "e58b2f91-ed7d-43fb-98c3-7385fd57f15c",
   "metadata": {},
   "outputs": [
    {
     "name": "stdout",
     "output_type": "stream",
     "text": [
      "I'd be happy to explain each section in detail.\n",
      "\n",
      "**Section 1: Engineering Mathematics**\n",
      "\n",
      "This section covers the mathematical foundations of Computer Science and Information Technology. It includes:\n",
      "\n",
      "* **Discrete Mathematics**:\n",
      "\t+ Propositional and first-order logic: These are the basics of logical reasoning and are used to represent and manipulate logical statements.\n",
      "\t+ Sets, relations, functions, partial orders, and lattices: These concepts are essential for understanding data structures and algorithms.\n",
      "\t+ Monoids and groups: These algebraic structures are used in various areas of computer science, such as coding theory and cryptography.\n",
      "\t+ Graphs: This includes graph connectivity, matching, and coloring, which are crucial in computer networks, data structures, and algorithms.\n",
      "\t+ Combinatorics: This involves counting, recurrence relations, and generating functions, which are used in algorithm design and analysis.\n",
      "* **Linear Algebra**:\n",
      "\t+ Matrices, determinants, and system of linear equations: These are essential for solving systems of equations and are used in many areas of computer science, such as machine learning and computer vision.\n",
      "\t+ Eigenvalues and eigenvectors: These are used in many applications, including image compression, data analysis, and machine learning.\n",
      "\t+ LU decomposition: This is a method for solving systems of linear equations and is used in many areas of computer science.\n",
      "* **Calculus**:\n",
      "\t+ Limits, continuity, and differentiability: These are the foundations of calculus and are used in many areas of computer science, such as optimization and machine learning.\n",
      "\t+ Maxima and minima: These are used in optimization problems and are essential in many areas of computer science.\n",
      "\t+ Mean value theorem: This is a fundamental theorem in calculus and is used in many applications.\n",
      "\t+ Integration: This is a fundamental concept in calculus and is used in many areas of computer science, such as computer graphics and machine learning.\n",
      "* **Probability and Statistics**:\n",
      "\t+ Random variables: These are used to model uncertain events and are essential in many areas of computer science, such as machine learning and data analysis.\n",
      "\t+ Uniform, normal, exponential, Poisson, and binomial distributions: These are common probability distributions used in many applications.\n",
      "\t+ Mean, median, mode, and standard deviation: These are statistical measures used to describe data.\n",
      "\t+ Conditional probability and Bayes' theorem: These are used in machine learning, data analysis, and decision-making.\n",
      "\n",
      "**Section 2: Digital Logic**\n",
      "\n",
      "This section covers the basics of digital logic, which is essential for designing and building digital computers. It includes:\n",
      "\n",
      "* **Boolean Algebra**: This is a mathematical system for manipulating logical statements and is used to design digital circuits.\n",
      "* **Combinational and Sequential Circuits**: These are the basic building blocks of digital computers and are used to implement logical operations.\n",
      "* **Minimization**: This is the process of reducing the complexity of digital circuits and is essential for designing efficient digital systems.\n",
      "* **Number Representations and Computer Arithmetic**: This includes fixed-point and floating-point representations, which are used to represent numbers in digital computers.\n",
      "\n",
      "**Section 3: Computer Organization and Architecture**\n",
      "\n",
      "This section covers the organization and architecture of digital computers. It includes:\n",
      "\n",
      "* **Machine Instructions and Addressing Modes**: These are the basic instructions that a computer can execute and are used to access memory.\n",
      "* **ALU, Data-Path, and Control Unit**: These are the components of a digital computer that perform arithmetic and logical operations.\n",
      "* **Instruction Pipelining and Pipeline Hazards**: These are techniques used to improve the performance of digital computers.\n",
      "* **Memory Hierarchy: Cache, Main Memory, and Secondary Storage**: This includes the different levels of memory in a digital computer and how they interact.\n",
      "* **I/O Interface (Interrupt and DMA Mode)**: This includes the interface between the computer and external devices.\n",
      "\n",
      "**Section 4: Programming and Data Structures**\n",
      "\n",
      "This section covers the basics of programming and data structures. It includes:\n",
      "\n",
      "* **Programming in C**: This is a programming language that is widely used in computer science.\n",
      "* **Recursion**: This is a programming technique used to solve problems that have a recursive structure.\n",
      "* **Arrays, Stacks, Queues, Linked Lists, Trees, Binary Search Trees, Binary Heaps, and Graphs**: These are common data structures used in computer science.\n",
      "\n",
      "**Section 5: Algorithms**\n",
      "\n",
      "This section covers the design and analysis of algorithms. It includes:\n",
      "\n",
      "* **Searching, Sorting, and Hashing**: These are common algorithms used in computer science.\n",
      "* **Asymptotic Worst-Case Time and Space Complexity**: This is a way of analyzing the performance of algorithms.\n",
      "* **Algorithm Design Techniques: Greedy, Dynamic Programming, and Divide-and-Conquer**: These are techniques used to design efficient algorithms.\n",
      "* **Graph Traversals, Minimum Spanning Trees, and Shortest Paths**: These are common algorithms used in graph theory.\n",
      "\n",
      "**Section 6: Theory of Computation**\n",
      "\n",
      "This section covers the theoretical foundations of computer science. It includes:\n",
      "\n",
      "* **Regular Expressions and Finite Automata**: These are used to recognize patterns in strings.\n",
      "* **Context-Free Grammars and Push-Down Automata**: These are used to recognize patterns in strings and are essential in compiler design.\n",
      "* **Regular and Context-Free Languages, Pumping Lemma**: These are used to study the properties of languages.\n",
      "* **Turing Machines and Undecidability**: These are used to study the computability of problems.\n",
      "\n",
      "**Section 7: Compiler Design**\n",
      "\n",
      "This section covers the design of compilers, which are used to translate high-level programming languages into machine code. It includes:\n",
      "\n",
      "* **Lexical Analysis, Parsing, and Syntax-Directed Translation**: These are the stages of the compilation process.\n",
      "* **Runtime Environments**: These are the environments in which programs are executed.\n",
      "* **Intermediate Code Generation**: This is the stage of the compilation process where intermediate code is generated.\n",
      "* **Local Optimization, Data Flow Analyses: Constant Propagation, Liveness Analysis, and Common Subexpression Elimination**: These are techniques used to optimize the compilation process.\n",
      "\n",
      "**Section 8: Operating System**\n",
      "\n",
      "This section covers the basics of operating systems, which are used to manage computer hardware and software resources. It includes:\n",
      "\n",
      "* **System Calls, Processes, Threads, Inter-Process Communication, Concurrency, and Synchronization**: These are the basic concepts of operating systems.\n",
      "* **Deadlock**: This is a situation where multiple processes are blocked, waiting for each other to release resources.\n",
      "* **CPU and I/O Scheduling**: These are techniques used to manage the allocation of CPU and I/O resources.\n",
      "* **Memory Management and Virtual Memory**: These are techniques used to manage memory resources.\n",
      "* **File Systems**: These are used to manage file storage and retrieval.\n",
      "\n",
      "**Section 9: Databases**\n",
      "\n",
      "This section covers the basics of databases, which are used to store and manage data. It includes:\n",
      "\n",
      "* **ER-Model**: This is a data model used to represent data relationships.\n",
      "* **Relational Model: Relational Algebra, Tuple Calculus, and SQL**: These are data models and languages used to manage relational databases.\n",
      "* **Integrity Constraints, Normal Forms**: These are used to ensure data consistency and normalization.\n",
      "* **File Organization, Indexing (e.g., B and B+ Trees)**: These are techniques used to optimize data retrieval.\n",
      "* **Transactions and Concurrency Control**: These are used to manage concurrent access to data.\n",
      "\n",
      "**Section 10: Computer Networks**\n",
      "\n",
      "This section covers the basics of computer networks, which are used to connect computers and devices together. It includes:\n",
      "\n",
      "* **Concept of Layering: OSI and TCP/IP Protocol Stacks**: These are the basic models used to understand computer networks.\n",
      "* **Basics of Packet, Circuit, and Virtual Circuit-Switching**: These are techniques used to manage network communication.\n",
      "* **Data Link Layer: Framing, Error Detection, Medium Access Control, and Ethernet Bridging**: These are techniques used to manage data transmission.\n",
      "* **Routing Protocols: Shortest Path, Flooding, Distance Vector, and Link State Routing**: These are techniques used to manage network routing.\n",
      "* **Fragmentation and IP Addressing, IPv4, CIDR Notation, Basics of IP Support Protocols (ARP, DHCP, ICMP), Network Address Translation (NAT)**: These are techniques used to manage network addressing and routing.\n",
      "* **Transport Layer: Flow Control and Congestion Control, UDP, TCP**: These are techniques used to manage network transport.\n",
      "\n",
      "I hope this helps! Let me know if you have any further questions.\n"
     ]
    }
   ],
   "source": [
    "print(result['result'])"
   ]
  },
  {
   "cell_type": "code",
   "execution_count": 105,
   "id": "9ac1ad34-c7d2-4ada-8efc-10a48301e15c",
   "metadata": {},
   "outputs": [
    {
     "name": "stdout",
     "output_type": "stream",
     "text": [
      "* Running on local URL:  http://127.0.0.1:7868\n",
      "\n",
      "Could not create share link. Please check your internet connection or our status page: https://status.gradio.app.\n"
     ]
    },
    {
     "data": {
      "text/html": [
       "<div><iframe src=\"http://127.0.0.1:7868/\" width=\"100%\" height=\"500\" allow=\"autoplay; camera; microphone; clipboard-read; clipboard-write;\" frameborder=\"0\" allowfullscreen></iframe></div>"
      ],
      "text/plain": [
       "<IPython.core.display.HTML object>"
      ]
     },
     "metadata": {},
     "output_type": "display_data"
    },
    {
     "data": {
      "text/plain": []
     },
     "execution_count": 105,
     "metadata": {},
     "output_type": "execute_result"
    }
   ],
   "source": [
    "import gradio\n",
    "\n",
    "def get_answer(query):\n",
    "    \"\"\"\n",
    "    This function processes the query and returns an answer.\n",
    "    Modify this function to implement your specific logic for answer retrieval.\n",
    "    \"\"\"\n",
    "\n",
    "    result = qa(query)\n",
    "    answer = result['result']\n",
    "    return answer\n",
    "\n",
    "iface = gradio.Interface(\n",
    "                     fn=get_answer,\n",
    "                     inputs=gradio.Textbox(label=\"Ask a question \"),\n",
    "                     outputs=gradio.Textbox(label=\"Answer\"),\n",
    "                     live=True,\n",
    ")\n",
    "\n",
    "iface.launch(share=True)"
   ]
  }
 ],
 "metadata": {
  "kernelspec": {
   "display_name": "Python 3 (ipykernel)",
   "language": "python",
   "name": "python3"
  },
  "language_info": {
   "codemirror_mode": {
    "name": "ipython",
    "version": 3
   },
   "file_extension": ".py",
   "mimetype": "text/x-python",
   "name": "python",
   "nbconvert_exporter": "python",
   "pygments_lexer": "ipython3",
   "version": "3.11.7"
  },
  "widgets": {
   "application/vnd.jupyter.widget-state+json": {
    "state": {},
    "version_major": 2,
    "version_minor": 0
   }
  }
 },
 "nbformat": 4,
 "nbformat_minor": 5
}
